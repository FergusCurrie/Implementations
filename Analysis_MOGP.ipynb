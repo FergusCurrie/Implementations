{
 "cells": [
  {
   "cell_type": "code",
   "execution_count": 1,
   "metadata": {},
   "outputs": [],
   "source": [
    "import sys\n",
    "import os\n",
    "import pandas as pd \n",
    "import numpy as np \n",
    "from experiments.get_experiment import get_experiment\n",
    "\n",
    "job = '4082885'\n",
    "experiment_name = 'divmogp_experiment'\n",
    "exp = get_experiment(experiment_name)"
   ]
  },
  {
   "cell_type": "code",
   "execution_count": 2,
   "metadata": {},
   "outputs": [
    {
     "name": "stdout",
     "output_type": "stream",
     "text": [
      "['ORMOGP', 'GP', 'MOGP', 'NCLMOGP', 'PFMOGP']\n"
     ]
    }
   ],
   "source": [
    "from ResultHandling import ResultHandling\n",
    "RH = ResultHandling(job, experiment_name, height=10, width = 10, box_label_size=30)\n",
    "plot_labels, plots = [], []\n",
    "mns = RH.model_names\n",
    "print(mns)\n",
    "mns.remove('ORMOGP')"
   ]
  },
  {
   "cell_type": "code",
   "execution_count": 13,
   "metadata": {},
   "outputs": [],
   "source": [
    "for ds in RH.datasets:\n",
    "    plot_labels, plots = [], []\n",
    "    for model_nam in mns:\n",
    "        plots.append(RH.get_cond_data(mgen=False, train=True, model_name=model_nam, dataset_name=ds,col='full_acc'))\n",
    "        plot_labels.append(model_nam)\n",
    "    RH.box_plot(boxes=plots, labels=plot_labels, save=True, draw=False, figname=f'{job}/{job}_{ds}_train')\n",
    "\n",
    "    plot_labels, plots = [], []\n",
    "    for model_nam in mns:\n",
    "        plots.append(RH.get_cond_data(mgen=False, train=False, model_name=model_nam, dataset_name=ds,col='full_acc'))\n",
    "        plot_labels.append(model_nam)\n",
    "    RH.box_plot(boxes=plots, labels=plot_labels, save=True, draw=False, figname=f'{job}/{job}_{ds}_test')"
   ]
  },
  {
   "cell_type": "markdown",
   "metadata": {},
   "source": [
    "## "
   ]
  },
  {
   "cell_type": "code",
   "execution_count": 8,
   "metadata": {},
   "outputs": [
    {
     "data": {
      "text/plain": [
       "['GP', 'MOGP', 'NCLMOGP', 'PFMOGP']"
      ]
     },
     "execution_count": 8,
     "metadata": {},
     "output_type": "execute_result"
    }
   ],
   "source": [
    "mns"
   ]
  },
  {
   "cell_type": "code",
   "execution_count": 9,
   "metadata": {},
   "outputs": [
    {
     "data": {
      "text/plain": [
       "['cleveland',\n",
       " 'ionosphere',\n",
       " 'mammo_graphic',\n",
       " 'wisconsin_breast_cancer',\n",
       " 'australia',\n",
       " 'postop',\n",
       " 'spec']"
      ]
     },
     "execution_count": 9,
     "metadata": {},
     "output_type": "execute_result"
    }
   ],
   "source": [
    "RH.datasets"
   ]
  },
  {
   "cell_type": "code",
   "execution_count": 11,
   "metadata": {},
   "outputs": [
    {
     "data": {
      "text/plain": [
       "str"
      ]
     },
     "execution_count": 11,
     "metadata": {},
     "output_type": "execute_result"
    }
   ],
   "source": [
    "type(RH.model_names[0])"
   ]
  },
  {
   "cell_type": "code",
   "execution_count": 12,
   "metadata": {},
   "outputs": [
    {
     "data": {
      "text/plain": [
       "list"
      ]
     },
     "execution_count": 12,
     "metadata": {},
     "output_type": "execute_result"
    }
   ],
   "source": [
    "type(RH.model_names)"
   ]
  },
  {
   "cell_type": "code",
   "execution_count": null,
   "metadata": {},
   "outputs": [],
   "source": []
  }
 ],
 "metadata": {
  "kernelspec": {
   "display_name": "Python 3",
   "language": "python",
   "name": "python3"
  },
  "language_info": {
   "codemirror_mode": {
    "name": "ipython",
    "version": 3
   },
   "file_extension": ".py",
   "mimetype": "text/x-python",
   "name": "python",
   "nbconvert_exporter": "python",
   "pygments_lexer": "ipython3",
   "version": "3.9.12"
  }
 },
 "nbformat": 4,
 "nbformat_minor": 4
}
