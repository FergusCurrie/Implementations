{
 "cells": [
  {
   "cell_type": "markdown",
   "metadata": {},
   "source": [
    "# X"
   ]
  },
  {
   "cell_type": "code",
   "execution_count": 1,
   "metadata": {},
   "outputs": [],
   "source": [
    "import pandas as pd \n",
    "import numpy as np\n",
    "import os \n",
    "import sys \n",
    "target_job = '4080640'\n",
    "from code.data_processing import get_data\n",
    "from itertools import chain\n"
   ]
  },
  {
   "cell_type": "code",
   "execution_count": 11,
   "metadata": {},
   "outputs": [],
   "source": [
    "# Load stats dataframes per seeds into dfs\n",
    "fns = [f'results_file/{target_job}/'+fn+'/' for fn in os.listdir(f'results_file/{target_job}/')]\n",
    "dfs = [pd.read_csv(outer+inner) for outer in fns for inner in os.listdir(outer) if 'experiment' in inner]"
   ]
  },
  {
   "cell_type": "code",
   "execution_count": 12,
   "metadata": {},
   "outputs": [
    {
     "name": "stdout",
     "output_type": "stream",
     "text": [
      "['dog', None, None]\n"
     ]
    }
   ],
   "source": [
    "# \n",
    "animals = ['dog', 'cat', 'rabbit']\n",
    "print([x if x=='dog' else None for x in animals]) "
   ]
  },
  {
   "cell_type": "code",
   "execution_count": 13,
   "metadata": {},
   "outputs": [
    {
     "name": "stdout",
     "output_type": "stream",
     "text": [
      "['cat', 'rabbit']\n"
     ]
    }
   ],
   "source": [
    "# \n",
    "animals = ['dog', 'cat', 'rabbit']\n",
    "print([x for x in animals if x != 'dog']) "
   ]
  },
  {
   "cell_type": "code",
   "execution_count": null,
   "metadata": {},
   "outputs": [],
   "source": []
  }
 ],
 "metadata": {
  "kernelspec": {
   "display_name": "Python 3",
   "language": "python",
   "name": "python3"
  },
  "language_info": {
   "codemirror_mode": {
    "name": "ipython",
    "version": 3
   },
   "file_extension": ".py",
   "mimetype": "text/x-python",
   "name": "python",
   "nbconvert_exporter": "python",
   "pygments_lexer": "ipython3",
   "version": "3.9.10"
  }
 },
 "nbformat": 4,
 "nbformat_minor": 4
}
