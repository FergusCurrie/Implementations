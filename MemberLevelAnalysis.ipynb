{
 "cells": [
  {
   "cell_type": "markdown",
   "metadata": {},
   "source": [
    "Dealing with scoring. Will convert to scripts later \n",
    "\n",
    "\n",
    "- must check that size of y and size of scoring file the same\n",
    "- "
   ]
  },
  {
   "cell_type": "markdown",
   "metadata": {},
   "source": [
    "# This jupyter file has code for all graphs and tables at the member level"
   ]
  },
  {
   "cell_type": "code",
   "execution_count": 1,
   "metadata": {},
   "outputs": [],
   "source": [
    "import sys\n",
    "import os\n",
    "\n",
    "import pandas as pd \n",
    "import numpy as np\n",
    "job = 'bagboost'\n",
    "from code.data_processing import get_data\n",
    "y = None\n",
    "import seaborn as sns\n",
    "from code.decision_fusion.voting import majority_voting"
   ]
  },
  {
   "cell_type": "code",
   "execution_count": 2,
   "metadata": {},
   "outputs": [],
   "source": [
    "from code.data_processing import get_all_datasets\n",
    "all_datasets = get_all_datasets()\n",
    "datasets = {}\n",
    "for d in all_datasets:\n",
    "    datasets[d] = get_data(d)"
   ]
  },
  {
   "cell_type": "markdown",
   "metadata": {},
   "source": [
    "First some kind of measure of how dominant a single classifier is "
   ]
  },
  {
   "cell_type": "markdown",
   "metadata": {},
   "source": [
    "# Functions to deal with dataset"
   ]
  },
  {
   "cell_type": "code",
   "execution_count": 3,
   "metadata": {},
   "outputs": [],
   "source": [
    "# load a single seed of a task with ypred vs observation \n",
    "def load_scoring(fn : str) -> np.array: \n",
    "    assert('.csv' in fn)\n",
    "    x = pd.read_csv(fn).transpose().to_numpy()\n",
    "    assert(len(x.shape) == 2)\n",
    "    return x "
   ]
  },
  {
   "cell_type": "code",
   "execution_count": 4,
   "metadata": {},
   "outputs": [],
   "source": [
    "# load each scoring dataframe for each seed\n",
    "def load_all_scoring(path : str, training=True) -> np.array: \n",
    "    F = []\n",
    "    for x in os.listdir(path):\n",
    "        if (not '.csv' in x):\n",
    "            continue \n",
    "        if training:\n",
    "            if (not 'training' in x):\n",
    "                continue\n",
    "        else:\n",
    "            if (not 'test' in x):\n",
    "                continue\n",
    "        F.append(load_scoring(path+'/'+x))\n",
    "                \n",
    "    return np.array(F)"
   ]
  },
  {
   "cell_type": "code",
   "execution_count": 5,
   "metadata": {},
   "outputs": [],
   "source": [
    "# get accuracy of a single member vector on y\n",
    "def acc_member(X : np.array) -> np.array: # gets the same X for each m ember \n",
    "    assert(len(X.shape) == 1)\n",
    "    assert(len(y) == len(X))\n",
    "    \n",
    "    correct = 0\n",
    "    for i in range(len(y)):\n",
    "        if y[i] == X[i]: # fail here \n",
    "            correct += 1\n",
    "    return correct / len(X)"
   ]
  },
  {
   "cell_type": "code",
   "execution_count": 6,
   "metadata": {},
   "outputs": [],
   "source": [
    "# get accuracy of a single seed\n",
    "def acc_seed(X : np.array) -> np.array:\n",
    "    assert(len(X.shape) == 2)\n",
    "    r = np.zeros(X.shape[0])\n",
    "    for i in range(X.shape[0]):\n",
    "        r[i] = acc_member(X[i])\n",
    "    return r"
   ]
  },
  {
   "cell_type": "code",
   "execution_count": 7,
   "metadata": {},
   "outputs": [],
   "source": [
    "# get accuracy over all seeds\n",
    "def acc_task(X : np.array) -> list: # list not dict for now \n",
    "    assert(len(X.shape) == 3)\n",
    "    r = []\n",
    "    for i in range(X.shape[0]):\n",
    "        r.append(acc_seed(X[i]))\n",
    "    return r"
   ]
  },
  {
   "cell_type": "code",
   "execution_count": null,
   "metadata": {},
   "outputs": [],
   "source": []
  },
  {
   "cell_type": "markdown",
   "metadata": {},
   "source": [
    "# Preparing datastrucutre of scoring. dictionary : task -> (scoring : np.array, y : np.array)"
   ]
  },
  {
   "cell_type": "code",
   "execution_count": 83,
   "metadata": {},
   "outputs": [],
   "source": [
    "from sklearn.model_selection import train_test_split\n",
    "def get_ytrain(j, t, training=True):\n",
    "    dns = get_all_datasets()\n",
    "    with open(f'results_file/{j}/{t}/4082125_{t}_info.txt') as f:\n",
    "        data = f.read()\n",
    "    for dn in dns:\n",
    "        if dn in data:\n",
    "            X, y = get_data(dn)\n",
    "            seed = 169 * int(t)\n",
    "            _, _, y_train, y_test = train_test_split(X, y, test_size=0.3, random_state=seed, stratify=y)\n",
    "            if training:\n",
    "                return y_train\n",
    "            else:\n",
    "                return y_test\n",
    "\n",
    "# LOAD\n",
    "max_nmembers = -1\n",
    "all_scoring = {}\n",
    "for task in os.listdir(f'results_file/{job}'):\n",
    "    # Not all done\n",
    "    if len(os.listdir(f'results_file/{job}/{task}')) <= 1:\n",
    "        print(f'conintued {task}')\n",
    "        continue \n",
    "    # Otherwise load it \n",
    "    scoring_task = load_all_scoring(f'results_file/{job}/{task}/scoring/', training=False) # (# seeds, # members in ensemble, # observatins)\n",
    "    y = get_ytrain(job, task, training=False)\n",
    "    all_scoring[task] = (scoring_task, y)"
   ]
  },
  {
   "cell_type": "markdown",
   "metadata": {},
   "source": [
    "# Model Agreement"
   ]
  },
  {
   "cell_type": "code",
   "execution_count": 17,
   "metadata": {},
   "outputs": [],
   "source": [
    "def agreement(v1 : np.array, v2 : np.array) -> np.array:\n",
    "    agreement = []\n",
    "    for i in range(len(v1)):\n",
    "        if v1[i] == v2[i]:\n",
    "            agreement.append(1)\n",
    "        else:\n",
    "            agreement.append(0)\n",
    "    return np.array(agreement)"
   ]
  },
  {
   "cell_type": "code",
   "execution_count": 80,
   "metadata": {},
   "outputs": [],
   "source": [
    "def pairwise_agreement(X : np.array):\n",
    "    assert(len(X.shape) == 2)\n",
    "    assert(X.shape[0] > X.shape[1]) # make sure columns are on the y\n",
    "    \n",
    "    # Create large numpy vector with (n_members + 1 + 1, n_datapoints) where thes 1s correspond to ypred and ens_pred\n",
    "    temp = np.ones((X.shape[0], X.shape[1] + 2))\n",
    "    ens_pred = majority_voting(X.transpose())\n",
    "    \n",
    "    temp[:, :X.shape[1]] = X # up to third room from end is input\n",
    "    temp[:, X.shape[1]] = ens_pred # second row from end is ens pred \n",
    "    temp[:, X.shape[1]+1] = y # final row from end is ens pred \n",
    "    \n",
    "    # Pairwise\n",
    "    full = []\n",
    "    by_member = {}\n",
    "    for t1 in temp.transpose():\n",
    "        for t2 in temp.transpose():\n",
    "            full.append(agreement(t1, t2))\n",
    "    \n",
    "    return np.array(full)"
   ]
  },
  {
   "cell_type": "code",
   "execution_count": 124,
   "metadata": {},
   "outputs": [
    {
     "data": {
      "image/png": "[encoded data removed]",
      "text/plain": [
       "<Figure size 792x792 with 2 Axes>"
      ]
     },
     "metadata": {
      "needs_background": "light"
     },
     "output_type": "display_data"
    }
   ],
   "source": [
    "target_task='11'\n",
    "dsnp, y = all_scoring['11']\n",
    "dsnp = dsnp[0].transpose() # look at first seed - tranpose bit icky\n",
    "pw = pairwise_agreement(dsnp)\n",
    "agre = np.sum(pw, axis=1) / len(y) # sum across data points \n",
    "#agre = (agre - np.min(agre)) / (np.max(agre) - np.min(agre)) # normalise\n",
    "agre = agre.reshape(7,7) - 0.5\n",
    "mask = np.triu(np.ones_like(agre, dtype=bool))\n",
    "T= ['m1','m2','m3','m4','m5','ensemble','ytrue']\n",
    "\n",
    "f, ax = plt.subplots(figsize=(11, 11))\n",
    "cmap = sns.diverging_palette(230, 20, as_cmap=True, center='light')\n",
    "sns.heatmap(agre, cmap=cmap, center=0, annot=True, square=True, linewidths=.5, cbar_kws={\"shrink\": .5},xticklabels=T,yticklabels=T)\n",
    "plt.savefig(f'prepared_results/agreement_heatmap/heatmap_job{job}_task{task}.png')"
   ]
  },
  {
   "cell_type": "markdown",
   "metadata": {},
   "source": [
    "# Generating a metric for domination\n",
    "- m1 different across seed\n",
    "- num models different models, possibly within model (niche)"
   ]
  },
  {
   "cell_type": "code",
   "execution_count": 111,
   "metadata": {},
   "outputs": [],
   "source": [
    "# going to just look at distributioin of agreement ratios i think"
   ]
  },
  {
   "cell_type": "code",
   "execution_count": null,
   "metadata": {},
   "outputs": [],
   "source": []
  }
 ],
 "metadata": {
  "kernelspec": {
   "display_name": "Python 3",
   "language": "python",
   "name": "python3"
  },
  "language_info": {
   "codemirror_mode": {
    "name": "ipython",
    "version": 3
   },
   "file_extension": ".py",
   "mimetype": "text/x-python",
   "name": "python",
   "nbconvert_exporter": "python",
   "pygments_lexer": "ipython3",
   "version": "3.9.12"
  }
 },
 "nbformat": 4,
 "nbformat_minor": 4
}
