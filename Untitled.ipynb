{
 "cells": [
  {
   "cell_type": "code",
   "execution_count": null,
   "metadata": {},
   "outputs": [],
   "source": []
  },
  {
   "cell_type": "code",
   "execution_count": 1,
   "metadata": {},
   "outputs": [],
   "source": [
    "z= ['|--- feature_10 <= 1.50', '||--- feature_11 <= 1.50', '|||--- feature_8 <= 0.50', '||||--- class: 0.0', '|||--- feature_8 > 0.50', '||||--- class: 1.0', '||--- feature_11 > 1.50', '|||--- feature_4 <= 234.00', '||||--- class: 1.0', '|||--- feature_4 > 234.00', '||||--- feature_8 <= 0.50', '|||||--- class: 0.0', '||||--- feature_8 > 0.50', '|||||--- class: 1.0', '|--- feature_10 > 1.50', '||--- feature_7 <= 174.50', '|||--- feature_2 <= 3.50', '||||--- feature_1 <= 0.50', '|||||--- class: 1.0', '||||--- feature_1 > 0.50', '|||||--- feature_11 <= 0.50', '||||||--- class: 0.0', '|||||--- feature_11 > 0.50', '||||||--- class: 1.0', '|||--- feature_2 > 3.50', '||||--- feature_9 <= 0.80', '|||||--- feature_1 <= 0.50', '||||||--- class: 0.0', '|||||--- feature_1 > 0.50', '||||||--- class: 1.0', '||||--- feature_9 > 0.80', '|||||--- class: 1.0', '||--- feature_7 > 174.50', '|||--- feature_12 <= 5.00', '||||--- class: 0.0', '|||--- feature_12 > 5.00', '||||--- class: 1.0']"
   ]
  },
  {
   "cell_type": "code",
   "execution_count": 2,
   "metadata": {},
   "outputs": [
    {
     "data": {
      "text/plain": [
       "['|--- feature_10 <= 1.50',\n",
       " '||--- feature_11 <= 1.50',\n",
       " '|||--- feature_8 <= 0.50',\n",
       " '||||--- class: 0.0',\n",
       " '|||--- feature_8 > 0.50',\n",
       " '||||--- class: 1.0',\n",
       " '||--- feature_11 > 1.50',\n",
       " '|||--- feature_4 <= 234.00',\n",
       " '||||--- class: 1.0',\n",
       " '|||--- feature_4 > 234.00',\n",
       " '||||--- feature_8 <= 0.50',\n",
       " '|||||--- class: 0.0',\n",
       " '||||--- feature_8 > 0.50',\n",
       " '|||||--- class: 1.0',\n",
       " '|--- feature_10 > 1.50',\n",
       " '||--- feature_7 <= 174.50',\n",
       " '|||--- feature_2 <= 3.50',\n",
       " '||||--- feature_1 <= 0.50',\n",
       " '|||||--- class: 1.0',\n",
       " '||||--- feature_1 > 0.50',\n",
       " '|||||--- feature_11 <= 0.50',\n",
       " '||||||--- class: 0.0',\n",
       " '|||||--- feature_11 > 0.50',\n",
       " '||||||--- class: 1.0',\n",
       " '|||--- feature_2 > 3.50',\n",
       " '||||--- feature_9 <= 0.80',\n",
       " '|||||--- feature_1 <= 0.50',\n",
       " '||||||--- class: 0.0',\n",
       " '|||||--- feature_1 > 0.50',\n",
       " '||||||--- class: 1.0',\n",
       " '||||--- feature_9 > 0.80',\n",
       " '|||||--- class: 1.0',\n",
       " '||--- feature_7 > 174.50',\n",
       " '|||--- feature_12 <= 5.00',\n",
       " '||||--- class: 0.0',\n",
       " '|||--- feature_12 > 5.00',\n",
       " '||||--- class: 1.0']"
      ]
     },
     "execution_count": 2,
     "metadata": {},
     "output_type": "execute_result"
    }
   ],
   "source": [
    "z\n"
   ]
  },
  {
   "cell_type": "code",
   "execution_count": 3,
   "metadata": {},
   "outputs": [],
   "source": [
    "from code.learners.EC.dtparse import SklearnParse\n",
    "from code.learners.EC.deap_extra import get_pset\n",
    "from code.data_processing import get_data\n",
    "\n",
    "X, y = get_data('cleveland')\n",
    "pset = get_pset(num_args=X.shape[1])\n",
    "sk = SklearnParse(pset)\n"
   ]
  },
  {
   "cell_type": "code",
   "execution_count": 4,
   "metadata": {},
   "outputs": [
    {
     "name": "stdout",
     "output_type": "stream",
     "text": [
      "['||||---', 'feature_1', '<=', '0.50']\n",
      "2\n",
      "|||||--- class: 1.0\n",
      "*****\n",
      "|||||--- feature_11 <= 0.50\n",
      "||||||--- class: 0.0\n",
      "|||||--- feature_11 > 0.50\n",
      "||||||--- class: 1.0\n"
     ]
    }
   ],
   "source": [
    "f = ['||||--- feature_1 <= 0.50',\n",
    "     '|||||--- class: 1.0',\n",
    "     '||||--- feature_1 > 0.50',\n",
    "     '|||||--- feature_11 <= 0.50',\n",
    "     '||||||--- class: 0.0',\n",
    "     '|||||--- feature_11 > 0.50',\n",
    "     '||||||--- class: 1.0',]\n",
    "L, R = sk.half_on_if(f)\n",
    "for l in L:\n",
    "    print(l)\n",
    "print('*****')\n",
    "for r in R:\n",
    "    print(r)"
   ]
  },
  {
   "cell_type": "code",
   "execution_count": 5,
   "metadata": {},
   "outputs": [],
   "source": [
    "indent, feature, equality, mod = '|||--- feature_12 <= 5.00'.split()"
   ]
  },
  {
   "cell_type": "code",
   "execution_count": 6,
   "metadata": {},
   "outputs": [
    {
     "data": {
      "text/plain": [
       "('|||---', 'feature_12', '<=', '5.00')"
      ]
     },
     "execution_count": 6,
     "metadata": {},
     "output_type": "execute_result"
    }
   ],
   "source": [
    "indent, feature, equality, mod"
   ]
  },
  {
   "cell_type": "code",
   "execution_count": null,
   "metadata": {},
   "outputs": [],
   "source": []
  }
 ],
 "metadata": {
  "kernelspec": {
   "display_name": "Python 3",
   "language": "python",
   "name": "python3"
  },
  "language_info": {
   "codemirror_mode": {
    "name": "ipython",
    "version": 3
   },
   "file_extension": ".py",
   "mimetype": "text/x-python",
   "name": "python",
   "nbconvert_exporter": "python",
   "pygments_lexer": "ipython3",
   "version": "3.9.12"
  }
 },
 "nbformat": 4,
 "nbformat_minor": 4
}
