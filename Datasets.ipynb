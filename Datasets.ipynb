{
 "cells": [
  {
   "cell_type": "code",
   "execution_count": 5,
   "metadata": {},
   "outputs": [],
   "source": [
    "from code.data_processing import get_data as gd\n",
    "from code.data_processing import get_all_datasets\n",
    "import pandas as pd \n",
    "import numpy as np"
   ]
  },
  {
   "cell_type": "code",
   "execution_count": 6,
   "metadata": {},
   "outputs": [
    {
     "name": "stdout",
     "output_type": "stream",
     "text": [
      "['cleveland', 'ionosphere', 'ecoli', 'iris', 'mammo_graphic', 'wisconsin_breast_cancer', 'australia', 'postop', 'yeast', 'spec']\n"
     ]
    }
   ],
   "source": [
    "datasets = get_all_datasets()\n",
    "print(datasets)"
   ]
  },
  {
   "cell_type": "markdown",
   "metadata": {},
   "source": [
    "# Table of class distributions for each dataset"
   ]
  },
  {
   "cell_type": "code",
   "execution_count": 7,
   "metadata": {},
   "outputs": [
    {
     "name": "stdout",
     "output_type": "stream",
     "text": [
      "\\begin{tabular}{lrrrrrrrrrr}\n",
      "\\toprule\n",
      "{} &      0 &      1 &       2 &       3 &       4 &       5 &       6 &       7 &       8 &       9 \\\\\n",
      "\\midrule\n",
      "cleveland               &  160.0 &  137.0 &  - &  - &  - &  - &  - &  - &  - &  - \\\\\n",
      "ionosphere              &  225.0 &  126.0 &  - &  - &  - &  - &  - &  - &  - &  - \\\\\n",
      "ecoli                   &  143.0 &   77.0 &    52.0 &    35.0 &    20.0 &     5.0 &     2.0 &     2.0 &  - &  - \\\\\n",
      "iris                    &   50.0 &   50.0 &    50.0 &  - &  - &  - &  - &  - &  - &  - \\\\\n",
      "mammo\\_graphic           &  427.0 &  403.0 &  - &  - &  - &  - &  - &  - &  - &  - \\\\\n",
      "wisconsin\\_breast\\_cancer &  444.0 &  239.0 &  - &  - &  - &  - &  - &  - &  - &  - \\\\\n",
      "australia               &  383.0 &  307.0 &  - &  - &  - &  - &  - &  - &  - &  - \\\\\n",
      "postop                  &   64.0 &   24.0 &  - &  - &  - &  - &  - &  - &  - &  - \\\\\n",
      "yeast                   &  463.0 &  429.0 &   244.0 &   163.0 &    51.0 &    44.0 &    35.0 &    30.0 &    20.0 &     5.0 \\\\\n",
      "spec                    &  157.0 &  110.0 &  - &  - &  - &  - &  - &  - &  - &  - \\\\\n",
      "\\bottomrule\n",
      "\\end{tabular}\n",
      "\n"
     ]
    }
   ],
   "source": [
    "# Find largest y\n",
    "ymax = 0\n",
    "for d in datasets:\n",
    "    X, y = gd(d) # Brutal dataset. only 2 class=2 and class =3\n",
    "    if ymax < len(np.unique(y)):\n",
    "        ymax = len(np.unique(y))\n",
    "# Initalise an empyt np array\n",
    "val = np.ones((len(datasets), ymax)) * 4234\n",
    "\n",
    "# Fill out val\n",
    "for i, d in enumerate(datasets):\n",
    "    X, y = gd(d) # Brutal dataset. only 2 class=2 and class =3\n",
    "    dfy = pd.DataFrame(data=y).value_counts()#.iloc[0]\n",
    "    for j in range(len(dfy)):\n",
    "        val[j, i] = dfy.iloc[j]\n",
    "dfval = pd.DataFrame(data=val, columns=[dn for dn in datasets])\n",
    "print(dfval.transpose().to_latex().replace('4234.0','-'))"
   ]
  },
  {
   "cell_type": "markdown",
   "metadata": {},
   "source": [
    "# Seabir\n"
   ]
  },
  {
   "cell_type": "code",
   "execution_count": 17,
   "metadata": {},
   "outputs": [
    {
     "name": "stdout",
     "output_type": "stream",
     "text": [
      "ionosphere\n",
      "      0        1        2        3        4        5        6        7   \\\n",
      "0    0.0  0.99539 -0.05889  0.85243  0.02306  0.83398 -0.37708  1.00000   \n",
      "1    0.0  1.00000 -0.18829  0.93035 -0.36156 -0.10868 -0.93597  1.00000   \n",
      "2    0.0  1.00000 -0.03365  1.00000  0.00485  1.00000 -0.12062  0.88965   \n",
      "3    0.0  1.00000 -0.45161  1.00000  1.00000  0.71216 -1.00000  0.00000   \n",
      "4    0.0  1.00000 -0.02401  0.94140  0.06531  0.92106 -0.23255  0.77152   \n",
      "..   ...      ...      ...      ...      ...      ...      ...      ...   \n",
      "346  0.0  0.83508  0.08298  0.73739 -0.14706  0.84349 -0.05567  0.90441   \n",
      "347  0.0  0.95113  0.00419  0.95183 -0.02723  0.93438 -0.01920  0.94590   \n",
      "348  0.0  0.94701 -0.00034  0.93207 -0.03227  0.95177 -0.03431  0.95584   \n",
      "349  0.0  0.90608 -0.01657  0.98122 -0.01989  0.95691 -0.03646  0.85746   \n",
      "350  0.0  0.84710  0.13533  0.73638 -0.06151  0.87873  0.08260  0.88928   \n",
      "\n",
      "          8        9   ...       23       24       25       26       27  \\\n",
      "0    0.03760  0.85243  ...  0.56811 -0.51171  0.41078 -0.46168  0.21266   \n",
      "1   -0.04549  0.50874  ... -0.20332 -0.26569 -0.20468 -0.18401 -0.19040   \n",
      "2    0.01198  0.73082  ...  0.57528 -0.40220  0.58984 -0.22145  0.43100   \n",
      "3    0.00000  0.00000  ...  1.00000  0.90695  0.51613  1.00000  1.00000   \n",
      "4   -0.16399  0.52798  ...  0.03286 -0.65158  0.13290 -0.53206  0.02431   \n",
      "..       ...      ...  ...      ...      ...      ...      ...      ...   \n",
      "346 -0.04622  0.89391  ...  0.95378 -0.04202  0.83479  0.00123  1.00000   \n",
      "347  0.01606  0.96510  ...  0.94520  0.01361  0.93522  0.04925  0.93159   \n",
      "348  0.02446  0.94124  ...  0.93988  0.03193  0.92489  0.02542  0.92120   \n",
      "349  0.00110  0.89724  ...  0.91050 -0.02099  0.89147 -0.07760  0.82983   \n",
      "350 -0.09139  0.78735  ...  0.86467 -0.15114  0.81147 -0.04822  0.78207   \n",
      "\n",
      "          28       29       30       31       32  \n",
      "0   -0.34090  0.42267 -0.54487  0.18641 -0.45300  \n",
      "1   -0.11593 -0.16626 -0.06288 -0.13738 -0.02447  \n",
      "2   -0.17365  0.60436 -0.24180  0.56045 -0.38238  \n",
      "3   -0.20099  0.25682  1.00000 -0.32382  1.00000  \n",
      "4   -0.62197 -0.05707 -0.59573 -0.04608 -0.65697  \n",
      "..       ...      ...      ...      ...      ...  \n",
      "346  0.12815  0.86660 -0.10714  0.90546 -0.04307  \n",
      "347  0.08168  0.94066 -0.00035  0.91483  0.04712  \n",
      "348  0.02242  0.92459  0.00442  0.92697 -0.00577  \n",
      "349 -0.17238  0.96022 -0.03757  0.87403 -0.16243  \n",
      "350 -0.00703  0.75747 -0.06678  0.85764 -0.06151  \n",
      "\n",
      "[351 rows x 33 columns]\n"
     ]
    }
   ],
   "source": [
    "import seaborn as sns\n",
    "for d in datasets:\n",
    "    d = 'ionosphere'\n",
    "    print(d)\n",
    "    X, y = gd(d) # Brutal dataset. only 2 class=2 and class =3\n",
    "    df = pd.DataFrame(data=X)\n",
    "    print(df)\n",
    "    #sns.pairplot(pd.DataFrame(data=X))\n",
    "    break"
   ]
  },
  {
   "cell_type": "code",
   "execution_count": 21,
   "metadata": {},
   "outputs": [
    {
     "data": {
      "text/plain": [
       "(351, 33)"
      ]
     },
     "execution_count": 21,
     "metadata": {},
     "output_type": "execute_result"
    }
   ],
   "source": [
    "gd('ionosphere')[0].shape"
   ]
  },
  {
   "cell_type": "code",
   "execution_count": null,
   "metadata": {},
   "outputs": [],
   "source": []
  }
 ],
 "metadata": {
  "kernelspec": {
   "display_name": "Python 3",
   "language": "python",
   "name": "python3"
  },
  "language_info": {
   "codemirror_mode": {
    "name": "ipython",
    "version": 3
   },
   "file_extension": ".py",
   "mimetype": "text/x-python",
   "name": "python",
   "nbconvert_exporter": "python",
   "pygments_lexer": "ipython3",
   "version": "3.9.12"
  }
 },
 "nbformat": 4,
 "nbformat_minor": 4
}
