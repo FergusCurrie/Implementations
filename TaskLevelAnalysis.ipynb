{
 "cells": [
  {
   "cell_type": "code",
   "execution_count": 1,
   "metadata": {},
   "outputs": [
    {
     "name": "stdout",
     "output_type": "stream",
     "text": [
      "['cleveland', 'ionosphere', 'ecoli', 'iris', 'mammo_graphic', 'wisconsin_breast_cancer', 'australia', 'postop', 'yeast', 'spec']\n"
     ]
    }
   ],
   "source": [
    "import sys\n",
    "import os\n",
    "import pandas as pd \n",
    "import numpy as np\n",
    "import os \n",
    "import sys \n",
    "from code.data_processing import get_all_datasets\n",
    "import matplotlib.pyplot as plt\n",
    "job = 'bagboost'\n",
    "experiment_name = 'bagboost_experiment'\n",
    "from ResultHandling import ResultHandling\n",
    "print(get_all_datasets())"
   ]
  },
  {
   "cell_type": "markdown",
   "metadata": {},
   "source": [
    "# Script analysis"
   ]
  },
  {
   "cell_type": "code",
   "execution_count": 2,
   "metadata": {},
   "outputs": [],
   "source": [
    "RH = ResultHandling(job, experiment_name, height=10, width = 10, box_label_size=30, target_dir='results_finished')\n",
    "\n",
    "if 0:\n",
    "    for ds in get_all_datasets():\n",
    "        # Per model train\n",
    "        plot_labels, plots = [], []\n",
    "        for model_nam in RH.model_names:\n",
    "            plots.append(RH.get_cond_data(mgen=False, train=False, model_name=model_nam, dataset_name=ds,col='full_acc'))\n",
    "            plot_labels.append(model_nam)\n",
    "        RH.box_plot(boxes=plots, labels=plot_labels, save=True, draw=False, figname=f'{job}_{ds}_train')\n",
    "        \n",
    "        # Per model test\n",
    "        plot_labels, plots = [], []\n",
    "        for model_nam in RH.model_names:\n",
    "            plots.append(RH.get_cond_data(mgen=False, train=True, model_name=model_nam, dataset_name=ds,col='full_acc'))\n",
    "            plot_labels.append(model_nam)\n",
    "        RH.box_plot(boxes=plots, labels=plot_labels, save=True, draw=False, figname=f'{job}_{ds}_test')\n",
    "        \n",
    "\n"
   ]
  },
  {
   "cell_type": "markdown",
   "metadata": {},
   "source": [
    "## Saving fast bag vs baseline gp vs basline bag"
   ]
  },
  {
   "cell_type": "code",
   "execution_count": 3,
   "metadata": {},
   "outputs": [],
   "source": [
    "RH = ResultHandling(job, experiment_name, height=10, width = 10, box_label_size=30, target_dir='results_finished')\n",
    "other = ResultHandling('bagboost', 'bagboost_experiment', height=10, width = 10, box_label_size=30, target_dir='results_finished')\n",
    "\n",
    "if 0:\n",
    "    for ds in get_all_datasets():\n",
    "        # Per model train\n",
    "        plot_labels, plots = [], []\n",
    "        for model_nam in other.model_names:\n",
    "            if model_nam in ['GP', 'baggp']:\n",
    "                plots.append(other.get_cond_data(mgen=False, train=True, model_name=model_nam, dataset_name=ds,col='full_acc'))\n",
    "                plot_labels.append(model_nam)\n",
    "        for model_nam in RH.model_names:\n",
    "            plots.append(RH.get_cond_data(mgen=False, train=True, model_name=model_nam, dataset_name=ds,col='full_acc'))\n",
    "            if model_nam == 'fastbaggp':\n",
    "                model_nam = 'rfbag'\n",
    "            if model_nam == 'ham_fastbaggp':\n",
    "                model_nam = 'hrfbag'\n",
    "            plot_labels.append(model_nam)\n",
    "        RH.box_plot(boxes=plots, labels=plot_labels, save=True, draw=False, figname=f'{job}_{ds}_train')\n",
    "        \n",
    "        # per test\n",
    "        plot_labels, plots = [], []\n",
    "        for model_nam in other.model_names:\n",
    "            if model_nam in ['GP', 'baggp']:\n",
    "                plots.append(other.get_cond_data(mgen=False, train=False, model_name=model_nam, dataset_name=ds,col='full_acc'))\n",
    "                plot_labels.append(model_nam)\n",
    "        for model_nam in RH.model_names:\n",
    "            plots.append(RH.get_cond_data(mgen=False, train=False, model_name=model_nam, dataset_name=ds,col='full_acc'))\n",
    "            if model_nam == 'fastbaggp':\n",
    "                model_nam = 'rfbag'\n",
    "            if model_nam == 'ham_fastbaggp':\n",
    "                model_nam = 'hrfbag'\n",
    "            plot_labels.append(model_nam)\n",
    "        RH.box_plot(boxes=plots, labels=plot_labels, save=True, draw=False, figname=f'{job}_{ds}_test')\n",
    "        \n",
    "        \n",
    "        \n",
    "\n"
   ]
  },
  {
   "cell_type": "markdown",
   "metadata": {},
   "source": [
    "# PCA analysis\n"
   ]
  },
  {
   "cell_type": "code",
   "execution_count": 4,
   "metadata": {},
   "outputs": [],
   "source": [
    "pca_2 = ResultHandling('pca_2', 'dr', height=10, width = 10, box_label_size=30, target_dir='results_finished')\n",
    "pca_3 = ResultHandling('pca_3', 'dr', height=10, width = 10, box_label_size=30, target_dir='results_finished')\n",
    "pca_4 = ResultHandling('pca_4', 'dr', height=10, width = 10, box_label_size=30, target_dir='results_finished')"
   ]
  },
  {
   "cell_type": "code",
   "execution_count": 14,
   "metadata": {},
   "outputs": [],
   "source": [
    "if 1:\n",
    "    job = 'pca'\n",
    "    base = ResultHandling('bagboost', 'bagboost_experiment', height=10, width = 10, box_label_size=30, target_dir='results_finished')\n",
    "    pca_2 = ResultHandling('pca_2', 'dr', height=10, width = 10, box_label_size=30, target_dir='results_finished')\n",
    "    pca_3 = ResultHandling('pca_3', 'dr', height=10, width = 10, box_label_size=30, target_dir='results_finished')\n",
    "    pca_4 = ResultHandling('pca_4', 'dr', height=10, width = 10, box_label_size=30, target_dir='results_finished')\n",
    "    \n",
    "    for ds in get_all_datasets():\n",
    "        # Per model train\n",
    "        plot_labels, plots = [], []\n",
    "        for model_nam in base.model_names:\n",
    "            if model_nam in ['GP', 'baggp']:\n",
    "                plots.append(base.get_cond_data(mgen=False, train=True, model_name=model_nam, dataset_name=ds,col='full_acc'))\n",
    "                plot_labels.append(model_nam)\n",
    "        for dispca in [pca_2, pca_3, pca_4]:\n",
    "            for model_nam in dispca.model_names:\n",
    "                plots.append(dispca.get_cond_data(mgen=False, train=True, model_name=model_nam, dataset_name=ds,col='full_acc'))\n",
    "                plot_labels.append(model_nam)\n",
    "        pca_4.box_plot(boxes=plots, labels=plot_labels, save=True, draw=False, figname=f'{job}_{ds}_train')\n",
    "        \n",
    "        # Per model test\n",
    "        plot_labels, plots = [], []\n",
    "        for model_nam in base.model_names:\n",
    "            if model_nam in ['GP', 'baggp']:\n",
    "                plots.append(base.get_cond_data(mgen=False, train=False, model_name=model_nam, dataset_name=ds,col='full_acc'))\n",
    "                plot_labels.append(model_nam)\n",
    "        for dispca in [pca_2, pca_3, pca_4]:\n",
    "            for model_nam in dispca.model_names:\n",
    "                plots.append(dispca.get_cond_data(mgen=False, train=False, model_name=model_nam, dataset_name=ds,col='full_acc'))\n",
    "                plot_labels.append(model_nam)\n",
    "        pca_4.box_plot(boxes=plots, labels=plot_labels, save=True, draw=False, figname=f'{job}_{ds}_test')"
   ]
  },
  {
   "cell_type": "markdown",
   "metadata": {},
   "source": [
    "# Analysis bag m3gp"
   ]
  },
  {
   "cell_type": "code",
   "execution_count": 16,
   "metadata": {},
   "outputs": [],
   "source": [
    "if 1:\n",
    "    job = 'm3gpbag'\n",
    "    base = ResultHandling('bagboost', 'bagboost_experiment', height=10, width = 10, box_label_size=30, target_dir='results_finished')\n",
    "    m3gpbag = ResultHandling('m3gpbag', 'm3gp_bag', height=10, width = 10, box_label_size=30, target_dir='results_finished')\n",
    "    \n",
    "    for ds in get_all_datasets():\n",
    "        # Per model train\n",
    "        plot_labels, plots = [], []\n",
    "        for model_nam in base.model_names:\n",
    "            if model_nam in ['GP', 'baggp']:\n",
    "                plots.append(base.get_cond_data(mgen=False, train=True, model_name=model_nam, dataset_name=ds,col='full_acc'))\n",
    "                plot_labels.append(model_nam)\n",
    "        for model_nam in m3gpbag.model_names:\n",
    "            plots.append(m3gpbag.get_cond_data(mgen=False, train=True, model_name=model_nam, dataset_name=ds,col='full_acc'))\n",
    "            plot_labels.append(model_nam)\n",
    "        m3gpbag.box_plot(boxes=plots, labels=plot_labels, save=True, draw=False, figname=f'{job}_{ds}_train')\n",
    "        \n",
    "        # Per model test\n",
    "        plot_labels, plots = [], []\n",
    "        for model_nam in base.model_names:\n",
    "            if model_nam in ['GP', 'baggp']:\n",
    "                plots.append(base.get_cond_data(mgen=False, train=False, model_name=model_nam, dataset_name=ds,col='full_acc'))\n",
    "                plot_labels.append(model_nam)\n",
    "        for model_nam in m3gpbag.model_names:\n",
    "            plots.append(m3gpbag.get_cond_data(mgen=False, train=False, model_name=model_nam, dataset_name=ds,col='full_acc'))\n",
    "            plot_labels.append(model_nam)\n",
    "        m3gpbag.box_plot(boxes=plots, labels=plot_labels, save=True, draw=False, figname=f'{job}_{ds}_test')"
   ]
  },
  {
   "cell_type": "markdown",
   "metadata": {},
   "source": [
    "# Script for generating table and wilson cox test"
   ]
  },
  {
   "cell_type": "code",
   "execution_count": 7,
   "metadata": {},
   "outputs": [
    {
     "name": "stdout",
     "output_type": "stream",
     "text": [
      "\\begin{tabular}{lrrrr}\n",
      "\\toprule\n",
      "{} &        GP &     baggp &    nichgp &      ccgp \\\\\n",
      "\\midrule\n",
      "cleveland               &  0.883414 &  0.840419 &       NaN &  0.922383 \\\\\n",
      "ionosphere              &  0.944082 &  0.905034 &  0.953061 &  0.988707 \\\\\n",
      "ecoli                   &  0.779858 &  0.518723 &  0.737872 &  0.766241 \\\\\n",
      "iris                    &  0.984762 &  0.983810 &  0.983492 &  0.974921 \\\\\n",
      "mammo\\_graphic           &  0.847619 &  0.819966 &  0.844865 &  0.860700 \\\\\n",
      "wisconsin\\_breast\\_cancer &  0.982078 &  0.955439 &  0.974407 &  0.984868 \\\\\n",
      "australia               &  0.897930 &  0.854727 &  0.887371 &  0.928640 \\\\\n",
      "postop                  &  0.872131 &  0.879235 &  0.868306 &  0.915847 \\\\\n",
      "yeast                   &  0.425209 &  0.322929 &  0.404303 &  0.443256 \\\\\n",
      "spec                    &  0.826523 &  0.782079 &  0.826523 &  0.896953 \\\\\n",
      "\\bottomrule\n",
      "\\end{tabular}\n",
      "\n"
     ]
    }
   ],
   "source": [
    "f = RH.get_model_vs_dataset_dataframe(training=True)\n",
    "print(f.to_latex())"
   ]
  },
  {
   "cell_type": "code",
   "execution_count": 8,
   "metadata": {},
   "outputs": [
    {
     "name": "stdout",
     "output_type": "stream",
     "text": [
      "\\begin{tabular}{lrrrr}\n",
      "\\toprule\n",
      "{} &        GP &     baggp &    nichgp &      ccgp \\\\\n",
      "\\midrule\n",
      "cleveland               &  0.791852 &  0.776667 &       NaN &  0.779630 \\\\\n",
      "ionosphere              &  0.866038 &  0.821384 &  0.896855 &  0.897484 \\\\\n",
      "ecoli                   &  0.734653 &  0.501320 &  0.705611 &  0.703960 \\\\\n",
      "iris                    &  0.947407 &  0.953333 &  0.950370 &  0.928889 \\\\\n",
      "mammo\\_graphic           &  0.821553 &  0.802276 &  0.829050 &  0.825837 \\\\\n",
      "wisconsin\\_breast\\_cancer &  0.961138 &  0.940325 &  0.957886 &  0.959837 \\\\\n",
      "australia               &  0.851369 &  0.825765 &  0.851852 &  0.848953 \\\\\n",
      "postop                  &  0.628395 &  0.590123 &  0.628395 &  0.597531 \\\\\n",
      "yeast                   &  0.401495 &  0.311734 &  0.392601 &  0.413303 \\\\\n",
      "spec                    &  0.683128 &  0.649794 &  0.702469 &  0.688477 \\\\\n",
      "\\bottomrule\n",
      "\\end{tabular}\n",
      "\n"
     ]
    }
   ],
   "source": [
    "f = RH.get_model_vs_dataset_dataframe(training=False)\n",
    "print(f.to_latex())"
   ]
  },
  {
   "cell_type": "code",
   "execution_count": 9,
   "metadata": {},
   "outputs": [
    {
     "name": "stdout",
     "output_type": "stream",
     "text": [
      "['baggp', 'GP', RanksumsResult(statistic=-3.1096223731159465, pvalue=0.0009366333448071793)]\n",
      "['nichgp', 'GP', RanksumsResult(statistic=0.5317782348576343, pvalue=0.7025602005035679)]\n",
      "['nichgp', 'baggp', RanksumsResult(statistic=3.3804082908359097, pvalue=0.9996381088767804)]\n",
      "['ccgp', 'GP', RanksumsResult(statistic=-0.050633808710991254, pvalue=0.4798086609564054)]\n",
      "['ccgp', 'baggp', RanksumsResult(statistic=2.946887666979691, pvalue=0.9983950510652889)]\n",
      "['ccgp', 'nichgp', RanksumsResult(statistic=-0.6181157931031984, pvalue=0.2682495062229687)]\n"
     ]
    }
   ],
   "source": [
    "RH.wilcoxon_test()"
   ]
  },
  {
   "cell_type": "code",
   "execution_count": 10,
   "metadata": {},
   "outputs": [
    {
     "name": "stdout",
     "output_type": "stream",
     "text": [
      "2.0\n",
      "<class 'float'>\n"
     ]
    }
   ],
   "source": [
    "q = np.array([1,2,3])\n",
    "print(np.mean(q))\n",
    "print(type(float(np.mean(q))))"
   ]
  },
  {
   "cell_type": "markdown",
   "metadata": {},
   "source": [
    "# Fast GP"
   ]
  },
  {
   "cell_type": "code",
   "execution_count": 11,
   "metadata": {},
   "outputs": [
    {
     "data": {
      "text/plain": [
       "['GP', 'baggp', 'nichgp', 'ccgp']"
      ]
     },
     "execution_count": 11,
     "metadata": {},
     "output_type": "execute_result"
    }
   ],
   "source": [
    "RH.model_names"
   ]
  },
  {
   "cell_type": "code",
   "execution_count": null,
   "metadata": {},
   "outputs": [],
   "source": []
  },
  {
   "cell_type": "code",
   "execution_count": null,
   "metadata": {},
   "outputs": [],
   "source": []
  }
 ],
 "metadata": {
  "kernelspec": {
   "display_name": "Python 3",
   "language": "python",
   "name": "python3"
  },
  "language_info": {
   "codemirror_mode": {
    "name": "ipython",
    "version": 3
   },
   "file_extension": ".py",
   "mimetype": "text/x-python",
   "name": "python",
   "nbconvert_exporter": "python",
   "pygments_lexer": "ipython3",
   "version": "3.9.12"
  }
 },
 "nbformat": 4,
 "nbformat_minor": 4
}
