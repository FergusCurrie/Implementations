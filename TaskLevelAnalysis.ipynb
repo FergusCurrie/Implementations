{
 "cells": [
  {
   "cell_type": "code",
   "execution_count": 1,
   "metadata": {},
   "outputs": [
    {
     "name": "stdout",
     "output_type": "stream",
     "text": [
      "['cleveland', 'ionosphere', 'ecoli', 'iris', 'mammo_graphic', 'wisconsin_breast_cancer', 'australia', 'postop', 'yeast', 'spec']\n"
     ]
    }
   ],
   "source": [
    "import sys\n",
    "import os\n",
    "import pandas as pd \n",
    "import numpy as np\n",
    "import os \n",
    "import sys \n",
    "from code.data_processing import get_all_datasets\n",
    "import matplotlib.pyplot as plt\n",
    "job = 'fastbag_ham'\n",
    "experiment_name = 'fastbag'\n",
    "from ResultHandling import ResultHandling\n",
    "print(get_all_datasets())"
   ]
  },
  {
   "cell_type": "markdown",
   "metadata": {},
   "source": [
    "# Script to save all box plots"
   ]
  },
  {
   "cell_type": "code",
   "execution_count": 2,
   "metadata": {},
   "outputs": [],
   "source": [
    "RH = ResultHandling(job, experiment_name, height=10, width = 10, box_label_size=30, target_dir='results_finished')\n",
    "\n",
    "if 1:\n",
    "    for ds in get_all_datasets():\n",
    "        # Per model train\n",
    "        plot_labels, plots = [], []\n",
    "        for model_nam in RH.model_names:\n",
    "            plots.append(RH.get_cond_data(mgen=False, train=False, model_name=model_nam, dataset_name=ds,col='full_acc'))\n",
    "            plot_labels.append(model_nam)\n",
    "        RH.box_plot(boxes=plots, labels=plot_labels, save=True, draw=False, figname=f'{job}_{ds}_train')\n",
    "        \n",
    "        # Per model test\n",
    "        plot_labels, plots = [], []\n",
    "        for model_nam in RH.model_names:\n",
    "            plots.append(RH.get_cond_data(mgen=False, train=True, model_name=model_nam, dataset_name=ds,col='full_acc'))\n",
    "            plot_labels.append(model_nam)\n",
    "        RH.box_plot(boxes=plots, labels=plot_labels, save=True, draw=False, figname=f'{job}_{ds}_test')\n",
    "        \n",
    "\n"
   ]
  },
  {
   "cell_type": "markdown",
   "metadata": {},
   "source": [
    "# Script for generating table and wilson cox test"
   ]
  },
  {
   "cell_type": "code",
   "execution_count": 3,
   "metadata": {},
   "outputs": [
    {
     "name": "stdout",
     "output_type": "stream",
     "text": [
      "\\begin{tabular}{lrr}\n",
      "\\toprule\n",
      "{} &  fastbaggp &  ham\\_fastbaggp \\\\\n",
      "\\midrule\n",
      "cleveland               &   0.845411 &       0.853462 \\\\\n",
      "ionosphere              &   0.944762 &       0.935374 \\\\\n",
      "ecoli                   &   0.342270 &       0.319007 \\\\\n",
      "iris                    &   0.972381 &       0.973333 \\\\\n",
      "mammo\\_graphic           &        NaN &       0.830350 \\\\\n",
      "wisconsin\\_breast\\_cancer &   0.963808 &       0.962343 \\\\\n",
      "australia               &   0.858316 &       0.858730 \\\\\n",
      "postop                  &   0.836612 &       0.833333 \\\\\n",
      "yeast                   &   0.294669 &       0.297752 \\\\\n",
      "spec                    &   0.755556 &       0.752867 \\\\\n",
      "\\bottomrule\n",
      "\\end{tabular}\n",
      "\n"
     ]
    }
   ],
   "source": [
    "f = RH.get_model_vs_dataset_dataframe(training=True)\n",
    "print(f.to_latex())"
   ]
  },
  {
   "cell_type": "code",
   "execution_count": 4,
   "metadata": {},
   "outputs": [
    {
     "name": "stdout",
     "output_type": "stream",
     "text": [
      "\\begin{tabular}{lrr}\n",
      "\\toprule\n",
      "{} &  fastbaggp &  ham\\_fastbaggp \\\\\n",
      "\\midrule\n",
      "cleveland               &   0.772963 &       0.768519 \\\\\n",
      "ionosphere              &   0.914151 &       0.900314 \\\\\n",
      "ecoli                   &   0.334983 &       0.320462 \\\\\n",
      "iris                    &   0.940741 &       0.942222 \\\\\n",
      "mammo\\_graphic           &        NaN &       0.814993 \\\\\n",
      "wisconsin\\_breast\\_cancer &   0.948780 &       0.951057 \\\\\n",
      "australia               &   0.838969 &       0.845089 \\\\\n",
      "postop                  &   0.619753 &       0.601235 \\\\\n",
      "yeast                   &   0.285426 &       0.291106 \\\\\n",
      "spec                    &   0.659259 &       0.681481 \\\\\n",
      "\\bottomrule\n",
      "\\end{tabular}\n",
      "\n"
     ]
    }
   ],
   "source": [
    "f = RH.get_model_vs_dataset_dataframe(training=False)\n",
    "print(f.to_latex())"
   ]
  },
  {
   "cell_type": "code",
   "execution_count": 5,
   "metadata": {},
   "outputs": [
    {
     "name": "stdout",
     "output_type": "stream",
     "text": [
      "['ham_fastbaggp', 'fastbaggp', RanksumsResult(statistic=0.13956631834386188, pvalue=0.5554986729168594)]\n"
     ]
    }
   ],
   "source": [
    "RH.wilcoxon_test()"
   ]
  },
  {
   "cell_type": "code",
   "execution_count": 6,
   "metadata": {},
   "outputs": [
    {
     "name": "stdout",
     "output_type": "stream",
     "text": [
      "2.0\n",
      "<class 'float'>\n"
     ]
    }
   ],
   "source": [
    "q = np.array([1,2,3])\n",
    "print(np.mean(q))\n",
    "print(type(float(np.mean(q))))"
   ]
  },
  {
   "cell_type": "markdown",
   "metadata": {},
   "source": [
    "# Fast GP"
   ]
  },
  {
   "cell_type": "code",
   "execution_count": 7,
   "metadata": {},
   "outputs": [
    {
     "data": {
      "text/plain": [
       "['fastbaggp', 'ham_fastbaggp']"
      ]
     },
     "execution_count": 7,
     "metadata": {},
     "output_type": "execute_result"
    }
   ],
   "source": [
    "RH.model_names"
   ]
  },
  {
   "cell_type": "code",
   "execution_count": null,
   "metadata": {},
   "outputs": [],
   "source": []
  },
  {
   "cell_type": "code",
   "execution_count": null,
   "metadata": {},
   "outputs": [],
   "source": []
  }
 ],
 "metadata": {
  "kernelspec": {
   "display_name": "Python 3",
   "language": "python",
   "name": "python3"
  },
  "language_info": {
   "codemirror_mode": {
    "name": "ipython",
    "version": 3
   },
   "file_extension": ".py",
   "mimetype": "text/x-python",
   "name": "python",
   "nbconvert_exporter": "python",
   "pygments_lexer": "ipython3",
   "version": "3.9.12"
  }
 },
 "nbformat": 4,
 "nbformat_minor": 4
}
