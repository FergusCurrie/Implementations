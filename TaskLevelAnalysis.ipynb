{
 "cells": [
  {
   "cell_type": "code",
   "execution_count": 7,
   "metadata": {},
   "outputs": [],
   "source": [
    "import pandas as pd \n",
    "import numpy as np\n",
    "import os \n",
    "import sys \n",
    "from code.data_processing import get_all_datasets\n",
    "import matplotlib.pyplot as plt\n",
    "job = '4082125'"
   ]
  },
  {
   "cell_type": "code",
   "execution_count": 8,
   "metadata": {},
   "outputs": [
    {
     "name": "stdout",
     "output_type": "stream",
     "text": [
      "['cleveland', 'ionosphere', 'ecoli', 'iris', 'mammo_graphic', 'wisconsin_breast_cancer', 'australia', 'postop', 'yeast', 'spec']\n"
     ]
    }
   ],
   "source": [
    "model_names = ['gp','bag', 'nich', 'ccgp']\n",
    "datasets = get_all_datasets()\n",
    "print(datasets)"
   ]
  },
  {
   "cell_type": "markdown",
   "metadata": {},
   "source": [
    "# Graphing at the task level arranged as follows (all over training and test):\n",
    "- histogram of (seed*task) acc\n",
    "- histogram of (seed*task) acc PER dataset\n",
    "- histogram of (seed*task) acc PER model\n",
    "- histogram of GP (seed*task) acc PER dataset\n",
    "- histogram of BAG (seed*task) acc PER dataset\n",
    "- histogram of NICHE (seed*task) acc PER dataset\n",
    "- histogram of CCGP (seed*task) acc PER dataset"
   ]
  },
  {
   "cell_type": "markdown",
   "metadata": {},
   "source": [
    "# This jupyter file has code for all graphs and tables at the task level"
   ]
  },
  {
   "cell_type": "code",
   "execution_count": 9,
   "metadata": {},
   "outputs": [
    {
     "name": "stdout",
     "output_type": "stream",
     "text": [
      "dict_keys([1, 2, 3, 4, 5, 6, 7, 8, 9, 10, 11, 12, 13, 14, 15, 16, 17, 18, 19, 20, 21, 22, 23, 24, 25, 26, 27, 28, 29, 30, 31, 32, 33, 34, 35, 36, 37, 38, 39, 40])\n"
     ]
    }
   ],
   "source": [
    "# Make dictionary from index to model/dataset\n",
    "names = {} # index to string of names\n",
    "for i,model in enumerate(model_names):\n",
    "    for j, dataset in enumerate(datasets):\n",
    "        names[(i * len(datasets)) + j + 1] = f'{model}{dataset}'\n",
    "print(names.keys())"
   ]
  },
  {
   "cell_type": "code",
   "execution_count": 10,
   "metadata": {},
   "outputs": [
    {
     "name": "stdout",
     "output_type": "stream",
     "text": [
      "Number of results files in job 4082125 = 40\n"
     ]
    }
   ],
   "source": [
    "# Load datainto dictionary 'data'\n",
    "data = {}\n",
    "for task in os.listdir(f'results_file/{job}/'):\n",
    "    if len(os.listdir(f'results_file/{job}/{task}')) <= 1:\n",
    "        continue \n",
    "    fn = [x for x in os.listdir(f'results_file/{job}/{task}/') if '.csv' in x][0] # currently these files only have one entry\n",
    "    data[int(task)] = pd.read_csv(f'results_file/{job}/{task}/{fn}', index_col=False)\n",
    "print(f'Number of results files in job {job} = {len(data)}')"
   ]
  },
  {
   "cell_type": "code",
   "execution_count": 11,
   "metadata": {},
   "outputs": [],
   "source": [
    "def keys_by_model(i):\n",
    "    sorted_keys =sorted(data.keys())\n",
    "    model_chunks = [sorted_keys[0:10], sorted_keys[10:20], sorted_keys[20:30], sorted_keys[30:40]]\n",
    "    return model_chunks[i]"
   ]
  },
  {
   "cell_type": "code",
   "execution_count": 12,
   "metadata": {},
   "outputs": [
    {
     "data": {
      "text/html": [
       "<div>\n",
       "<style scoped>\n",
       "    .dataframe tbody tr th:only-of-type {\n",
       "        vertical-align: middle;\n",
       "    }\n",
       "\n",
       "    .dataframe tbody tr th {\n",
       "        vertical-align: top;\n",
       "    }\n",
       "\n",
       "    .dataframe thead th {\n",
       "        text-align: right;\n",
       "    }\n",
       "</style>\n",
       "<table border=\"1\" class=\"dataframe\">\n",
       "  <thead>\n",
       "    <tr style=\"text-align: right;\">\n",
       "      <th></th>\n",
       "      <th>member_generation</th>\n",
       "      <th>training</th>\n",
       "      <th>seed</th>\n",
       "      <th>time</th>\n",
       "      <th>full_acc</th>\n",
       "      <th>majority_acc</th>\n",
       "      <th>minority_acc</th>\n",
       "      <th>tn</th>\n",
       "      <th>fp</th>\n",
       "      <th>fn</th>\n",
       "      <th>tp</th>\n",
       "    </tr>\n",
       "  </thead>\n",
       "  <tbody>\n",
       "    <tr>\n",
       "      <th>0</th>\n",
       "      <td>True</td>\n",
       "      <td>True</td>\n",
       "      <td>0</td>\n",
       "      <td>1.224453e+02</td>\n",
       "      <td>0.865591</td>\n",
       "      <td>0.805195</td>\n",
       "      <td>0.908257</td>\n",
       "      <td>-1</td>\n",
       "      <td>-1</td>\n",
       "      <td>-1</td>\n",
       "      <td>-1</td>\n",
       "    </tr>\n",
       "    <tr>\n",
       "      <th>1</th>\n",
       "      <td>True</td>\n",
       "      <td>False</td>\n",
       "      <td>0</td>\n",
       "      <td>1.224453e+02</td>\n",
       "      <td>0.617284</td>\n",
       "      <td>0.484848</td>\n",
       "      <td>0.708333</td>\n",
       "      <td>-1</td>\n",
       "      <td>-1</td>\n",
       "      <td>-1</td>\n",
       "      <td>-1</td>\n",
       "    </tr>\n",
       "    <tr>\n",
       "      <th>2</th>\n",
       "      <td>False</td>\n",
       "      <td>True</td>\n",
       "      <td>0</td>\n",
       "      <td>1.430511e-06</td>\n",
       "      <td>0.865591</td>\n",
       "      <td>0.805195</td>\n",
       "      <td>0.908257</td>\n",
       "      <td>-1</td>\n",
       "      <td>-1</td>\n",
       "      <td>-1</td>\n",
       "      <td>-1</td>\n",
       "    </tr>\n",
       "    <tr>\n",
       "      <th>3</th>\n",
       "      <td>False</td>\n",
       "      <td>False</td>\n",
       "      <td>0</td>\n",
       "      <td>1.430511e-06</td>\n",
       "      <td>0.617284</td>\n",
       "      <td>0.484848</td>\n",
       "      <td>0.708333</td>\n",
       "      <td>-1</td>\n",
       "      <td>-1</td>\n",
       "      <td>-1</td>\n",
       "      <td>-1</td>\n",
       "    </tr>\n",
       "    <tr>\n",
       "      <th>4</th>\n",
       "      <td>True</td>\n",
       "      <td>True</td>\n",
       "      <td>169</td>\n",
       "      <td>1.359519e+02</td>\n",
       "      <td>0.881720</td>\n",
       "      <td>0.805195</td>\n",
       "      <td>0.935780</td>\n",
       "      <td>-1</td>\n",
       "      <td>-1</td>\n",
       "      <td>-1</td>\n",
       "      <td>-1</td>\n",
       "    </tr>\n",
       "    <tr>\n",
       "      <th>...</th>\n",
       "      <td>...</td>\n",
       "      <td>...</td>\n",
       "      <td>...</td>\n",
       "      <td>...</td>\n",
       "      <td>...</td>\n",
       "      <td>...</td>\n",
       "      <td>...</td>\n",
       "      <td>...</td>\n",
       "      <td>...</td>\n",
       "      <td>...</td>\n",
       "      <td>...</td>\n",
       "    </tr>\n",
       "    <tr>\n",
       "      <th>115</th>\n",
       "      <td>False</td>\n",
       "      <td>False</td>\n",
       "      <td>4732</td>\n",
       "      <td>7.152557e-07</td>\n",
       "      <td>0.740741</td>\n",
       "      <td>0.666667</td>\n",
       "      <td>0.791667</td>\n",
       "      <td>-1</td>\n",
       "      <td>-1</td>\n",
       "      <td>-1</td>\n",
       "      <td>-1</td>\n",
       "    </tr>\n",
       "    <tr>\n",
       "      <th>116</th>\n",
       "      <td>True</td>\n",
       "      <td>True</td>\n",
       "      <td>4901</td>\n",
       "      <td>1.215783e+02</td>\n",
       "      <td>0.849462</td>\n",
       "      <td>0.701299</td>\n",
       "      <td>0.954128</td>\n",
       "      <td>-1</td>\n",
       "      <td>-1</td>\n",
       "      <td>-1</td>\n",
       "      <td>-1</td>\n",
       "    </tr>\n",
       "    <tr>\n",
       "      <th>117</th>\n",
       "      <td>True</td>\n",
       "      <td>False</td>\n",
       "      <td>4901</td>\n",
       "      <td>1.215783e+02</td>\n",
       "      <td>0.679012</td>\n",
       "      <td>0.636364</td>\n",
       "      <td>0.708333</td>\n",
       "      <td>-1</td>\n",
       "      <td>-1</td>\n",
       "      <td>-1</td>\n",
       "      <td>-1</td>\n",
       "    </tr>\n",
       "    <tr>\n",
       "      <th>118</th>\n",
       "      <td>False</td>\n",
       "      <td>True</td>\n",
       "      <td>4901</td>\n",
       "      <td>7.152557e-07</td>\n",
       "      <td>0.849462</td>\n",
       "      <td>0.701299</td>\n",
       "      <td>0.954128</td>\n",
       "      <td>-1</td>\n",
       "      <td>-1</td>\n",
       "      <td>-1</td>\n",
       "      <td>-1</td>\n",
       "    </tr>\n",
       "    <tr>\n",
       "      <th>119</th>\n",
       "      <td>False</td>\n",
       "      <td>False</td>\n",
       "      <td>4901</td>\n",
       "      <td>7.152557e-07</td>\n",
       "      <td>0.679012</td>\n",
       "      <td>0.636364</td>\n",
       "      <td>0.708333</td>\n",
       "      <td>-1</td>\n",
       "      <td>-1</td>\n",
       "      <td>-1</td>\n",
       "      <td>-1</td>\n",
       "    </tr>\n",
       "  </tbody>\n",
       "</table>\n",
       "<p>120 rows × 11 columns</p>\n",
       "</div>"
      ],
      "text/plain": [
       "     member_generation  training  seed          time  full_acc  majority_acc  \\\n",
       "0                 True      True     0  1.224453e+02  0.865591      0.805195   \n",
       "1                 True     False     0  1.224453e+02  0.617284      0.484848   \n",
       "2                False      True     0  1.430511e-06  0.865591      0.805195   \n",
       "3                False     False     0  1.430511e-06  0.617284      0.484848   \n",
       "4                 True      True   169  1.359519e+02  0.881720      0.805195   \n",
       "..                 ...       ...   ...           ...       ...           ...   \n",
       "115              False     False  4732  7.152557e-07  0.740741      0.666667   \n",
       "116               True      True  4901  1.215783e+02  0.849462      0.701299   \n",
       "117               True     False  4901  1.215783e+02  0.679012      0.636364   \n",
       "118              False      True  4901  7.152557e-07  0.849462      0.701299   \n",
       "119              False     False  4901  7.152557e-07  0.679012      0.636364   \n",
       "\n",
       "     minority_acc  tn  fp  fn  tp  \n",
       "0        0.908257  -1  -1  -1  -1  \n",
       "1        0.708333  -1  -1  -1  -1  \n",
       "2        0.908257  -1  -1  -1  -1  \n",
       "3        0.708333  -1  -1  -1  -1  \n",
       "4        0.935780  -1  -1  -1  -1  \n",
       "..            ...  ..  ..  ..  ..  \n",
       "115      0.791667  -1  -1  -1  -1  \n",
       "116      0.954128  -1  -1  -1  -1  \n",
       "117      0.708333  -1  -1  -1  -1  \n",
       "118      0.954128  -1  -1  -1  -1  \n",
       "119      0.708333  -1  -1  -1  -1  \n",
       "\n",
       "[120 rows x 11 columns]"
      ]
     },
     "execution_count": 12,
     "metadata": {},
     "output_type": "execute_result"
    }
   ],
   "source": [
    "data[40] # Example of indexing"
   ]
  },
  {
   "cell_type": "code",
   "execution_count": 13,
   "metadata": {},
   "outputs": [],
   "source": [
    "# method to efficently grab correct subsections from \n",
    "def get_data(task, member_generation=False, training=False, numpy=False):\n",
    "    x = data[task]\n",
    "    x = x[x['member_generation'] == member_generation] \n",
    "    if numpy:\n",
    "        x = x[x['training'] == training].to_numpy() # [final]\n",
    "    else:\n",
    "        x = x[x['training'] == training] # [final]\n",
    "    return x"
   ]
  },
  {
   "cell_type": "code",
   "execution_count": 14,
   "metadata": {},
   "outputs": [
    {
     "name": "stdout",
     "output_type": "stream",
     "text": [
      "            0\n",
      "0   26.377358\n",
      "1   24.791165\n",
      "2   16.133333\n",
      "3    4.396040\n",
      "4   21.024691\n",
      "5   21.333333\n",
      "6   21.632850\n",
      "7   11.320628\n",
      "8   23.800000\n",
      "9   25.652174\n",
      "10   9.195067\n",
      "11  28.692683\n",
      "12  28.829268\n",
      "13  20.703704\n",
      "14  25.574879\n",
      "15  23.666667\n",
      "16  20.802469\n",
      "17   9.446188\n",
      "18  24.263415\n",
      "19  19.629630\n",
      "20  20.244444\n",
      "21  18.222222\n",
      "22  28.804878\n",
      "23  23.800000\n",
      "24  16.345679\n",
      "25  25.473430\n",
      "26   2.887892\n",
      "27  20.044444\n",
      "28  13.346535\n",
      "29  28.511111\n",
      "30  23.799197\n",
      "31  20.762376\n",
      "32  23.452830\n",
      "33  20.370370\n",
      "34  25.877358\n",
      "35  18.693069\n",
      "36  24.658635\n",
      "37  27.244444\n",
      "38  20.990566\n",
      "39  22.759036\n"
     ]
    },
    {
     "data": {
      "text/plain": [
       "array([[<AxesSubplot:title={'center':'0'}>]], dtype=object)"
      ]
     },
     "execution_count": 14,
     "metadata": {},
     "output_type": "execute_result"
    },
    {
     "data": {
      "image/png": "[encoded data removed]",
      "text/plain": [
       "<Figure size 432x288 with 1 Axes>"
      ]
     },
     "metadata": {
      "needs_background": "light"
     },
     "output_type": "display_data"
    }
   ],
   "source": [
    "np_sel_test = np.array([get_data(z, member_generation=False)['full_acc'] for z in (data.keys())]).sum(axis=1)\n",
    "np_sel_test\n",
    "df = pd.DataFrame(data=np_sel_test)\n",
    "print(df)\n",
    "df.hist()"
   ]
  },
  {
   "cell_type": "code",
   "execution_count": 15,
   "metadata": {},
   "outputs": [
    {
     "data": {
      "text/plain": [
       "<AxesSubplot:xlabel='majority_acc', ylabel='minority_acc'>"
      ]
     },
     "execution_count": 15,
     "metadata": {},
     "output_type": "execute_result"
    },
    {
     "data": {
      "image/png": "[encoded data removed]",
      "text/plain": [
       "<Figure size 432x288 with 1 Axes>"
      ]
     },
     "metadata": {
      "needs_background": "light"
     },
     "output_type": "display_data"
    }
   ],
   "source": [
    "get_data(20, member_generation=True).plot.scatter(x='majority_acc', y='minority_acc') "
   ]
  },
  {
   "cell_type": "code",
   "execution_count": 18,
   "metadata": {},
   "outputs": [
    {
     "data": {
      "text/html": [
       "<div>\n",
       "<style scoped>\n",
       "    .dataframe tbody tr th:only-of-type {\n",
       "        vertical-align: middle;\n",
       "    }\n",
       "\n",
       "    .dataframe tbody tr th {\n",
       "        vertical-align: top;\n",
       "    }\n",
       "\n",
       "    .dataframe thead th {\n",
       "        text-align: right;\n",
       "    }\n",
       "</style>\n",
       "<table border=\"1\" class=\"dataframe\">\n",
       "  <thead>\n",
       "    <tr style=\"text-align: right;\">\n",
       "      <th></th>\n",
       "      <th>count</th>\n",
       "      <th>mean</th>\n",
       "      <th>std</th>\n",
       "      <th>min</th>\n",
       "      <th>25%</th>\n",
       "      <th>50%</th>\n",
       "      <th>75%</th>\n",
       "      <th>max</th>\n",
       "    </tr>\n",
       "  </thead>\n",
       "  <tbody>\n",
       "    <tr>\n",
       "      <th>cleveland_gp</th>\n",
       "      <td>30.0</td>\n",
       "      <td>0.879245</td>\n",
       "      <td>0.033276</td>\n",
       "      <td>0.811321</td>\n",
       "      <td>0.867925</td>\n",
       "      <td>0.882075</td>\n",
       "      <td>0.903302</td>\n",
       "      <td>0.933962</td>\n",
       "    </tr>\n",
       "    <tr>\n",
       "      <th>ionosphere_gp</th>\n",
       "      <td>30.0</td>\n",
       "      <td>0.826372</td>\n",
       "      <td>0.020058</td>\n",
       "      <td>0.779116</td>\n",
       "      <td>0.811245</td>\n",
       "      <td>0.829317</td>\n",
       "      <td>0.842369</td>\n",
       "      <td>0.863454</td>\n",
       "    </tr>\n",
       "    <tr>\n",
       "      <th>ecoli_gp</th>\n",
       "      <td>30.0</td>\n",
       "      <td>0.537778</td>\n",
       "      <td>0.155982</td>\n",
       "      <td>0.333333</td>\n",
       "      <td>0.333333</td>\n",
       "      <td>0.666667</td>\n",
       "      <td>0.666667</td>\n",
       "      <td>0.666667</td>\n",
       "    </tr>\n",
       "    <tr>\n",
       "      <th>iris_gp</th>\n",
       "      <td>30.0</td>\n",
       "      <td>0.146535</td>\n",
       "      <td>0.144591</td>\n",
       "      <td>0.009901</td>\n",
       "      <td>0.022277</td>\n",
       "      <td>0.099010</td>\n",
       "      <td>0.254950</td>\n",
       "      <td>0.425743</td>\n",
       "    </tr>\n",
       "    <tr>\n",
       "      <th>mammo_graphic_gp</th>\n",
       "      <td>30.0</td>\n",
       "      <td>0.700823</td>\n",
       "      <td>0.041983</td>\n",
       "      <td>0.604938</td>\n",
       "      <td>0.679012</td>\n",
       "      <td>0.703704</td>\n",
       "      <td>0.728395</td>\n",
       "      <td>0.790123</td>\n",
       "    </tr>\n",
       "    <tr>\n",
       "      <th>wisconsin_breast_cancer_gp</th>\n",
       "      <td>30.0</td>\n",
       "      <td>0.711111</td>\n",
       "      <td>0.034250</td>\n",
       "      <td>0.629630</td>\n",
       "      <td>0.703704</td>\n",
       "      <td>0.703704</td>\n",
       "      <td>0.740741</td>\n",
       "      <td>0.777778</td>\n",
       "    </tr>\n",
       "    <tr>\n",
       "      <th>australia_gp</th>\n",
       "      <td>30.0</td>\n",
       "      <td>0.721095</td>\n",
       "      <td>0.072591</td>\n",
       "      <td>0.574879</td>\n",
       "      <td>0.683575</td>\n",
       "      <td>0.724638</td>\n",
       "      <td>0.758454</td>\n",
       "      <td>0.859903</td>\n",
       "    </tr>\n",
       "    <tr>\n",
       "      <th>postop_gp</th>\n",
       "      <td>30.0</td>\n",
       "      <td>0.377354</td>\n",
       "      <td>0.054453</td>\n",
       "      <td>0.311659</td>\n",
       "      <td>0.328475</td>\n",
       "      <td>0.367713</td>\n",
       "      <td>0.417040</td>\n",
       "      <td>0.482063</td>\n",
       "    </tr>\n",
       "    <tr>\n",
       "      <th>yeast_gp</th>\n",
       "      <td>30.0</td>\n",
       "      <td>0.793333</td>\n",
       "      <td>0.042845</td>\n",
       "      <td>0.722222</td>\n",
       "      <td>0.766667</td>\n",
       "      <td>0.788889</td>\n",
       "      <td>0.830556</td>\n",
       "      <td>0.866667</td>\n",
       "    </tr>\n",
       "    <tr>\n",
       "      <th>spec_gp</th>\n",
       "      <td>30.0</td>\n",
       "      <td>0.855072</td>\n",
       "      <td>0.018602</td>\n",
       "      <td>0.806763</td>\n",
       "      <td>0.841787</td>\n",
       "      <td>0.850242</td>\n",
       "      <td>0.868357</td>\n",
       "      <td>0.888889</td>\n",
       "    </tr>\n",
       "    <tr>\n",
       "      <th>cleveland_bag</th>\n",
       "      <td>30.0</td>\n",
       "      <td>0.306502</td>\n",
       "      <td>0.008597</td>\n",
       "      <td>0.289238</td>\n",
       "      <td>0.306054</td>\n",
       "      <td>0.310538</td>\n",
       "      <td>0.311659</td>\n",
       "      <td>0.316143</td>\n",
       "    </tr>\n",
       "    <tr>\n",
       "      <th>ionosphere_bag</th>\n",
       "      <td>30.0</td>\n",
       "      <td>0.956423</td>\n",
       "      <td>0.019127</td>\n",
       "      <td>0.912195</td>\n",
       "      <td>0.946341</td>\n",
       "      <td>0.958537</td>\n",
       "      <td>0.974390</td>\n",
       "      <td>0.980488</td>\n",
       "    </tr>\n",
       "    <tr>\n",
       "      <th>ecoli_bag</th>\n",
       "      <td>30.0</td>\n",
       "      <td>0.960976</td>\n",
       "      <td>0.014265</td>\n",
       "      <td>0.926829</td>\n",
       "      <td>0.951220</td>\n",
       "      <td>0.963415</td>\n",
       "      <td>0.970732</td>\n",
       "      <td>0.985366</td>\n",
       "    </tr>\n",
       "    <tr>\n",
       "      <th>iris_bag</th>\n",
       "      <td>30.0</td>\n",
       "      <td>0.690123</td>\n",
       "      <td>0.086167</td>\n",
       "      <td>0.481481</td>\n",
       "      <td>0.638889</td>\n",
       "      <td>0.740741</td>\n",
       "      <td>0.740741</td>\n",
       "      <td>0.814815</td>\n",
       "    </tr>\n",
       "    <tr>\n",
       "      <th>mammo_graphic_bag</th>\n",
       "      <td>30.0</td>\n",
       "      <td>0.852496</td>\n",
       "      <td>0.024820</td>\n",
       "      <td>0.777778</td>\n",
       "      <td>0.841787</td>\n",
       "      <td>0.850242</td>\n",
       "      <td>0.868357</td>\n",
       "      <td>0.898551</td>\n",
       "    </tr>\n",
       "    <tr>\n",
       "      <th>wisconsin_breast_cancer_bag</th>\n",
       "      <td>30.0</td>\n",
       "      <td>0.788889</td>\n",
       "      <td>0.041162</td>\n",
       "      <td>0.688889</td>\n",
       "      <td>0.766667</td>\n",
       "      <td>0.788889</td>\n",
       "      <td>0.811111</td>\n",
       "      <td>0.877778</td>\n",
       "    </tr>\n",
       "    <tr>\n",
       "      <th>australia_bag</th>\n",
       "      <td>30.0</td>\n",
       "      <td>0.693416</td>\n",
       "      <td>0.051984</td>\n",
       "      <td>0.604938</td>\n",
       "      <td>0.666667</td>\n",
       "      <td>0.691358</td>\n",
       "      <td>0.725309</td>\n",
       "      <td>0.802469</td>\n",
       "    </tr>\n",
       "    <tr>\n",
       "      <th>postop_bag</th>\n",
       "      <td>30.0</td>\n",
       "      <td>0.314873</td>\n",
       "      <td>0.006575</td>\n",
       "      <td>0.309417</td>\n",
       "      <td>0.311659</td>\n",
       "      <td>0.311659</td>\n",
       "      <td>0.316143</td>\n",
       "      <td>0.345291</td>\n",
       "    </tr>\n",
       "    <tr>\n",
       "      <th>yeast_bag</th>\n",
       "      <td>30.0</td>\n",
       "      <td>0.808780</td>\n",
       "      <td>0.075672</td>\n",
       "      <td>0.639024</td>\n",
       "      <td>0.771951</td>\n",
       "      <td>0.824390</td>\n",
       "      <td>0.863415</td>\n",
       "      <td>0.902439</td>\n",
       "    </tr>\n",
       "    <tr>\n",
       "      <th>spec_bag</th>\n",
       "      <td>30.0</td>\n",
       "      <td>0.654321</td>\n",
       "      <td>0.068316</td>\n",
       "      <td>0.518519</td>\n",
       "      <td>0.592593</td>\n",
       "      <td>0.666667</td>\n",
       "      <td>0.694444</td>\n",
       "      <td>0.777778</td>\n",
       "    </tr>\n",
       "    <tr>\n",
       "      <th>cleveland_nich</th>\n",
       "      <td>30.0</td>\n",
       "      <td>0.674815</td>\n",
       "      <td>0.085068</td>\n",
       "      <td>0.422222</td>\n",
       "      <td>0.633333</td>\n",
       "      <td>0.683333</td>\n",
       "      <td>0.733333</td>\n",
       "      <td>0.811111</td>\n",
       "    </tr>\n",
       "    <tr>\n",
       "      <th>ionosphere_nich</th>\n",
       "      <td>30.0</td>\n",
       "      <td>0.607407</td>\n",
       "      <td>0.100892</td>\n",
       "      <td>0.370370</td>\n",
       "      <td>0.527778</td>\n",
       "      <td>0.629630</td>\n",
       "      <td>0.666667</td>\n",
       "      <td>0.777778</td>\n",
       "    </tr>\n",
       "    <tr>\n",
       "      <th>ecoli_nich</th>\n",
       "      <td>30.0</td>\n",
       "      <td>0.960163</td>\n",
       "      <td>0.016853</td>\n",
       "      <td>0.921951</td>\n",
       "      <td>0.948780</td>\n",
       "      <td>0.960976</td>\n",
       "      <td>0.970732</td>\n",
       "      <td>0.990244</td>\n",
       "    </tr>\n",
       "    <tr>\n",
       "      <th>iris_nich</th>\n",
       "      <td>30.0</td>\n",
       "      <td>0.793333</td>\n",
       "      <td>0.068902</td>\n",
       "      <td>0.533333</td>\n",
       "      <td>0.766667</td>\n",
       "      <td>0.800000</td>\n",
       "      <td>0.833333</td>\n",
       "      <td>0.877778</td>\n",
       "    </tr>\n",
       "    <tr>\n",
       "      <th>mammo_graphic_nich</th>\n",
       "      <td>30.0</td>\n",
       "      <td>0.544856</td>\n",
       "      <td>0.078063</td>\n",
       "      <td>0.370370</td>\n",
       "      <td>0.496914</td>\n",
       "      <td>0.537037</td>\n",
       "      <td>0.592593</td>\n",
       "      <td>0.679012</td>\n",
       "    </tr>\n",
       "    <tr>\n",
       "      <th>wisconsin_breast_cancer_nich</th>\n",
       "      <td>30.0</td>\n",
       "      <td>0.849114</td>\n",
       "      <td>0.024688</td>\n",
       "      <td>0.806763</td>\n",
       "      <td>0.828502</td>\n",
       "      <td>0.847826</td>\n",
       "      <td>0.863527</td>\n",
       "      <td>0.893720</td>\n",
       "    </tr>\n",
       "    <tr>\n",
       "      <th>australia_nich</th>\n",
       "      <td>30.0</td>\n",
       "      <td>0.096263</td>\n",
       "      <td>0.100764</td>\n",
       "      <td>0.013453</td>\n",
       "      <td>0.033632</td>\n",
       "      <td>0.036996</td>\n",
       "      <td>0.113229</td>\n",
       "      <td>0.311659</td>\n",
       "    </tr>\n",
       "    <tr>\n",
       "      <th>postop_nich</th>\n",
       "      <td>30.0</td>\n",
       "      <td>0.668148</td>\n",
       "      <td>0.109324</td>\n",
       "      <td>0.333333</td>\n",
       "      <td>0.666667</td>\n",
       "      <td>0.666667</td>\n",
       "      <td>0.727778</td>\n",
       "      <td>0.888889</td>\n",
       "    </tr>\n",
       "    <tr>\n",
       "      <th>yeast_nich</th>\n",
       "      <td>30.0</td>\n",
       "      <td>0.444884</td>\n",
       "      <td>0.091631</td>\n",
       "      <td>0.158416</td>\n",
       "      <td>0.418317</td>\n",
       "      <td>0.430693</td>\n",
       "      <td>0.500000</td>\n",
       "      <td>0.653465</td>\n",
       "    </tr>\n",
       "    <tr>\n",
       "      <th>spec_nich</th>\n",
       "      <td>30.0</td>\n",
       "      <td>0.950370</td>\n",
       "      <td>0.035824</td>\n",
       "      <td>0.844444</td>\n",
       "      <td>0.933333</td>\n",
       "      <td>0.955556</td>\n",
       "      <td>0.977778</td>\n",
       "      <td>1.000000</td>\n",
       "    </tr>\n",
       "    <tr>\n",
       "      <th>cleveland_ccgp</th>\n",
       "      <td>30.0</td>\n",
       "      <td>0.793307</td>\n",
       "      <td>0.030233</td>\n",
       "      <td>0.742972</td>\n",
       "      <td>0.776104</td>\n",
       "      <td>0.791165</td>\n",
       "      <td>0.818273</td>\n",
       "      <td>0.871486</td>\n",
       "    </tr>\n",
       "    <tr>\n",
       "      <th>ionosphere_ccgp</th>\n",
       "      <td>30.0</td>\n",
       "      <td>0.692079</td>\n",
       "      <td>0.052285</td>\n",
       "      <td>0.633663</td>\n",
       "      <td>0.646040</td>\n",
       "      <td>0.678218</td>\n",
       "      <td>0.732673</td>\n",
       "      <td>0.811881</td>\n",
       "    </tr>\n",
       "    <tr>\n",
       "      <th>ecoli_ccgp</th>\n",
       "      <td>30.0</td>\n",
       "      <td>0.781761</td>\n",
       "      <td>0.064687</td>\n",
       "      <td>0.669811</td>\n",
       "      <td>0.721698</td>\n",
       "      <td>0.773585</td>\n",
       "      <td>0.839623</td>\n",
       "      <td>0.896226</td>\n",
       "    </tr>\n",
       "    <tr>\n",
       "      <th>iris_ccgp</th>\n",
       "      <td>30.0</td>\n",
       "      <td>0.679012</td>\n",
       "      <td>0.052479</td>\n",
       "      <td>0.592593</td>\n",
       "      <td>0.641975</td>\n",
       "      <td>0.679012</td>\n",
       "      <td>0.712963</td>\n",
       "      <td>0.790123</td>\n",
       "    </tr>\n",
       "    <tr>\n",
       "      <th>mammo_graphic_ccgp</th>\n",
       "      <td>30.0</td>\n",
       "      <td>0.862579</td>\n",
       "      <td>0.054091</td>\n",
       "      <td>0.726415</td>\n",
       "      <td>0.839623</td>\n",
       "      <td>0.858491</td>\n",
       "      <td>0.903302</td>\n",
       "      <td>0.943396</td>\n",
       "    </tr>\n",
       "    <tr>\n",
       "      <th>wisconsin_breast_cancer_ccgp</th>\n",
       "      <td>30.0</td>\n",
       "      <td>0.623102</td>\n",
       "      <td>0.034586</td>\n",
       "      <td>0.485149</td>\n",
       "      <td>0.623762</td>\n",
       "      <td>0.633663</td>\n",
       "      <td>0.643564</td>\n",
       "      <td>0.653465</td>\n",
       "    </tr>\n",
       "    <tr>\n",
       "      <th>australia_ccgp</th>\n",
       "      <td>30.0</td>\n",
       "      <td>0.821954</td>\n",
       "      <td>0.023187</td>\n",
       "      <td>0.783133</td>\n",
       "      <td>0.803213</td>\n",
       "      <td>0.823293</td>\n",
       "      <td>0.839357</td>\n",
       "      <td>0.863454</td>\n",
       "    </tr>\n",
       "    <tr>\n",
       "      <th>postop_ccgp</th>\n",
       "      <td>30.0</td>\n",
       "      <td>0.908148</td>\n",
       "      <td>0.070450</td>\n",
       "      <td>0.688889</td>\n",
       "      <td>0.872222</td>\n",
       "      <td>0.933333</td>\n",
       "      <td>0.955556</td>\n",
       "      <td>0.977778</td>\n",
       "    </tr>\n",
       "    <tr>\n",
       "      <th>yeast_ccgp</th>\n",
       "      <td>30.0</td>\n",
       "      <td>0.699686</td>\n",
       "      <td>0.036418</td>\n",
       "      <td>0.603774</td>\n",
       "      <td>0.679245</td>\n",
       "      <td>0.698113</td>\n",
       "      <td>0.714623</td>\n",
       "      <td>0.801887</td>\n",
       "    </tr>\n",
       "    <tr>\n",
       "      <th>spec_ccgp</th>\n",
       "      <td>30.0</td>\n",
       "      <td>0.758635</td>\n",
       "      <td>0.056770</td>\n",
       "      <td>0.602410</td>\n",
       "      <td>0.746988</td>\n",
       "      <td>0.771084</td>\n",
       "      <td>0.791165</td>\n",
       "      <td>0.827309</td>\n",
       "    </tr>\n",
       "  </tbody>\n",
       "</table>\n",
       "</div>"
      ],
      "text/plain": [
       "                              count      mean       std       min       25%  \\\n",
       "cleveland_gp                   30.0  0.879245  0.033276  0.811321  0.867925   \n",
       "ionosphere_gp                  30.0  0.826372  0.020058  0.779116  0.811245   \n",
       "ecoli_gp                       30.0  0.537778  0.155982  0.333333  0.333333   \n",
       "iris_gp                        30.0  0.146535  0.144591  0.009901  0.022277   \n",
       "mammo_graphic_gp               30.0  0.700823  0.041983  0.604938  0.679012   \n",
       "wisconsin_breast_cancer_gp     30.0  0.711111  0.034250  0.629630  0.703704   \n",
       "australia_gp                   30.0  0.721095  0.072591  0.574879  0.683575   \n",
       "postop_gp                      30.0  0.377354  0.054453  0.311659  0.328475   \n",
       "yeast_gp                       30.0  0.793333  0.042845  0.722222  0.766667   \n",
       "spec_gp                        30.0  0.855072  0.018602  0.806763  0.841787   \n",
       "cleveland_bag                  30.0  0.306502  0.008597  0.289238  0.306054   \n",
       "ionosphere_bag                 30.0  0.956423  0.019127  0.912195  0.946341   \n",
       "ecoli_bag                      30.0  0.960976  0.014265  0.926829  0.951220   \n",
       "iris_bag                       30.0  0.690123  0.086167  0.481481  0.638889   \n",
       "mammo_graphic_bag              30.0  0.852496  0.024820  0.777778  0.841787   \n",
       "wisconsin_breast_cancer_bag    30.0  0.788889  0.041162  0.688889  0.766667   \n",
       "australia_bag                  30.0  0.693416  0.051984  0.604938  0.666667   \n",
       "postop_bag                     30.0  0.314873  0.006575  0.309417  0.311659   \n",
       "yeast_bag                      30.0  0.808780  0.075672  0.639024  0.771951   \n",
       "spec_bag                       30.0  0.654321  0.068316  0.518519  0.592593   \n",
       "cleveland_nich                 30.0  0.674815  0.085068  0.422222  0.633333   \n",
       "ionosphere_nich                30.0  0.607407  0.100892  0.370370  0.527778   \n",
       "ecoli_nich                     30.0  0.960163  0.016853  0.921951  0.948780   \n",
       "iris_nich                      30.0  0.793333  0.068902  0.533333  0.766667   \n",
       "mammo_graphic_nich             30.0  0.544856  0.078063  0.370370  0.496914   \n",
       "wisconsin_breast_cancer_nich   30.0  0.849114  0.024688  0.806763  0.828502   \n",
       "australia_nich                 30.0  0.096263  0.100764  0.013453  0.033632   \n",
       "postop_nich                    30.0  0.668148  0.109324  0.333333  0.666667   \n",
       "yeast_nich                     30.0  0.444884  0.091631  0.158416  0.418317   \n",
       "spec_nich                      30.0  0.950370  0.035824  0.844444  0.933333   \n",
       "cleveland_ccgp                 30.0  0.793307  0.030233  0.742972  0.776104   \n",
       "ionosphere_ccgp                30.0  0.692079  0.052285  0.633663  0.646040   \n",
       "ecoli_ccgp                     30.0  0.781761  0.064687  0.669811  0.721698   \n",
       "iris_ccgp                      30.0  0.679012  0.052479  0.592593  0.641975   \n",
       "mammo_graphic_ccgp             30.0  0.862579  0.054091  0.726415  0.839623   \n",
       "wisconsin_breast_cancer_ccgp   30.0  0.623102  0.034586  0.485149  0.623762   \n",
       "australia_ccgp                 30.0  0.821954  0.023187  0.783133  0.803213   \n",
       "postop_ccgp                    30.0  0.908148  0.070450  0.688889  0.872222   \n",
       "yeast_ccgp                     30.0  0.699686  0.036418  0.603774  0.679245   \n",
       "spec_ccgp                      30.0  0.758635  0.056770  0.602410  0.746988   \n",
       "\n",
       "                                   50%       75%       max  \n",
       "cleveland_gp                  0.882075  0.903302  0.933962  \n",
       "ionosphere_gp                 0.829317  0.842369  0.863454  \n",
       "ecoli_gp                      0.666667  0.666667  0.666667  \n",
       "iris_gp                       0.099010  0.254950  0.425743  \n",
       "mammo_graphic_gp              0.703704  0.728395  0.790123  \n",
       "wisconsin_breast_cancer_gp    0.703704  0.740741  0.777778  \n",
       "australia_gp                  0.724638  0.758454  0.859903  \n",
       "postop_gp                     0.367713  0.417040  0.482063  \n",
       "yeast_gp                      0.788889  0.830556  0.866667  \n",
       "spec_gp                       0.850242  0.868357  0.888889  \n",
       "cleveland_bag                 0.310538  0.311659  0.316143  \n",
       "ionosphere_bag                0.958537  0.974390  0.980488  \n",
       "ecoli_bag                     0.963415  0.970732  0.985366  \n",
       "iris_bag                      0.740741  0.740741  0.814815  \n",
       "mammo_graphic_bag             0.850242  0.868357  0.898551  \n",
       "wisconsin_breast_cancer_bag   0.788889  0.811111  0.877778  \n",
       "australia_bag                 0.691358  0.725309  0.802469  \n",
       "postop_bag                    0.311659  0.316143  0.345291  \n",
       "yeast_bag                     0.824390  0.863415  0.902439  \n",
       "spec_bag                      0.666667  0.694444  0.777778  \n",
       "cleveland_nich                0.683333  0.733333  0.811111  \n",
       "ionosphere_nich               0.629630  0.666667  0.777778  \n",
       "ecoli_nich                    0.960976  0.970732  0.990244  \n",
       "iris_nich                     0.800000  0.833333  0.877778  \n",
       "mammo_graphic_nich            0.537037  0.592593  0.679012  \n",
       "wisconsin_breast_cancer_nich  0.847826  0.863527  0.893720  \n",
       "australia_nich                0.036996  0.113229  0.311659  \n",
       "postop_nich                   0.666667  0.727778  0.888889  \n",
       "yeast_nich                    0.430693  0.500000  0.653465  \n",
       "spec_nich                     0.955556  0.977778  1.000000  \n",
       "cleveland_ccgp                0.791165  0.818273  0.871486  \n",
       "ionosphere_ccgp               0.678218  0.732673  0.811881  \n",
       "ecoli_ccgp                    0.773585  0.839623  0.896226  \n",
       "iris_ccgp                     0.679012  0.712963  0.790123  \n",
       "mammo_graphic_ccgp            0.858491  0.903302  0.943396  \n",
       "wisconsin_breast_cancer_ccgp  0.633663  0.643564  0.653465  \n",
       "australia_ccgp                0.823293  0.839357  0.863454  \n",
       "postop_ccgp                   0.933333  0.955556  0.977778  \n",
       "yeast_ccgp                    0.698113  0.714623  0.801887  \n",
       "spec_ccgp                     0.771084  0.791165  0.827309  "
      ]
     },
     "execution_count": 18,
     "metadata": {},
     "output_type": "execute_result"
    }
   ],
   "source": [
    "# Get the description for each. \n",
    "data2= []\n",
    "for key in data.keys():\n",
    "    try:\n",
    "        data2.append(get_data(key, member_generation=False)['full_acc'].describe())\n",
    "    except:\n",
    "        pass\n",
    "\n",
    "description = pd.DataFrame(data=data2)\n",
    "description = description.reset_index()\n",
    "description = description.drop(columns='index')\n",
    "name_dict = {}\n",
    "i = 0\n",
    "for model in model_names:\n",
    "    for dataset in datasets:\n",
    "        name_dict[i] = dataset+'_'+model\n",
    "        i += 1\n",
    "description.rename(index=name_dict, inplace=True)\n",
    "description"
   ]
  },
  {
   "cell_type": "code",
   "execution_count": 19,
   "metadata": {},
   "outputs": [
    {
     "data": {
      "text/plain": [
       "<AxesSubplot:xlabel='mean', ylabel='std'>"
      ]
     },
     "execution_count": 19,
     "metadata": {},
     "output_type": "execute_result"
    },
    {
     "data": {
      "image/png": "[encoded data removed]",
      "text/plain": [
       "<Figure size 432x288 with 1 Axes>"
      ]
     },
     "metadata": {
      "needs_background": "light"
     },
     "output_type": "display_data"
    }
   ],
   "source": [
    "description.plot.scatter('mean', 'std')"
   ]
  },
  {
   "cell_type": "code",
   "execution_count": 20,
   "metadata": {},
   "outputs": [
    {
     "data": {
      "text/plain": [
       "<AxesSubplot:ylabel='Frequency'>"
      ]
     },
     "execution_count": 20,
     "metadata": {},
     "output_type": "execute_result"
    },
    {
     "data": {
      "image/png": "[encoded data removed]",
      "text/plain": [
       "<Figure size 432x288 with 1 Axes>"
      ]
     },
     "metadata": {
      "needs_background": "light"
     },
     "output_type": "display_data"
    }
   ],
   "source": [
    "description['mean'].plot.hist()"
   ]
  },
  {
   "cell_type": "markdown",
   "metadata": {},
   "source": [
    "# Graphing a task"
   ]
  },
  {
   "cell_type": "markdown",
   "metadata": {},
   "source": [
    "# Analysis of the description\n",
    "\n",
    "This table shows the performance of the bag model on each dataset. Important aspects:\n",
    "- yeast and spec both have the same accuracy within the quantiles, this suggests the model isn't correct. Potentially it only outputs 0 or 1. \n",
    "- The performance is not particularly impressive, maybe tuning the hyper parameters could be useful\n",
    "\n",
    "\n"
   ]
  },
  {
   "cell_type": "code",
   "execution_count": 21,
   "metadata": {},
   "outputs": [],
   "source": [
    "# data, get_data(member_generation, training. )"
   ]
  },
  {
   "cell_type": "code",
   "execution_count": null,
   "metadata": {},
   "outputs": [],
   "source": []
  },
  {
   "cell_type": "markdown",
   "metadata": {},
   "source": [
    "# Graphs on training "
   ]
  },
  {
   "cell_type": "markdown",
   "metadata": {},
   "source": [
    "# Box plot"
   ]
  },
  {
   "cell_type": "code",
   "execution_count": 38,
   "metadata": {},
   "outputs": [
    {
     "data": {
      "image/png": "[encoded data removed]",
      "text/plain": [
       "<Figure size 432x288 with 1 Axes>"
      ]
     },
     "metadata": {
      "needs_background": "light"
     },
     "output_type": "display_data"
    }
   ],
   "source": [
    "Xtest = np.array([get_data(z, member_generation=False, training=False)['full_acc'] for z in (data.keys())])\n",
    "Xtest = X.flatten()\n",
    "\n",
    "Xtrain = np.array([get_data(z, member_generation=False, training=True)['full_acc'] for z in (data.keys())])\n",
    "Xtrain = X.flatten()\n",
    "\n",
    "fig, ax = plt.subplots()\n",
    "ax.boxplot([Xtrain, Xtest])\n",
    "plt.show()\n"
   ]
  },
  {
   "cell_type": "markdown",
   "metadata": {},
   "source": [
    "## History of training performance per dataset on a box plot"
   ]
  },
  {
   "cell_type": "code",
   "execution_count": 41,
   "metadata": {},
   "outputs": [
    {
     "data": {
      "image/png": "[encoded data removed]",
      "text/plain": [
       "<Figure size 2160x720 with 1 Axes>"
      ]
     },
     "metadata": {
      "needs_background": "light"
     },
     "output_type": "display_data"
    }
   ],
   "source": [
    "plots = []\n",
    "for row_i in range(len(axis)):\n",
    "    for col_i in range(len(axis[row_i])):\n",
    "        ind = (row_i * 5) + col_i + 1 # 1->10 \n",
    "        dataset_keys = [ind, ind+10, ind+20, ind+30] # keys for each dataset on each model\n",
    "        X = np.array([get_data(z, member_generation=False, training=True)['full_acc'] for z in data.keys() if z in dataset_keys])\n",
    "        X = X.flatten()\n",
    "        plots.append(X)\n",
    "        #dfX = pd.DataFrame(data=X, columns=[names[ind].replace('gp','')])\n",
    "        #dfX.plot.hist(ax=axis[row_i,col_i],sharex=False, sharey=False, xticks=[0.0,0.1,0.2,0.3,0.4,0.5,0.6,0.7,0.8,0.9,1.0], color='green')\n",
    "\n",
    "\n",
    "fig, ax = plt.subplots(figsize=(30, 10))\n",
    "ax.boxplot(plots)\n",
    "plt.show()"
   ]
  },
  {
   "cell_type": "markdown",
   "metadata": {},
   "source": [
    "## Histogram of test performance per dataset"
   ]
  },
  {
   "cell_type": "code",
   "execution_count": 42,
   "metadata": {},
   "outputs": [
    {
     "data": {
      "image/png": "[encoded data removed]",
      "text/plain": [
       "<Figure size 2160x720 with 1 Axes>"
      ]
     },
     "metadata": {
      "needs_background": "light"
     },
     "output_type": "display_data"
    }
   ],
   "source": [
    "plots = []\n",
    "for row_i in range(len(axis)):\n",
    "    for col_i in range(len(axis[row_i])):\n",
    "        ind = (row_i * 5) + col_i + 1 # 1->10 \n",
    "        dataset_keys = [ind, ind+10, ind+20, ind+30] # keys for each dataset on each model\n",
    "        X = np.array([get_data(z, member_generation=False, training=False)['full_acc'] for z in data.keys() if z in dataset_keys])\n",
    "        X = X.flatten()\n",
    "        plots.append(X)\n",
    "        #dfX = pd.DataFrame(data=X, columns=[names[ind].replace('gp','')])\n",
    "        #dfX.plot.hist(ax=axis[row_i,col_i],sharex=False, sharey=False, xticks=[0.0,0.1,0.2,0.3,0.4,0.5,0.6,0.7,0.8,0.9,1.0], color='green')\n",
    "\n",
    "fig, ax = plt.subplots(figsize=(30, 10))\n",
    "ax.boxplot(plots)\n",
    "plt.show()"
   ]
  },
  {
   "cell_type": "markdown",
   "metadata": {},
   "source": [
    "## Histogram of train performance per model, arranged on a 1x4 grid "
   ]
  },
  {
   "cell_type": "code",
   "execution_count": 43,
   "metadata": {},
   "outputs": [
    {
     "data": {
      "image/png": "[encoded data removed]",
      "text/plain": [
       "<Figure size 2160x720 with 1 Axes>"
      ]
     },
     "metadata": {
      "needs_background": "light"
     },
     "output_type": "display_data"
    }
   ],
   "source": [
    "plots = []\n",
    "for row_i in range(len(axis)):\n",
    "    row_i = row_i + 1\n",
    "    X = np.array([get_data(z, member_generation=False, training=True)['full_acc'] for z in data.keys() if z in keys_by_model(row_i-1)])\n",
    "    X = X.flatten()\n",
    "    plots.append(X)\n",
    "    #dfX = pd.DataFrame(data=X, columns=[model_names[row_i-1]])\n",
    "    #dfX.plot.hist(ax=axis[row_i-1],sharex=False, sharey=False, xticks=[0.0,0.1,0.2,0.3,0.4,0.5,0.6,0.7,0.8,0.9,1.0], color='green')\n",
    "fig, ax = plt.subplots(figsize=(30, 10))\n",
    "ax.boxplot(plots)\n",
    "plt.show()"
   ]
  },
  {
   "cell_type": "markdown",
   "metadata": {},
   "source": [
    "## Histogram of test performance per model, arranged on a 1x4 grid "
   ]
  },
  {
   "cell_type": "code",
   "execution_count": 44,
   "metadata": {},
   "outputs": [
    {
     "data": {
      "image/png": "[encoded data removed]",
      "text/plain": [
       "<Figure size 2160x720 with 1 Axes>"
      ]
     },
     "metadata": {
      "needs_background": "light"
     },
     "output_type": "display_data"
    }
   ],
   "source": [
    "plots = []\n",
    "for row_i in range(len(axis)):\n",
    "    row_i = row_i + 1\n",
    "    X = np.array([get_data(z, member_generation=False, training=False)['full_acc'] for z in data.keys() if z in keys_by_model(row_i-1)])\n",
    "    X = X.flatten()\n",
    "    plots.append(X)\n",
    "    #dfX = pd.DataFrame(data=X, columns=[model_names[row_i-1]])\n",
    "    #dfX.plot.hist(ax=axis[row_i-1],sharex=False, sharey=False, xticks=[0.0,0.1,0.2,0.3,0.4,0.5,0.6,0.7,0.8,0.9,1.0], color='green')\n",
    "fig, ax = plt.subplots(figsize=(30, 10))\n",
    "ax.boxplot(plots)\n",
    "plt.show()"
   ]
  },
  {
   "cell_type": "markdown",
   "metadata": {},
   "source": [
    "## Training performance of GP per over each datset "
   ]
  },
  {
   "cell_type": "code",
   "execution_count": 45,
   "metadata": {},
   "outputs": [
    {
     "data": {
      "image/png": "[encoded data removed]",
      "text/plain": [
       "<Figure size 2160x720 with 1 Axes>"
      ]
     },
     "metadata": {
      "needs_background": "light"
     },
     "output_type": "display_data"
    }
   ],
   "source": [
    "plots = []\n",
    "for row_i in range(len(axis)):\n",
    "    for col_i in range(len(axis[row_i])):\n",
    "        ind = (row_i * 5) + col_i + 1 # 1->10 \n",
    "        dataset_keys = [ind, ind+10, ind+20, ind+30] # keys for each dataset on each model\n",
    "        X = np.array([get_data(z, member_generation=False, training=True)['full_acc'] for z in data.keys() if z in dataset_keys and z in keys_by_model(1)])\n",
    "        X = X.flatten()\n",
    "        plots.append(X)\n",
    "        #dfX = pd.DataFrame(data=X, columns=[names[ind].replace('gp',model_names[row_i-1]+'_')])\n",
    "        #dfX.plot.hist(ax=axis[row_i,col_i],sharex=False, sharey=False, xticks=[0.0,0.1,0.2,0.3,0.4,0.5,0.6,0.7,0.8,0.9,1.0], color='green')\n",
    "fig, ax = plt.subplots(figsize=(30, 10))\n",
    "ax.boxplot(plots)\n",
    "plt.show()"
   ]
  },
  {
   "cell_type": "markdown",
   "metadata": {},
   "source": [
    "## Test performance of GP per over each datset "
   ]
  },
  {
   "cell_type": "code",
   "execution_count": 46,
   "metadata": {},
   "outputs": [
    {
     "data": {
      "image/png": "[encoded data removed]",
      "text/plain": [
       "<Figure size 2160x720 with 1 Axes>"
      ]
     },
     "metadata": {
      "needs_background": "light"
     },
     "output_type": "display_data"
    }
   ],
   "source": [
    "plots = []\n",
    "for row_i in range(len(axis)):\n",
    "    for col_i in range(len(axis[row_i])):\n",
    "        ind = (row_i * 5) + col_i + 1 # 1->10 \n",
    "        dataset_keys = [ind, ind+10, ind+20, ind+30] # keys for each dataset on each model\n",
    "        X = np.array([get_data(z, member_generation=False, training=False)['full_acc'] for z in data.keys() if z in dataset_keys and z in keys_by_model(1)])\n",
    "        X = X.flatten()\n",
    "        plots.append(X)\n",
    "        #dfX = pd.DataFrame(data=X, columns=[names[ind].replace('gp',model_names[row_i-1]+'_')])\n",
    "        #dfX.plot.hist(ax=axis[row_i,col_i],sharex=False, sharey=False, xticks=[0.0,0.1,0.2,0.3,0.4,0.5,0.6,0.7,0.8,0.9,1.0], color='green')\n",
    "fig, ax = plt.subplots(figsize=(30, 10))\n",
    "ax.boxplot(plots)\n",
    "plt.show()"
   ]
  },
  {
   "cell_type": "markdown",
   "metadata": {},
   "source": [
    "## Training performance of Bag per over each datset "
   ]
  },
  {
   "cell_type": "code",
   "execution_count": 47,
   "metadata": {},
   "outputs": [
    {
     "data": {
      "image/png": "[encoded data removed]",
      "text/plain": [
       "<Figure size 2160x720 with 1 Axes>"
      ]
     },
     "metadata": {
      "needs_background": "light"
     },
     "output_type": "display_data"
    }
   ],
   "source": [
    "plots = []\n",
    "for row_i in range(len(axis)):\n",
    "    for col_i in range(len(axis[row_i])):\n",
    "        ind = (row_i * 5) + col_i + 1 # 1->10 \n",
    "        dataset_keys = [ind, ind+10, ind+20, ind+30] # keys for each dataset on each model\n",
    "        X = np.array([get_data(z, member_generation=False, training=True)['full_acc'] for z in data.keys() if z in dataset_keys and z in keys_by_model(2)])\n",
    "        X = X.flatten()\n",
    "        plots.append(X)\n",
    "        #dfX = pd.DataFrame(data=X, columns=[names[ind].replace('gp',model_names[row_i-1]+'_')])\n",
    "        #dfX.plot.hist(ax=axis[row_i,col_i],sharex=False, sharey=False, xticks=[0.0,0.1,0.2,0.3,0.4,0.5,0.6,0.7,0.8,0.9,1.0], color='green')\n",
    "fig, ax = plt.subplots(figsize=(30, 10))\n",
    "ax.boxplot(plots)\n",
    "plt.show()"
   ]
  },
  {
   "cell_type": "markdown",
   "metadata": {},
   "source": [
    "## Test performance of Bag per over each datset "
   ]
  },
  {
   "cell_type": "code",
   "execution_count": 48,
   "metadata": {},
   "outputs": [
    {
     "data": {
      "image/png": "[encoded data removed]",
      "text/plain": [
       "<Figure size 2160x720 with 1 Axes>"
      ]
     },
     "metadata": {
      "needs_background": "light"
     },
     "output_type": "display_data"
    }
   ],
   "source": [
    "plots = []\n",
    "for row_i in range(len(axis)):\n",
    "    for col_i in range(len(axis[row_i])):\n",
    "        ind = (row_i * 5) + col_i + 1 # 1->10 \n",
    "        dataset_keys = [ind, ind+10, ind+20, ind+30] # keys for each dataset on each model\n",
    "        X = np.array([get_data(z, member_generation=False, training=False)['full_acc'] for z in data.keys() if z in dataset_keys and z in keys_by_model(2)])\n",
    "        X = X.flatten()\n",
    "        plots.append(X)\n",
    "        #dfX = pd.DataFrame(data=X, columns=[names[ind].replace('gp',model_names[row_i-1]+'_')])\n",
    "        #dfX.plot.hist(ax=axis[row_i,col_i],sharex=False, sharey=False, xticks=[0.0,0.1,0.2,0.3,0.4,0.5,0.6,0.7,0.8,0.9,1.0], color='green')\n",
    "fig, ax = plt.subplots(figsize=(30, 10))\n",
    "ax.boxplot(plots)\n",
    "plt.show()"
   ]
  },
  {
   "cell_type": "markdown",
   "metadata": {},
   "source": [
    "## Training performance of Niche per over each datset "
   ]
  },
  {
   "cell_type": "code",
   "execution_count": 49,
   "metadata": {},
   "outputs": [
    {
     "data": {
      "image/png": "[encoded data removed]",
      "text/plain": [
       "<Figure size 2160x720 with 1 Axes>"
      ]
     },
     "metadata": {
      "needs_background": "light"
     },
     "output_type": "display_data"
    }
   ],
   "source": [
    "plots = []\n",
    "for row_i in range(len(axis)):\n",
    "    for col_i in range(len(axis[row_i])):\n",
    "        ind = (row_i * 5) + col_i + 1 # 1->10 \n",
    "        dataset_keys = [ind, ind+10, ind+20, ind+30] # keys for each dataset on each model\n",
    "        X = np.array([get_data(z, member_generation=False, training=False)['full_acc'] for z in data.keys() if z in dataset_keys and z in keys_by_model(3)])\n",
    "        X = X.flatten()\n",
    "        plots.append(X)\n",
    "        #dfX = pd.DataFrame(data=X, columns=[names[ind].replace('gp',model_names[row_i-1]+'_')])\n",
    "        #dfX.plot.hist(ax=axis[row_i,col_i],sharex=False, sharey=False, xticks=[0.0,0.1,0.2,0.3,0.4,0.5,0.6,0.7,0.8,0.9,1.0], color='green')\n",
    "fig, ax = plt.subplots(figsize=(30, 10))\n",
    "ax.boxplot(plots)\n",
    "plt.show()"
   ]
  },
  {
   "cell_type": "markdown",
   "metadata": {},
   "source": [
    "## Test performance of Niche per over each datset "
   ]
  },
  {
   "cell_type": "code",
   "execution_count": 50,
   "metadata": {},
   "outputs": [
    {
     "data": {
      "image/png": "[encoded data removed]",
      "text/plain": [
       "<Figure size 2160x720 with 1 Axes>"
      ]
     },
     "metadata": {
      "needs_background": "light"
     },
     "output_type": "display_data"
    }
   ],
   "source": [
    "plots = []\n",
    "for row_i in range(len(axis)):\n",
    "    for col_i in range(len(axis[row_i])):\n",
    "        ind = (row_i * 5) + col_i + 1 # 1->10 \n",
    "        dataset_keys = [ind, ind+10, ind+20, ind+30] # keys for each dataset on each model\n",
    "        X = np.array([get_data(z, member_generation=False, training=False)['full_acc'] for z in data.keys() if z in dataset_keys and z in keys_by_model(3)])\n",
    "        X = X.flatten()\n",
    "        plots.append(X)\n",
    "        #dfX = pd.DataFrame(data=X, columns=[names[ind].replace('gp',model_names[row_i-1]+'_')])\n",
    "        #dfX.plot.hist(ax=axis[row_i,col_i],sharex=False, sharey=False, xticks=[0.0,0.1,0.2,0.3,0.4,0.5,0.6,0.7,0.8,0.9,1.0], color='green')\n",
    "fig, ax = plt.subplots(figsize=(30, 10))\n",
    "ax.boxplot(plots)\n",
    "plt.show()"
   ]
  },
  {
   "cell_type": "markdown",
   "metadata": {},
   "source": [
    "## Training performance of CCGP per over each datset "
   ]
  },
  {
   "cell_type": "code",
   "execution_count": 51,
   "metadata": {},
   "outputs": [
    {
     "data": {
      "image/png": "[encoded data removed]",
      "text/plain": [
       "<Figure size 2160x720 with 1 Axes>"
      ]
     },
     "metadata": {
      "needs_background": "light"
     },
     "output_type": "display_data"
    }
   ],
   "source": [
    "plots = []\n",
    "for row_i in range(len(axis)):\n",
    "    for col_i in range(len(axis[row_i])):\n",
    "        ind = (row_i * 5) + col_i + 1 # 1->10 \n",
    "        dataset_keys = [ind, ind+10, ind+20, ind+30] # keys for each dataset on each model\n",
    "        X = np.array([get_data(z, member_generation=False, training=True)['full_acc'] for z in data.keys() if z in dataset_keys and z in keys_by_model(3)])\n",
    "        X = X.flatten()\n",
    "        plots.append(X)\n",
    "        #dfX = pd.DataFrame(data=X, columns=[names[ind].replace('gp',model_names[row_i-1]+'_')])\n",
    "        #dfX.plot.hist(ax=axis[row_i,col_i],sharex=False, sharey=False, xticks=[0.0,0.1,0.2,0.3,0.4,0.5,0.6,0.7,0.8,0.9,1.0], color='green')\n",
    "fig, ax = plt.subplots(figsize=(30, 10))\n",
    "ax.boxplot(plots)\n",
    "plt.show()"
   ]
  },
  {
   "cell_type": "markdown",
   "metadata": {},
   "source": [
    "## Test performance of CCGP per over each datset "
   ]
  },
  {
   "cell_type": "code",
   "execution_count": 52,
   "metadata": {},
   "outputs": [
    {
     "data": {
      "image/png": "[encoded data removed]",
      "text/plain": [
       "<Figure size 2160x720 with 1 Axes>"
      ]
     },
     "metadata": {
      "needs_background": "light"
     },
     "output_type": "display_data"
    }
   ],
   "source": [
    "plots = []\n",
    "for row_i in range(len(axis)):\n",
    "    for col_i in range(len(axis[row_i])):\n",
    "        ind = (row_i * 5) + col_i + 1 # 1->10 \n",
    "        dataset_keys = [ind, ind+10, ind+20, ind+30] # keys for each dataset on each model\n",
    "        X = np.array([get_data(z, member_generation=False, training=False)['full_acc'] for z in data.keys() if z in dataset_keys and z in keys_by_model(3)])\n",
    "        X = X.flatten()\n",
    "        plots.append(X)\n",
    "        #dfX = pd.DataFrame(data=X, columns=[names[ind].replace('gp',model_names[row_i-1]+'_')])\n",
    "        #dfX.plot.hist(ax=axis[row_i,col_i],sharex=False, sharey=False, xticks=[0.0,0.1,0.2,0.3,0.4,0.5,0.6,0.7,0.8,0.9,1.0], color='green')\n",
    "fig, ax = plt.subplots(figsize=(30, 10))\n",
    "ax.boxplot(plots)\n",
    "plt.show()"
   ]
  },
  {
   "cell_type": "code",
   "execution_count": null,
   "metadata": {},
   "outputs": [],
   "source": []
  },
  {
   "cell_type": "code",
   "execution_count": null,
   "metadata": {},
   "outputs": [],
   "source": []
  },
  {
   "cell_type": "code",
   "execution_count": null,
   "metadata": {},
   "outputs": [],
   "source": []
  },
  {
   "cell_type": "markdown",
   "metadata": {},
   "source": [
    "# Trying out box plots"
   ]
  },
  {
   "cell_type": "code",
   "execution_count": null,
   "metadata": {},
   "outputs": [],
   "source": []
  }
 ],
 "metadata": {
  "kernelspec": {
   "display_name": "Python 3",
   "language": "python",
   "name": "python3"
  },
  "language_info": {
   "codemirror_mode": {
    "name": "ipython",
    "version": 3
   },
   "file_extension": ".py",
   "mimetype": "text/x-python",
   "name": "python",
   "nbconvert_exporter": "python",
   "pygments_lexer": "ipython3",
   "version": "3.9.12"
  }
 },
 "nbformat": 4,
 "nbformat_minor": 4
}
