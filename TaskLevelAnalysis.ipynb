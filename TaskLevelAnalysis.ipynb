{
 "cells": [
  {
   "cell_type": "code",
   "execution_count": 11,
   "metadata": {},
   "outputs": [
    {
     "name": "stdout",
     "output_type": "stream",
     "text": [
      "['cleveland', 'ionosphere', 'ecoli', 'iris', 'mammo_graphic', 'wisconsin_breast_cancer', 'australia', 'postop', 'yeast', 'spec']\n"
     ]
    }
   ],
   "source": [
    "import pandas as pd \n",
    "import numpy as np\n",
    "import os \n",
    "import sys \n",
    "from code.data_processing import get_all_datasets\n",
    "import matplotlib.pyplot as plt\n",
    "job = '4082125'\n",
    "from ResultHandling import ResultHandling\n",
    "print(get_all_datasets())"
   ]
  },
  {
   "cell_type": "markdown",
   "metadata": {},
   "source": [
    "# Script to save all box plots"
   ]
  },
  {
   "cell_type": "code",
   "execution_count": 2,
   "metadata": {},
   "outputs": [],
   "source": [
    "RH = ResultHandling(job, height=10, width = 10)\n",
    "\n",
    "if 0:\n",
    "    # TrainvsTest\n",
    "    plot_labels, plots = [], []\n",
    "    for Tr in [True, False]:\n",
    "        plots.append(RH.get_cond_data(mgen=False, train=Tr, dataset_name= 'all',col='full_acc'))\n",
    "        plot_labels.append('Training') if Tr else plot_labels.append('Test')\n",
    "    RH.box_plot(boxes=plots, labels=plot_labels, save=True, draw=False, figname=f'{job}_train_v_test')\n",
    "\n",
    "    # Per dataset training\n",
    "    plot_labels, plots = [], []\n",
    "    for dss in get_all_datasets():\n",
    "        plots.append(RH.get_cond_data(mgen=False, train=True, dataset_name= dss,col='full_acc'))\n",
    "        plot_labels.append(dss)\n",
    "    RH.box_plot(boxes=plots, labels=plot_labels, save=True, draw=False, figname=f'{job}_by_dataset_training')\n",
    "\n",
    "    # Per dataset test\n",
    "    plot_labels, plots = [], []\n",
    "    for dss in get_all_datasets():\n",
    "        plots.append(RH.get_cond_data(mgen=False, train=False, dataset_name= dss,col='full_acc'))\n",
    "        plot_labels.append(dss)\n",
    "    RH.box_plot(boxes=plots, labels=plot_labels, save=True, draw=False, figname=f'{job}_by_dataset_test')\n",
    "\n",
    "    # Per model train\n",
    "    plot_labels, plots = [], []\n",
    "    for model_nam in RH.model_names:\n",
    "        plots.append(RH.get_cond_data(mgen=False, train=False, model_name=model_nam, dataset_name='all',col='full_acc'))\n",
    "        plot_labels.append(model_nam)\n",
    "    RH.box_plot(boxes=plots, labels=plot_labels, save=True, draw=False, figname=f'{job}_by_model_train')\n",
    "\n",
    "    # Per model test\n",
    "    plot_labels, plots = [], []\n",
    "    for model_nam in RH.model_names:\n",
    "        plots.append(RH.get_cond_data(mgen=False, train=True, model_name=model_nam, dataset_name='all',col='full_acc'))\n",
    "        plot_labels.append(model_nam)\n",
    "    RH.box_plot(boxes=plots, labels=plot_labels, save=True, draw=False, figname=f'{job}_by_model_test')\n",
    "\n"
   ]
  },
  {
   "cell_type": "markdown",
   "metadata": {},
   "source": [
    "# Script for generating wilson cox test"
   ]
  },
  {
   "cell_type": "code",
   "execution_count": 3,
   "metadata": {},
   "outputs": [
    {
     "name": "stdout",
     "output_type": "stream",
     "text": [
      "['bag', 'gp', RanksumsResult(statistic=-1.8816936353526517, pvalue=0.02993881220405624)]\n",
      "['nich', 'gp', RanksumsResult(statistic=-10.124877693502027, pvalue=2.142570643110666e-24)]\n",
      "['nich', 'bag', RanksumsResult(statistic=-8.86421360964186, pvalue=3.8522959381583813e-19)]\n",
      "['ccgp', 'gp', RanksumsResult(statistic=-4.404199333508128, pvalue=5.308764183674622e-06)]\n",
      "['ccgp', 'bag', RanksumsResult(statistic=-2.8682286339123837, pvalue=0.0020638856278057107)]\n",
      "['ccgp', 'nich', RanksumsResult(statistic=4.115468870811964, pvalue=0.9999806803427228)]\n"
     ]
    }
   ],
   "source": [
    "RH.wilcoxon_test()"
   ]
  },
  {
   "cell_type": "markdown",
   "metadata": {},
   "source": [
    "# Fast GP"
   ]
  },
  {
   "cell_type": "code",
   "execution_count": 9,
   "metadata": {},
   "outputs": [
    {
     "ename": "IndexError",
     "evalue": "list index out of range",
     "output_type": "error",
     "traceback": [
      "\u001b[0;31m---------------------------------------------------------------------------\u001b[0m",
      "\u001b[0;31mIndexError\u001b[0m                                Traceback (most recent call last)",
      "\u001b[0;32m<ipython-input-9-2e4c9e8e685a>\u001b[0m in \u001b[0;36m<module>\u001b[0;34m\u001b[0m\n\u001b[0;32m----> 1\u001b[0;31m \u001b[0mRH\u001b[0m \u001b[0;34m=\u001b[0m \u001b[0mResultHandling\u001b[0m\u001b[0;34m(\u001b[0m\u001b[0mjob\u001b[0m\u001b[0;34m,\u001b[0m \u001b[0mheight\u001b[0m\u001b[0;34m=\u001b[0m\u001b[0;36m10\u001b[0m\u001b[0;34m,\u001b[0m \u001b[0mwidth\u001b[0m \u001b[0;34m=\u001b[0m \u001b[0;36m10\u001b[0m\u001b[0;34m)\u001b[0m\u001b[0;34m\u001b[0m\u001b[0;34m\u001b[0m\u001b[0m\n\u001b[0m\u001b[1;32m      2\u001b[0m \u001b[0mjob\u001b[0m \u001b[0;34m=\u001b[0m \u001b[0;34m'4082851'\u001b[0m\u001b[0;34m\u001b[0m\u001b[0;34m\u001b[0m\u001b[0m\n\u001b[1;32m      3\u001b[0m \u001b[0;34m\u001b[0m\u001b[0m\n\u001b[1;32m      4\u001b[0m \u001b[0mplot_labels\u001b[0m\u001b[0;34m,\u001b[0m \u001b[0mplots\u001b[0m \u001b[0;34m=\u001b[0m \u001b[0;34m[\u001b[0m\u001b[0;34m]\u001b[0m\u001b[0;34m,\u001b[0m \u001b[0;34m[\u001b[0m\u001b[0;34m]\u001b[0m\u001b[0;34m\u001b[0m\u001b[0;34m\u001b[0m\u001b[0m\n\u001b[1;32m      5\u001b[0m \u001b[0;31m#for Tr in [True, False]:\u001b[0m\u001b[0;34m\u001b[0m\u001b[0;34m\u001b[0m\u001b[0m\n",
      "\u001b[0;32m~/Documents/Uni/Research/Implementations/ResultHandling.py\u001b[0m in \u001b[0;36m__init__\u001b[0;34m(self, job, height, width, box_label_size)\u001b[0m\n\u001b[1;32m     23\u001b[0m         \u001b[0;31m# Initalisisatoin pipeline\u001b[0m\u001b[0;34m\u001b[0m\u001b[0;34m\u001b[0m\u001b[0m\n\u001b[1;32m     24\u001b[0m         \u001b[0mself\u001b[0m\u001b[0;34m.\u001b[0m\u001b[0mmake_taskid_to_string\u001b[0m\u001b[0;34m(\u001b[0m\u001b[0;34m)\u001b[0m \u001b[0;31m# dictionary for task_id -> 'model_dataset' as a string\u001b[0m\u001b[0;34m\u001b[0m\u001b[0;34m\u001b[0m\u001b[0m\n\u001b[0;32m---> 25\u001b[0;31m         \u001b[0mself\u001b[0m\u001b[0;34m.\u001b[0m\u001b[0mload_data\u001b[0m\u001b[0;34m(\u001b[0m\u001b[0;34m)\u001b[0m \u001b[0;31m# load data into a dictionary mapping task id -> dataframe of resluts\u001b[0m\u001b[0;34m\u001b[0m\u001b[0;34m\u001b[0m\u001b[0m\n\u001b[0m\u001b[1;32m     26\u001b[0m \u001b[0;34m\u001b[0m\u001b[0m\n\u001b[1;32m     27\u001b[0m     \u001b[0;32mdef\u001b[0m \u001b[0mmake_taskid_to_string\u001b[0m\u001b[0;34m(\u001b[0m\u001b[0mself\u001b[0m\u001b[0;34m)\u001b[0m\u001b[0;34m:\u001b[0m\u001b[0;34m\u001b[0m\u001b[0;34m\u001b[0m\u001b[0m\n",
      "\u001b[0;32m~/Documents/Uni/Research/Implementations/ResultHandling.py\u001b[0m in \u001b[0;36mload_data\u001b[0;34m(self)\u001b[0m\n\u001b[1;32m     38\u001b[0m             \u001b[0;32mif\u001b[0m \u001b[0mlen\u001b[0m\u001b[0;34m(\u001b[0m\u001b[0mos\u001b[0m\u001b[0;34m.\u001b[0m\u001b[0mlistdir\u001b[0m\u001b[0;34m(\u001b[0m\u001b[0;34mf'results_file/{self.job}/{task}'\u001b[0m\u001b[0;34m)\u001b[0m\u001b[0;34m)\u001b[0m \u001b[0;34m<=\u001b[0m \u001b[0;36m1\u001b[0m\u001b[0;34m:\u001b[0m\u001b[0;34m\u001b[0m\u001b[0;34m\u001b[0m\u001b[0m\n\u001b[1;32m     39\u001b[0m                 \u001b[0;32mcontinue\u001b[0m\u001b[0;34m\u001b[0m\u001b[0;34m\u001b[0m\u001b[0m\n\u001b[0;32m---> 40\u001b[0;31m             \u001b[0mfn\u001b[0m \u001b[0;34m=\u001b[0m \u001b[0;34m[\u001b[0m\u001b[0mx\u001b[0m \u001b[0;32mfor\u001b[0m \u001b[0mx\u001b[0m \u001b[0;32min\u001b[0m \u001b[0mos\u001b[0m\u001b[0;34m.\u001b[0m\u001b[0mlistdir\u001b[0m\u001b[0;34m(\u001b[0m\u001b[0;34mf'results_file/{self.job}/{task}/'\u001b[0m\u001b[0;34m)\u001b[0m \u001b[0;32mif\u001b[0m \u001b[0;34m'.csv'\u001b[0m \u001b[0;32min\u001b[0m \u001b[0mx\u001b[0m\u001b[0;34m]\u001b[0m\u001b[0;34m[\u001b[0m\u001b[0;36m0\u001b[0m\u001b[0;34m]\u001b[0m \u001b[0;31m# currently these files only have one entry\u001b[0m\u001b[0;34m\u001b[0m\u001b[0;34m\u001b[0m\u001b[0m\n\u001b[0m\u001b[1;32m     41\u001b[0m             \u001b[0mself\u001b[0m\u001b[0;34m.\u001b[0m\u001b[0mdata\u001b[0m\u001b[0;34m[\u001b[0m\u001b[0mint\u001b[0m\u001b[0;34m(\u001b[0m\u001b[0mtask\u001b[0m\u001b[0;34m)\u001b[0m\u001b[0;34m]\u001b[0m \u001b[0;34m=\u001b[0m \u001b[0mpd\u001b[0m\u001b[0;34m.\u001b[0m\u001b[0mread_csv\u001b[0m\u001b[0;34m(\u001b[0m\u001b[0;34mf'results_file/{self.job}/{task}/{fn}'\u001b[0m\u001b[0;34m,\u001b[0m \u001b[0mindex_col\u001b[0m\u001b[0;34m=\u001b[0m\u001b[0;32mFalse\u001b[0m\u001b[0;34m)\u001b[0m\u001b[0;34m\u001b[0m\u001b[0;34m\u001b[0m\u001b[0m\n\u001b[1;32m     42\u001b[0m \u001b[0;34m\u001b[0m\u001b[0m\n",
      "\u001b[0;31mIndexError\u001b[0m: list index out of range"
     ]
    }
   ],
   "source": [
    "RH = ResultHandling(job, height=10, width = 10)\n",
    "job = '4082851'\n",
    "\n",
    "plot_labels, plots = [], []\n",
    "#for Tr in [True, False]:\n",
    "plots.append(RH.get_cond_data(mgen=False, train=Tr, dataset_name= 'all',col='full_acc'))\n",
    "plot_labels.append('Training') if Tr else plot_labels.append('Test')\n",
    "\n",
    "RH.box_plot(boxes=plots, labels=plot_labels, save=False, draw=True, figname=f'{job}_train_v_test')"
   ]
  },
  {
   "cell_type": "code",
   "execution_count": null,
   "metadata": {},
   "outputs": [],
   "source": []
  },
  {
   "cell_type": "code",
   "execution_count": null,
   "metadata": {},
   "outputs": [],
   "source": []
  }
 ],
 "metadata": {
  "kernelspec": {
   "display_name": "Python 3",
   "language": "python",
   "name": "python3"
  },
  "language_info": {
   "codemirror_mode": {
    "name": "ipython",
    "version": 3
   },
   "file_extension": ".py",
   "mimetype": "text/x-python",
   "name": "python",
   "nbconvert_exporter": "python",
   "pygments_lexer": "ipython3",
   "version": "3.9.12"
  }
 },
 "nbformat": 4,
 "nbformat_minor": 4
}
