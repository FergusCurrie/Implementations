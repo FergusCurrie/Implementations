{
 "cells": [
  {
   "cell_type": "code",
   "execution_count": 1,
   "metadata": {},
   "outputs": [],
   "source": [
    "import sys\n",
    "import os\n",
    "import pandas as pd \n",
    "import numpy as np\n",
    "import os \n",
    "import sys \n",
    "from code.data_processing import get_all_datasets\n",
    "import matplotlib.pyplot as plt\n",
    "from TaskAnalysis import TaskAnalysis\n",
    "from ResultHandling import ResultHandling\n"
   ]
  },
  {
   "cell_type": "code",
   "execution_count": 2,
   "metadata": {},
   "outputs": [],
   "source": [
    "# ORMOGP \n",
    "if 0:\n",
    "    experiment1 = { # get gp and bagp gp results in for comparison\n",
    "        'experiment_name' : 'divmogp_experiment',\n",
    "        'name_in_results_finished' : 'ORMOGP',\n",
    "        'jobid' : '4082885',\n",
    "        'models_exclude' : []\n",
    "    }\n",
    "    experiments = [experiment1]\n",
    "    analysis = TaskAnalysis(experiments=experiments, save_name='4082885')\n",
    "    #analysis.save_diversity_table()\n",
    "    analysis.create_parameter_table()\n",
    "    analysis.save_boxplots()\n",
    "    #analysis.save_tables()"
   ]
  },
  {
   "cell_type": "code",
   "execution_count": 3,
   "metadata": {},
   "outputs": [
    {
     "ename": "AxisError",
     "evalue": "axis 2 is out of bounds for array of dimension 2",
     "output_type": "error",
     "traceback": [
      "\u001b[0;31m---------------------------------------------------------------------------\u001b[0m",
      "\u001b[0;31mAxisError\u001b[0m                                 Traceback (most recent call last)",
      "\u001b[0;32m<ipython-input-3-67fe057456a0>\u001b[0m in \u001b[0;36m<module>\u001b[0;34m\u001b[0m\n\u001b[1;32m     22\u001b[0m     \u001b[0mexperiments\u001b[0m \u001b[0;34m=\u001b[0m \u001b[0;34m[\u001b[0m\u001b[0mexperiment1\u001b[0m\u001b[0;34m,\u001b[0m \u001b[0mexperiment2\u001b[0m\u001b[0;34m,\u001b[0m \u001b[0mexperiment3\u001b[0m\u001b[0;34m]\u001b[0m\u001b[0;34m\u001b[0m\u001b[0;34m\u001b[0m\u001b[0m\n\u001b[1;32m     23\u001b[0m     \u001b[0manalysis\u001b[0m \u001b[0;34m=\u001b[0m \u001b[0mTaskAnalysis\u001b[0m\u001b[0;34m(\u001b[0m\u001b[0mexperiments\u001b[0m\u001b[0;34m=\u001b[0m\u001b[0mexperiments\u001b[0m\u001b[0;34m,\u001b[0m \u001b[0msave_name\u001b[0m\u001b[0;34m=\u001b[0m\u001b[0;34m'fastbag_ham'\u001b[0m\u001b[0;34m)\u001b[0m\u001b[0;34m\u001b[0m\u001b[0;34m\u001b[0m\u001b[0m\n\u001b[0;32m---> 24\u001b[0;31m     \u001b[0manalysis\u001b[0m\u001b[0;34m.\u001b[0m\u001b[0msave_diversity_table\u001b[0m\u001b[0;34m(\u001b[0m\u001b[0;34m)\u001b[0m\u001b[0;34m\u001b[0m\u001b[0;34m\u001b[0m\u001b[0m\n\u001b[0m\u001b[1;32m     25\u001b[0m     \u001b[0manalysis\u001b[0m\u001b[0;34m.\u001b[0m\u001b[0mcreate_parameter_table\u001b[0m\u001b[0;34m(\u001b[0m\u001b[0;34m)\u001b[0m\u001b[0;34m\u001b[0m\u001b[0;34m\u001b[0m\u001b[0m\n\u001b[1;32m     26\u001b[0m     \u001b[0manalysis\u001b[0m\u001b[0;34m.\u001b[0m\u001b[0msave_boxplots\u001b[0m\u001b[0;34m(\u001b[0m\u001b[0;34m)\u001b[0m\u001b[0;34m\u001b[0m\u001b[0;34m\u001b[0m\u001b[0m\n",
      "\u001b[0;32m~/Documents/Uni/Research/Implementations/TaskAnalysis.py\u001b[0m in \u001b[0;36msave_diversity_table\u001b[0;34m(self)\u001b[0m\n\u001b[1;32m    390\u001b[0m                         \u001b[0mdata\u001b[0m \u001b[0;34m=\u001b[0m \u001b[0mself\u001b[0m\u001b[0;34m.\u001b[0m\u001b[0mextract_data\u001b[0m\u001b[0;34m(\u001b[0m\u001b[0mjob\u001b[0m\u001b[0;34m,\u001b[0m \u001b[0mtask\u001b[0m\u001b[0;34m)\u001b[0m\u001b[0;34m\u001b[0m\u001b[0;34m\u001b[0m\u001b[0m\n\u001b[1;32m    391\u001b[0m                         \u001b[0;32mif\u001b[0m \u001b[0mmodel_name\u001b[0m \u001b[0;34m==\u001b[0m \u001b[0mdata\u001b[0m\u001b[0;34m.\u001b[0m\u001b[0msplit\u001b[0m\u001b[0;34m(\u001b[0m\u001b[0;34m)\u001b[0m\u001b[0;34m[\u001b[0m\u001b[0;36m2\u001b[0m\u001b[0;34m]\u001b[0m\u001b[0;34m:\u001b[0m\u001b[0;34m\u001b[0m\u001b[0;34m\u001b[0m\u001b[0m\n\u001b[0;32m--> 392\u001b[0;31m                             \u001b[0msa\u001b[0m \u001b[0;34m=\u001b[0m \u001b[0mScoringAnalysis\u001b[0m\u001b[0;34m(\u001b[0m\u001b[0mjob\u001b[0m\u001b[0;34m=\u001b[0m\u001b[0mjob\u001b[0m\u001b[0;34m,\u001b[0m \u001b[0mtask\u001b[0m\u001b[0;34m=\u001b[0m\u001b[0mtask\u001b[0m\u001b[0;34m,\u001b[0m \u001b[0mtraining\u001b[0m\u001b[0;34m=\u001b[0m\u001b[0;32mFalse\u001b[0m\u001b[0;34m)\u001b[0m\u001b[0;34m\u001b[0m\u001b[0;34m\u001b[0m\u001b[0m\n\u001b[0m\u001b[1;32m    393\u001b[0m                             \u001b[0msa\u001b[0m\u001b[0;34m.\u001b[0m\u001b[0mload_table\u001b[0m\u001b[0;34m(\u001b[0m\u001b[0;34m)\u001b[0m\u001b[0;34m\u001b[0m\u001b[0;34m\u001b[0m\u001b[0m\n\u001b[1;32m    394\u001b[0m                             \u001b[0;31m#tasks.append(sa.metric_table)  #\u001b[0m\u001b[0;34m\u001b[0m\u001b[0;34m\u001b[0m\u001b[0m\n",
      "\u001b[0;32m~/Documents/Uni/Research/Implementations/ScoringAnalysis.py\u001b[0m in \u001b[0;36m__init__\u001b[0;34m(self, job, task, training)\u001b[0m\n\u001b[1;32m     42\u001b[0m \u001b[0;34m\u001b[0m\u001b[0m\n\u001b[1;32m     43\u001b[0m         \u001b[0;31m# load table\u001b[0m\u001b[0;34m\u001b[0m\u001b[0;34m\u001b[0m\u001b[0m\n\u001b[0;32m---> 44\u001b[0;31m         \u001b[0mself\u001b[0m\u001b[0;34m.\u001b[0m\u001b[0mload_table\u001b[0m\u001b[0;34m(\u001b[0m\u001b[0;34m)\u001b[0m\u001b[0;34m\u001b[0m\u001b[0;34m\u001b[0m\u001b[0m\n\u001b[0m\u001b[1;32m     45\u001b[0m     \u001b[0;31m####################################################################################################################\u001b[0m\u001b[0;34m\u001b[0m\u001b[0;34m\u001b[0m\u001b[0m\n\u001b[1;32m     46\u001b[0m \u001b[0;34m\u001b[0m\u001b[0m\n",
      "\u001b[0;32m~/Documents/Uni/Research/Implementations/ScoringAnalysis.py\u001b[0m in \u001b[0;36mload_table\u001b[0;34m(self)\u001b[0m\n\u001b[1;32m    352\u001b[0m                 \u001b[0mself\u001b[0m\u001b[0;34m.\u001b[0m\u001b[0mkuncheva_correlation_coefficient_p\u001b[0m\u001b[0;34m(\u001b[0m\u001b[0mseed\u001b[0m\u001b[0;34m)\u001b[0m\u001b[0;34m,\u001b[0m\u001b[0;34m\u001b[0m\u001b[0;34m\u001b[0m\u001b[0m\n\u001b[1;32m    353\u001b[0m                 \u001b[0mself\u001b[0m\u001b[0;34m.\u001b[0m\u001b[0mkuncheva_q_statistics\u001b[0m\u001b[0;34m(\u001b[0m\u001b[0mseed\u001b[0m\u001b[0;34m)\u001b[0m\u001b[0;34m,\u001b[0m\u001b[0;34m\u001b[0m\u001b[0;34m\u001b[0m\u001b[0m\n\u001b[0;32m--> 354\u001b[0;31m                 \u001b[0mself\u001b[0m\u001b[0;34m.\u001b[0m\u001b[0mnew_entropy\u001b[0m\u001b[0;34m(\u001b[0m\u001b[0mseed\u001b[0m\u001b[0;34m)\u001b[0m\u001b[0;34m\u001b[0m\u001b[0;34m\u001b[0m\u001b[0m\n\u001b[0m\u001b[1;32m    355\u001b[0m             ]\n\u001b[1;32m    356\u001b[0m             \u001b[0mdata\u001b[0m\u001b[0;34m.\u001b[0m\u001b[0mappend\u001b[0m\u001b[0;34m(\u001b[0m\u001b[0mmetrics\u001b[0m\u001b[0;34m)\u001b[0m\u001b[0;34m\u001b[0m\u001b[0;34m\u001b[0m\u001b[0m\n",
      "\u001b[0;32m~/Documents/Uni/Research/Implementations/ScoringAnalysis.py\u001b[0m in \u001b[0;36mnew_entropy\u001b[0;34m(self, seed)\u001b[0m\n\u001b[1;32m    217\u001b[0m     \u001b[0;32mdef\u001b[0m \u001b[0mnew_entropy\u001b[0m\u001b[0;34m(\u001b[0m\u001b[0mself\u001b[0m\u001b[0;34m,\u001b[0m \u001b[0mseed\u001b[0m\u001b[0;34m)\u001b[0m\u001b[0;34m:\u001b[0m\u001b[0;34m\u001b[0m\u001b[0;34m\u001b[0m\u001b[0m\n\u001b[1;32m    218\u001b[0m         \u001b[0moracle\u001b[0m \u001b[0;34m=\u001b[0m \u001b[0mself\u001b[0m\u001b[0;34m.\u001b[0m\u001b[0moracle_seed\u001b[0m\u001b[0;34m[\u001b[0m\u001b[0mseed\u001b[0m\u001b[0;34m]\u001b[0m\u001b[0;34m\u001b[0m\u001b[0;34m\u001b[0m\u001b[0m\n\u001b[0;32m--> 219\u001b[0;31m         \u001b[0mP\u001b[0m \u001b[0;34m=\u001b[0m \u001b[0mnp\u001b[0m\u001b[0;34m.\u001b[0m\u001b[0msum\u001b[0m\u001b[0;34m(\u001b[0m\u001b[0moracle\u001b[0m\u001b[0;34m,\u001b[0m \u001b[0maxis\u001b[0m\u001b[0;34m=\u001b[0m\u001b[0;36m2\u001b[0m\u001b[0;34m)\u001b[0m \u001b[0;34m/\u001b[0m \u001b[0moracle\u001b[0m\u001b[0;34m.\u001b[0m\u001b[0mshape\u001b[0m\u001b[0;34m[\u001b[0m\u001b[0;36m1\u001b[0m\u001b[0;34m]\u001b[0m\u001b[0;34m\u001b[0m\u001b[0;34m\u001b[0m\u001b[0m\n\u001b[0m\u001b[1;32m    220\u001b[0m         \u001b[0mP\u001b[0m \u001b[0;34m=\u001b[0m \u001b[0;34m-\u001b[0m \u001b[0mP\u001b[0m \u001b[0;34m*\u001b[0m \u001b[0mnp\u001b[0m\u001b[0;34m.\u001b[0m\u001b[0mlog\u001b[0m\u001b[0;34m(\u001b[0m\u001b[0mP\u001b[0m \u001b[0;34m+\u001b[0m \u001b[0;36m10e-8\u001b[0m\u001b[0;34m)\u001b[0m\u001b[0;34m\u001b[0m\u001b[0;34m\u001b[0m\u001b[0m\n\u001b[1;32m    221\u001b[0m         \u001b[0mentropy\u001b[0m \u001b[0;34m=\u001b[0m \u001b[0mnp\u001b[0m\u001b[0;34m.\u001b[0m\u001b[0mmean\u001b[0m\u001b[0;34m(\u001b[0m\u001b[0mnp\u001b[0m\u001b[0;34m.\u001b[0m\u001b[0msum\u001b[0m\u001b[0;34m(\u001b[0m\u001b[0mP\u001b[0m\u001b[0;34m,\u001b[0m \u001b[0maxis\u001b[0m\u001b[0;34m=\u001b[0m\u001b[0;36m1\u001b[0m\u001b[0;34m)\u001b[0m\u001b[0;34m)\u001b[0m\u001b[0;34m\u001b[0m\u001b[0;34m\u001b[0m\u001b[0m\n",
      "\u001b[0;32m<__array_function__ internals>\u001b[0m in \u001b[0;36msum\u001b[0;34m(*args, **kwargs)\u001b[0m\n",
      "\u001b[0;32m/usr/local/lib/python3.9/site-packages/numpy/core/fromnumeric.py\u001b[0m in \u001b[0;36msum\u001b[0;34m(a, axis, dtype, out, keepdims, initial, where)\u001b[0m\n\u001b[1;32m   2239\u001b[0m         \u001b[0;32mreturn\u001b[0m \u001b[0mres\u001b[0m\u001b[0;34m\u001b[0m\u001b[0;34m\u001b[0m\u001b[0m\n\u001b[1;32m   2240\u001b[0m \u001b[0;34m\u001b[0m\u001b[0m\n\u001b[0;32m-> 2241\u001b[0;31m     return _wrapreduction(a, np.add, 'sum', axis, dtype, out, keepdims=keepdims,\n\u001b[0m\u001b[1;32m   2242\u001b[0m                           initial=initial, where=where)\n\u001b[1;32m   2243\u001b[0m \u001b[0;34m\u001b[0m\u001b[0m\n",
      "\u001b[0;32m/usr/local/lib/python3.9/site-packages/numpy/core/fromnumeric.py\u001b[0m in \u001b[0;36m_wrapreduction\u001b[0;34m(obj, ufunc, method, axis, dtype, out, **kwargs)\u001b[0m\n\u001b[1;32m     85\u001b[0m                 \u001b[0;32mreturn\u001b[0m \u001b[0mreduction\u001b[0m\u001b[0;34m(\u001b[0m\u001b[0maxis\u001b[0m\u001b[0;34m=\u001b[0m\u001b[0maxis\u001b[0m\u001b[0;34m,\u001b[0m \u001b[0mout\u001b[0m\u001b[0;34m=\u001b[0m\u001b[0mout\u001b[0m\u001b[0;34m,\u001b[0m \u001b[0;34m**\u001b[0m\u001b[0mpasskwargs\u001b[0m\u001b[0;34m)\u001b[0m\u001b[0;34m\u001b[0m\u001b[0;34m\u001b[0m\u001b[0m\n\u001b[1;32m     86\u001b[0m \u001b[0;34m\u001b[0m\u001b[0m\n\u001b[0;32m---> 87\u001b[0;31m     \u001b[0;32mreturn\u001b[0m \u001b[0mufunc\u001b[0m\u001b[0;34m.\u001b[0m\u001b[0mreduce\u001b[0m\u001b[0;34m(\u001b[0m\u001b[0mobj\u001b[0m\u001b[0;34m,\u001b[0m \u001b[0maxis\u001b[0m\u001b[0;34m,\u001b[0m \u001b[0mdtype\u001b[0m\u001b[0;34m,\u001b[0m \u001b[0mout\u001b[0m\u001b[0;34m,\u001b[0m \u001b[0;34m**\u001b[0m\u001b[0mpasskwargs\u001b[0m\u001b[0;34m)\u001b[0m\u001b[0;34m\u001b[0m\u001b[0;34m\u001b[0m\u001b[0m\n\u001b[0m\u001b[1;32m     88\u001b[0m \u001b[0;34m\u001b[0m\u001b[0m\n\u001b[1;32m     89\u001b[0m \u001b[0;34m\u001b[0m\u001b[0m\n",
      "\u001b[0;31mAxisError\u001b[0m: axis 2 is out of bounds for array of dimension 2"
     ]
    }
   ],
   "source": [
    "if 1:\n",
    "    experiment1 = { # get gp and bagp gp results in for comparison\n",
    "        'experiment_name' : 'bagboost_experiment',\n",
    "        'name_in_results_finished' : 'bagboost',\n",
    "        'jobid' : '4083559',\n",
    "        'models_exclude' : ['nichgp', 'ccgp']\n",
    "    }\n",
    "    experiment2 = { # main part : fast rf no ham and fast rf ham \n",
    "        'experiment_name' : 'fastbag',\n",
    "        'name_in_results_finished' : 'fastbag_ham',\n",
    "        'jobid' : '4083560',\n",
    "        'models_exclude' : '',\n",
    "        'name_as' : ['brf', 'brfh' ]\n",
    "    }\n",
    "    experiment3 = { # main part : fast rf no ham and fast rf ham \n",
    "        'experiment_name' : 'fastbag',\n",
    "        'name_in_results_finished' : 'fastbag_ham_new',\n",
    "        'jobid' : '4084319',\n",
    "        'models_exclude' : '',\n",
    "        'name_as' : ['2brf', '2brfh' ]\n",
    "    }\n",
    "    experiments = [experiment1, experiment2, experiment3]\n",
    "    analysis = TaskAnalysis(experiments=experiments, save_name='fastbag_ham')\n",
    "    analysis.save_diversity_table()\n",
    "    analysis.create_parameter_table()\n",
    "    analysis.save_boxplots()\n",
    "    analysis.save_tables()"
   ]
  },
  {
   "cell_type": "code",
   "execution_count": 4,
   "metadata": {},
   "outputs": [],
   "source": [
    "# Analysis new mogp\n",
    "if 0:\n",
    "    experiment1 = { # get gp and bagp gp results in for comparison\n",
    "        'experiment_name' : 'bagboost_experiment',\n",
    "        'name_in_results_finished' : 'bagboost',\n",
    "        'jobid' : '4083559',\n",
    "        'models_exclude' : ['nichgp', 'ccgp']\n",
    "    }\n",
    "    experiment2 = { # main part : fast rf no ham and fast rf ham \n",
    "        'experiment_name' : 'bagmogp',\n",
    "        'name_in_results_finished' : 'bagmogp',\n",
    "        'jobid' : '4083783',\n",
    "        'models_exclude' : ''\n",
    "    }\n",
    "    experiment3 = { # main part : fast rf no ham and fast rf ham \n",
    "        'experiment_name' : 'bagmogp',\n",
    "        'name_in_results_finished' : 'bagmogpnew',\n",
    "        'jobid' : '4083783',\n",
    "        'models_exclude' : ''\n",
    "    }\n",
    "    experiments = [experiment1, experiment2]#, experiment3]\n",
    "    analysis = TaskAnalysis(experiments=experiments, save_name='bagmogpnew')\n",
    "    analysis.save_diversity_table()\n",
    "    analysis.create_parameter_table()\n",
    "    analysis.save_boxplots()\n",
    "    analysis.save_tables()\n",
    "    \n"
   ]
  },
  {
   "cell_type": "markdown",
   "metadata": {},
   "source": [
    "# Analysis BagBoost"
   ]
  },
  {
   "cell_type": "code",
   "execution_count": 5,
   "metadata": {},
   "outputs": [],
   "source": [
    "if 0:\n",
    "    experiment1 = {\n",
    "        'experiment_name' : 'bagboost_experiment',\n",
    "        'name_in_results_finished' : 'bagboost',\n",
    "        'jobid' : '4083559',\n",
    "        'models_exclude' : ''\n",
    "    }\n",
    "    experiments = [experiment1]\n",
    "    analysis = TaskAnalysis(experiments=experiments, save_name='bagboost')\n",
    "    analysis.save_diversity_table()\n",
    "    analysis.create_parameter_table()\n",
    "    analysis.save_boxplots()\n",
    "    analysis.save_tables()"
   ]
  },
  {
   "cell_type": "markdown",
   "metadata": {},
   "source": [
    "# Analysis RFBAG\n"
   ]
  },
  {
   "cell_type": "code",
   "execution_count": 6,
   "metadata": {},
   "outputs": [],
   "source": [
    "if 0:\n",
    "    experiment1 = { # get gp and bagp gp results in for comparison\n",
    "        'experiment_name' : 'bagboost_experiment',\n",
    "        'name_in_results_finished' : 'bagboost',\n",
    "        'jobid' : '4083559',\n",
    "        'models_exclude' : ['nichgp', 'ccgp']\n",
    "    }\n",
    "    experiment2 = { # main part : fast rf no ham and fast rf ham \n",
    "        'experiment_name' : 'fastbag',\n",
    "        'name_in_results_finished' : 'fastbag_ham',\n",
    "        'jobid' : '4083560',\n",
    "        'models_exclude' : ''\n",
    "    }\n",
    "    experiment3 = { # main part : fast rf no ham and fast rf ham \n",
    "        'experiment_name' : 'fastbag',\n",
    "        'name_in_results_finished' : 'fastbag_ham_new',\n",
    "        'jobid' : '4084319',\n",
    "        'models_exclude' : ''\n",
    "    }\n",
    "    experiments = [experiment1, experiment2, experiment3]\n",
    "    analysis = TaskAnalysis(experiments=experiments, save_name='fastbag_ham')\n",
    "    analysis.save_diversity_table()\n",
    "    analysis.create_parameter_table()\n",
    "    analysis.save_boxplots()\n",
    "    analysis.save_tables()"
   ]
  },
  {
   "cell_type": "markdown",
   "metadata": {},
   "source": [
    "# Analysis BAGM3GP"
   ]
  },
  {
   "cell_type": "code",
   "execution_count": 13,
   "metadata": {},
   "outputs": [],
   "source": [
    "if 1:\n",
    "    experiment1 = { # get gp and bagp gp results in for comparison\n",
    "        'experiment_name' : 'bagboost_experiment',\n",
    "        'name_in_results_finished' : 'bagboost',\n",
    "        'jobid' : '4083559',\n",
    "        'models_exclude' : ['GP', 'nichgp', 'ccgp']\n",
    "    }\n",
    "    experiment2 = { # main part : fast rf no ham and fast rf ham \n",
    "        'experiment_name' : 'm3gp_bag',\n",
    "        'name_in_results_finished' : 'm3gpbag',\n",
    "        'jobid' : '4082937',\n",
    "        'models_exclude' : ''\n",
    "    }\n",
    "    experiments = [experiment1, experiment2]\n",
    "    analysis = TaskAnalysis(experiments=experiments, save_name='m3gpbag')\n",
    "    analysis.save_diversity_table()\n",
    "    analysis.create_parameter_table()\n",
    "    analysis.save_boxplots()\n",
    "    analysis.save_tables()"
   ]
  },
  {
   "cell_type": "markdown",
   "metadata": {},
   "source": [
    "# Analysis BAGMOGP"
   ]
  },
  {
   "cell_type": "code",
   "execution_count": 8,
   "metadata": {},
   "outputs": [],
   "source": [
    "if 0:\n",
    "    experiment1 = { # get gp and bagp gp results in for comparison\n",
    "        'experiment_name' : 'bagboost_experiment',\n",
    "        'name_in_results_finished' : 'bagboost',\n",
    "        'jobid' : '4083559',\n",
    "        'models_exclude' : ['gp', 'nichgp', 'ccgp'],\n",
    "        \n",
    "    }\n",
    "    experiment2 = { # main part : fast rf no ham and fast rf ham \n",
    "        'experiment_name' : 'bagmogp',\n",
    "        'name_in_results_finished' : 'bagmogp',\n",
    "        'jobid' : '4083783',\n",
    "        'models_exclude' : '',\n",
    "        'name_as' : ['bm250']\n",
    "    }\n",
    "    experiment3 = { # main part : fast rf no ham and fast rf ham \n",
    "        'experiment_name' : 'bagmogp',\n",
    "        'name_in_results_finished' : 'mogp500',\n",
    "        'jobid' : '4083864',\n",
    "        'models_exclude' : '',\n",
    "        'name_as' : ['bm500']\n",
    "    }\n",
    "\n",
    "    experiments = [experiment1, experiment2, experiment3]\n",
    "    analysis = TaskAnalysis(experiments=experiments, save_name='bagmogp')\n",
    "    analysis.save_diversity_table()\n",
    "    analysis.create_parameter_table()\n",
    "    analysis.save_boxplots()\n",
    "    analysis.save_tables()\n",
    "    \n",
    "\n"
   ]
  },
  {
   "cell_type": "markdown",
   "metadata": {},
   "source": [
    "# PCA analysis - parameter table requires minor editing to add number of principle components because of how i structured the experiment\n"
   ]
  },
  {
   "cell_type": "code",
   "execution_count": 9,
   "metadata": {},
   "outputs": [],
   "source": [
    "do_pca = 0"
   ]
  },
  {
   "cell_type": "code",
   "execution_count": 10,
   "metadata": {},
   "outputs": [],
   "source": [
    "# graphs \n",
    "if do_pca == 1:\n",
    "    experiment1 = { # get gp and bagp gp results in for comparison\n",
    "        'experiment_name' : 'bagboost_experiment',\n",
    "        'name_in_results_finished' : 'bagboost',\n",
    "        'jobid' : '4083559',\n",
    "        'models_exclude' : ['gp', 'nichgp', 'ccgp']\n",
    "    }\n",
    "    experiment2 = { # main part : fast rf no ham and fast rf ham \n",
    "        'experiment_name' : 'dr',\n",
    "        'name_in_results_finished' : 'pca',\n",
    "        'jobid' : '4083806',\n",
    "        'models_exclude' : '',\n",
    "    }\n",
    "    experiment3 = { # main part : fast rf no ham and fast rf ham \n",
    "        'experiment_name' : 'dr',\n",
    "        'name_in_results_finished' : 'pcanew',\n",
    "        'jobid' : '4084320',\n",
    "        'models_exclude' : '',\n",
    "    }\n",
    "    experiments = [experiment1, experiment2, experiment3]\n",
    "    analysis = TaskAnalysis(experiments=experiments, save_name='pca')\n",
    "    analysis.create_parameter_table()\n",
    "    analysis.save_diversity_table()\n",
    "    analysis.save_boxplots()"
   ]
  },
  {
   "cell_type": "markdown",
   "metadata": {},
   "source": [
    "# PCA TAble first params "
   ]
  },
  {
   "cell_type": "code",
   "execution_count": 10,
   "metadata": {},
   "outputs": [],
   "source": [
    "if do_pca == 0:\n",
    "    experiment1 = { # get gp and bagp gp results in for comparison\n",
    "        'experiment_name' : 'bagboost_experiment',\n",
    "        'name_in_results_finished' : 'bagboost',\n",
    "        'jobid' : '4083559',\n",
    "        'models_exclude' : ['gp', 'nichgp', 'ccgp']\n",
    "    }\n",
    "    experiment2 = { # main part : fast rf no ham and fast rf ham \n",
    "        'experiment_name' : 'dr',\n",
    "        'name_in_results_finished' : 'pca',\n",
    "        'jobid' : '4083806',\n",
    "        'models_exclude' : '',\n",
    "    }\n",
    "    experiments = [experiment1, experiment2]\n",
    "    analysis = TaskAnalysis(experiments=experiments, save_name='pca')\n",
    "    analysis.save_tables()\n",
    "    analysis.save_diversity_table()"
   ]
  },
  {
   "cell_type": "markdown",
   "metadata": {},
   "source": [
    "# PCA ANALYSIS duff params"
   ]
  },
  {
   "cell_type": "code",
   "execution_count": 11,
   "metadata": {},
   "outputs": [],
   "source": [
    "if do_pca == 1:\n",
    "    experiment1 = { # get gp and bagp gp results in for comparison\n",
    "        'experiment_name' : 'bagboost_experiment',\n",
    "        'name_in_results_finished' : 'bagboost',\n",
    "        'jobid' : '4083559',\n",
    "        'models_exclude' : ['gp', 'nichgp', 'ccgp']\n",
    "    }\n",
    "    experiment3 = { # main part : fast rf no ham and fast rf ham \n",
    "        'experiment_name' : 'dr',\n",
    "        'name_in_results_finished' : 'pcanew',\n",
    "        'jobid' : '4084320',\n",
    "        'models_exclude' : '',\n",
    "    }\n",
    "    experiments = [experiment1, experiment3]\n",
    "    analysis = TaskAnalysis(experiments=experiments, save_name='pca2')\n",
    "    analysis.save_tables()\n",
    "    analysis.save_diversity_table()"
   ]
  },
  {
   "cell_type": "code",
   "execution_count": null,
   "metadata": {},
   "outputs": [],
   "source": []
  }
 ],
 "metadata": {
  "kernelspec": {
   "display_name": "Python 3",
   "language": "python",
   "name": "python3"
  },
  "language_info": {
   "codemirror_mode": {
    "name": "ipython",
    "version": 3
   },
   "file_extension": ".py",
   "mimetype": "text/x-python",
   "name": "python",
   "nbconvert_exporter": "python",
   "pygments_lexer": "ipython3",
   "version": "3.9.12"
  }
 },
 "nbformat": 4,
 "nbformat_minor": 4
}
