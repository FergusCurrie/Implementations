{
 "cells": [
  {
   "cell_type": "code",
   "execution_count": 44,
   "metadata": {},
   "outputs": [],
   "source": [
    "import pandas as pd \n",
    "import numpy as np\n",
    "import os \n",
    "import sys \n",
    "job = '4080640'"
   ]
  },
  {
   "cell_type": "markdown",
   "metadata": {},
   "source": [
    "# This jupyter file has code for all graphs and tables at the task level"
   ]
  },
  {
   "cell_type": "markdown",
   "metadata": {},
   "source": []
  },
  {
   "cell_type": "code",
   "execution_count": 45,
   "metadata": {},
   "outputs": [
    {
     "name": "stdout",
     "output_type": "stream",
     "text": [
      "['cleveland', 'ionosphere', 'ecoli', 'iris', 'mammo_graphic', 'wisconsin_breast_cancer', 'australia', 'postop', 'yeast', 'spec']\n"
     ]
    }
   ],
   "source": [
    "# First \n",
    "from code.data_processing import get_all_datasets\n",
    "x = get_all_datasets()\n",
    "print(x)"
   ]
  },
  {
   "cell_type": "code",
   "execution_count": 46,
   "metadata": {},
   "outputs": [
    {
     "name": "stdout",
     "output_type": "stream",
     "text": [
      "dict_keys([1, 2, 3, 4, 5, 6, 7, 8, 9, 10, 11, 12, 13, 14, 15, 16, 17, 18, 19, 20, 21, 22, 23, 24, 25, 26, 27, 28, 29, 30])\n"
     ]
    }
   ],
   "source": [
    "# First \n",
    "from code.data_processing import get_all_datasets\n",
    "\n",
    "names = {} # index to string of names\n",
    "datasets = get_all_datasets()\n",
    "models = ['bag_model', 'nich_model', 'ccgp']\n",
    "for i,model in enumerate(models):\n",
    "    for j, dataset in enumerate(datasets):\n",
    "        names[(i * len(datasets)) + j + 1] = f'{model}{dataset}'\n",
    "print(names.keys())"
   ]
  },
  {
   "cell_type": "code",
   "execution_count": 47,
   "metadata": {},
   "outputs": [
    {
     "name": "stdout",
     "output_type": "stream",
     "text": [
      "Number of results files in job 4080640 = 27\n"
     ]
    }
   ],
   "source": [
    "# First load data in \n",
    "data = {}\n",
    "for task in os.listdir(f'results_file/{job}/'):\n",
    "    if len(os.listdir(f'results_file/{job}/{task}')) <= 1:\n",
    "        continue \n",
    "    fn = [x for x in os.listdir(f'results_file/{job}/{task}/') if '.csv' in x][0] # currently these files only have one entry\n",
    "    data[int(task)] = pd.read_csv(f'results_file/{job}/{task}/{fn}', index_col=False)\n",
    "print(f'Number of results files in job {job} = {len(data)}')"
   ]
  },
  {
   "cell_type": "code",
   "execution_count": 48,
   "metadata": {},
   "outputs": [
    {
     "data": {
      "text/plain": [
       "[1,\n",
       " 2,\n",
       " 3,\n",
       " 4,\n",
       " 5,\n",
       " 6,\n",
       " 8,\n",
       " 9,\n",
       " 10,\n",
       " 11,\n",
       " 12,\n",
       " 13,\n",
       " 14,\n",
       " 15,\n",
       " 16,\n",
       " 17,\n",
       " 18,\n",
       " 19,\n",
       " 20,\n",
       " 21,\n",
       " 24,\n",
       " 25,\n",
       " 26,\n",
       " 27,\n",
       " 28,\n",
       " 29,\n",
       " 30]"
      ]
     },
     "execution_count": 48,
     "metadata": {},
     "output_type": "execute_result"
    }
   ],
   "source": [
    "sorted(list(data.keys()))"
   ]
  },
  {
   "cell_type": "code",
   "execution_count": 49,
   "metadata": {},
   "outputs": [
    {
     "data": {
      "text/html": [
       "<div>\n",
       "<style scoped>\n",
       "    .dataframe tbody tr th:only-of-type {\n",
       "        vertical-align: middle;\n",
       "    }\n",
       "\n",
       "    .dataframe tbody tr th {\n",
       "        vertical-align: top;\n",
       "    }\n",
       "\n",
       "    .dataframe thead th {\n",
       "        text-align: right;\n",
       "    }\n",
       "</style>\n",
       "<table border=\"1\" class=\"dataframe\">\n",
       "  <thead>\n",
       "    <tr style=\"text-align: right;\">\n",
       "      <th></th>\n",
       "      <th>member_generation</th>\n",
       "      <th>training</th>\n",
       "      <th>seed</th>\n",
       "      <th>time</th>\n",
       "      <th>full_acc</th>\n",
       "      <th>majority_acc</th>\n",
       "      <th>minority_acc</th>\n",
       "      <th>tn</th>\n",
       "      <th>fp</th>\n",
       "      <th>fn</th>\n",
       "      <th>tp</th>\n",
       "    </tr>\n",
       "  </thead>\n",
       "  <tbody>\n",
       "    <tr>\n",
       "      <th>0</th>\n",
       "      <td>True</td>\n",
       "      <td>True</td>\n",
       "      <td>0</td>\n",
       "      <td>-790.030946</td>\n",
       "      <td>0.278689</td>\n",
       "      <td>1.000000</td>\n",
       "      <td>0.000000</td>\n",
       "      <td>-1</td>\n",
       "      <td>-1</td>\n",
       "      <td>-1</td>\n",
       "      <td>-1</td>\n",
       "    </tr>\n",
       "    <tr>\n",
       "      <th>1</th>\n",
       "      <td>True</td>\n",
       "      <td>False</td>\n",
       "      <td>0</td>\n",
       "      <td>-790.030946</td>\n",
       "      <td>0.259259</td>\n",
       "      <td>1.000000</td>\n",
       "      <td>0.000000</td>\n",
       "      <td>-1</td>\n",
       "      <td>-1</td>\n",
       "      <td>-1</td>\n",
       "      <td>-1</td>\n",
       "    </tr>\n",
       "    <tr>\n",
       "      <th>2</th>\n",
       "      <td>True</td>\n",
       "      <td>True</td>\n",
       "      <td>0</td>\n",
       "      <td>-4.957661</td>\n",
       "      <td>0.672131</td>\n",
       "      <td>0.058824</td>\n",
       "      <td>0.909091</td>\n",
       "      <td>-1</td>\n",
       "      <td>-1</td>\n",
       "      <td>-1</td>\n",
       "      <td>-1</td>\n",
       "    </tr>\n",
       "    <tr>\n",
       "      <th>3</th>\n",
       "      <td>True</td>\n",
       "      <td>False</td>\n",
       "      <td>0</td>\n",
       "      <td>-4.957661</td>\n",
       "      <td>0.740741</td>\n",
       "      <td>0.000000</td>\n",
       "      <td>1.000000</td>\n",
       "      <td>-1</td>\n",
       "      <td>-1</td>\n",
       "      <td>-1</td>\n",
       "      <td>-1</td>\n",
       "    </tr>\n",
       "    <tr>\n",
       "      <th>4</th>\n",
       "      <td>True</td>\n",
       "      <td>True</td>\n",
       "      <td>169</td>\n",
       "      <td>-856.094026</td>\n",
       "      <td>0.278689</td>\n",
       "      <td>1.000000</td>\n",
       "      <td>0.000000</td>\n",
       "      <td>-1</td>\n",
       "      <td>-1</td>\n",
       "      <td>-1</td>\n",
       "      <td>-1</td>\n",
       "    </tr>\n",
       "    <tr>\n",
       "      <th>...</th>\n",
       "      <td>...</td>\n",
       "      <td>...</td>\n",
       "      <td>...</td>\n",
       "      <td>...</td>\n",
       "      <td>...</td>\n",
       "      <td>...</td>\n",
       "      <td>...</td>\n",
       "      <td>...</td>\n",
       "      <td>...</td>\n",
       "      <td>...</td>\n",
       "      <td>...</td>\n",
       "    </tr>\n",
       "    <tr>\n",
       "      <th>115</th>\n",
       "      <td>True</td>\n",
       "      <td>False</td>\n",
       "      <td>4732</td>\n",
       "      <td>-4.132023</td>\n",
       "      <td>0.703704</td>\n",
       "      <td>0.000000</td>\n",
       "      <td>0.950000</td>\n",
       "      <td>-1</td>\n",
       "      <td>-1</td>\n",
       "      <td>-1</td>\n",
       "      <td>-1</td>\n",
       "    </tr>\n",
       "    <tr>\n",
       "      <th>116</th>\n",
       "      <td>True</td>\n",
       "      <td>True</td>\n",
       "      <td>4901</td>\n",
       "      <td>-875.663522</td>\n",
       "      <td>0.278689</td>\n",
       "      <td>1.000000</td>\n",
       "      <td>0.000000</td>\n",
       "      <td>-1</td>\n",
       "      <td>-1</td>\n",
       "      <td>-1</td>\n",
       "      <td>-1</td>\n",
       "    </tr>\n",
       "    <tr>\n",
       "      <th>117</th>\n",
       "      <td>True</td>\n",
       "      <td>False</td>\n",
       "      <td>4901</td>\n",
       "      <td>-875.663522</td>\n",
       "      <td>0.259259</td>\n",
       "      <td>1.000000</td>\n",
       "      <td>0.000000</td>\n",
       "      <td>-1</td>\n",
       "      <td>-1</td>\n",
       "      <td>-1</td>\n",
       "      <td>-1</td>\n",
       "    </tr>\n",
       "    <tr>\n",
       "      <th>118</th>\n",
       "      <td>True</td>\n",
       "      <td>True</td>\n",
       "      <td>4901</td>\n",
       "      <td>-4.278965</td>\n",
       "      <td>0.721311</td>\n",
       "      <td>0.000000</td>\n",
       "      <td>1.000000</td>\n",
       "      <td>-1</td>\n",
       "      <td>-1</td>\n",
       "      <td>-1</td>\n",
       "      <td>-1</td>\n",
       "    </tr>\n",
       "    <tr>\n",
       "      <th>119</th>\n",
       "      <td>True</td>\n",
       "      <td>False</td>\n",
       "      <td>4901</td>\n",
       "      <td>-4.278965</td>\n",
       "      <td>0.740741</td>\n",
       "      <td>0.000000</td>\n",
       "      <td>1.000000</td>\n",
       "      <td>-1</td>\n",
       "      <td>-1</td>\n",
       "      <td>-1</td>\n",
       "      <td>-1</td>\n",
       "    </tr>\n",
       "  </tbody>\n",
       "</table>\n",
       "<p>120 rows × 11 columns</p>\n",
       "</div>"
      ],
      "text/plain": [
       "     member_generation  training  seed        time  full_acc  majority_acc  \\\n",
       "0                 True      True     0 -790.030946  0.278689      1.000000   \n",
       "1                 True     False     0 -790.030946  0.259259      1.000000   \n",
       "2                 True      True     0   -4.957661  0.672131      0.058824   \n",
       "3                 True     False     0   -4.957661  0.740741      0.000000   \n",
       "4                 True      True   169 -856.094026  0.278689      1.000000   \n",
       "..                 ...       ...   ...         ...       ...           ...   \n",
       "115               True     False  4732   -4.132023  0.703704      0.000000   \n",
       "116               True      True  4901 -875.663522  0.278689      1.000000   \n",
       "117               True     False  4901 -875.663522  0.259259      1.000000   \n",
       "118               True      True  4901   -4.278965  0.721311      0.000000   \n",
       "119               True     False  4901   -4.278965  0.740741      0.000000   \n",
       "\n",
       "     minority_acc  tn  fp  fn  tp  \n",
       "0        0.000000  -1  -1  -1  -1  \n",
       "1        0.000000  -1  -1  -1  -1  \n",
       "2        0.909091  -1  -1  -1  -1  \n",
       "3        1.000000  -1  -1  -1  -1  \n",
       "4        0.000000  -1  -1  -1  -1  \n",
       "..            ...  ..  ..  ..  ..  \n",
       "115      0.950000  -1  -1  -1  -1  \n",
       "116      0.000000  -1  -1  -1  -1  \n",
       "117      0.000000  -1  -1  -1  -1  \n",
       "118      1.000000  -1  -1  -1  -1  \n",
       "119      1.000000  -1  -1  -1  -1  \n",
       "\n",
       "[120 rows x 11 columns]"
      ]
     },
     "execution_count": 49,
     "metadata": {},
     "output_type": "execute_result"
    }
   ],
   "source": [
    "data[18]"
   ]
  },
  {
   "cell_type": "code",
   "execution_count": 50,
   "metadata": {},
   "outputs": [],
   "source": [
    "# method to efficently grab correct subsections from \n",
    "def get_data(task, member_generation=False, training=False, numpy=False):\n",
    "    x = data[task]\n",
    "    x = x[x['member_generation'] == member_generation] \n",
    "    if numpy:\n",
    "        x = x[x['training'] == training].to_numpy() # [final]\n",
    "    else:\n",
    "        x = x[x['training'] == training] # [final]\n",
    "    return x"
   ]
  },
  {
   "cell_type": "code",
   "execution_count": 59,
   "metadata": {},
   "outputs": [
    {
     "data": {
      "text/plain": [
       "dict_keys([20, 18, 27, 9, 11, 29, 16, 6, 28, 17, 1, 10, 19, 26, 8, 21, 30, 24, 4, 15, 3, 12, 2, 13, 5, 14, 25])"
      ]
     },
     "execution_count": 59,
     "metadata": {},
     "output_type": "execute_result"
    }
   ],
   "source": [
    "data.keys()"
   ]
  },
  {
   "cell_type": "code",
   "execution_count": 71,
   "metadata": {},
   "outputs": [
    {
     "name": "stdout",
     "output_type": "stream",
     "text": [
      "            0\n",
      "0   32.111111\n",
      "1   29.259259\n",
      "2   51.072464\n",
      "3   18.807175\n",
      "4   36.355556\n",
      "5   18.825112\n",
      "6   35.751220\n",
      "7   57.443902\n",
      "8   36.370370\n",
      "9   36.256039\n",
      "10  47.755556\n",
      "11  42.419753\n",
      "12   9.479821\n",
      "13  57.619512\n",
      "14  42.814815\n",
      "15  47.600000\n",
      "16  42.518519\n",
      "17  36.488889\n",
      "18  40.000000\n",
      "19  36.843373\n",
      "20  38.217822\n",
      "21  41.650943\n",
      "22  50.528302\n",
      "23  23.366337\n",
      "24  47.526104\n",
      "25  29.844444\n",
      "26  49.413655\n"
     ]
    },
    {
     "data": {
      "text/plain": [
       "array([[<AxesSubplot:title={'center':'0'}>]], dtype=object)"
      ]
     },
     "execution_count": 71,
     "metadata": {},
     "output_type": "execute_result"
    },
    {
     "data": {
      "image/png": "[encoded data removed]",
      "text/plain": [
       "<Figure size 432x288 with 1 Axes>"
      ]
     },
     "metadata": {
      "needs_background": "light"
     },
     "output_type": "display_data"
    }
   ],
   "source": [
    "np_sel_test = np.array([get_data(z, member_generation=True)['full_acc'] for z in (data.keys())]).sum(axis=1)\n",
    "np_sel_test\n",
    "df = pd.DataFrame(data=np_sel_test)\n",
    "print(df)\n",
    "df.hist()"
   ]
  },
  {
   "cell_type": "code",
   "execution_count": 51,
   "metadata": {},
   "outputs": [
    {
     "data": {
      "text/plain": [
       "<AxesSubplot:xlabel='majority_acc', ylabel='minority_acc'>"
      ]
     },
     "execution_count": 51,
     "metadata": {},
     "output_type": "execute_result"
    },
    {
     "data": {
      "image/png": "[encoded data removed]",
      "text/plain": [
       "<Figure size 432x288 with 1 Axes>"
      ]
     },
     "metadata": {
      "needs_background": "light"
     },
     "output_type": "display_data"
    }
   ],
   "source": [
    "get_data(20, member_generation=True).plot.scatter(x='majority_acc', y='minority_acc') "
   ]
  },
  {
   "cell_type": "code",
   "execution_count": 42,
   "metadata": {},
   "outputs": [
    {
     "data": {
      "text/html": [
       "<div>\n",
       "<style scoped>\n",
       "    .dataframe tbody tr th:only-of-type {\n",
       "        vertical-align: middle;\n",
       "    }\n",
       "\n",
       "    .dataframe tbody tr th {\n",
       "        vertical-align: top;\n",
       "    }\n",
       "\n",
       "    .dataframe thead th {\n",
       "        text-align: right;\n",
       "    }\n",
       "</style>\n",
       "<table border=\"1\" class=\"dataframe\">\n",
       "  <thead>\n",
       "    <tr style=\"text-align: right;\">\n",
       "      <th></th>\n",
       "    </tr>\n",
       "  </thead>\n",
       "  <tbody>\n",
       "  </tbody>\n",
       "</table>\n",
       "</div>"
      ],
      "text/plain": [
       "Empty DataFrame\n",
       "Columns: []\n",
       "Index: []"
      ]
     },
     "execution_count": 42,
     "metadata": {},
     "output_type": "execute_result"
    }
   ],
   "source": [
    "# Get the description for each. \n",
    "data2= []\n",
    "for key in data.keys():\n",
    "    try:\n",
    "        data2.append(get_data(key, member_generation=True)['full_acc'].describe())\n",
    "    except:\n",
    "        pass\n",
    "\n",
    "description = pd.DataFrame(data=data2)\n",
    "description = description.reset_index()\n",
    "description = description.drop(columns='index')\n",
    "name_dict = {}\n",
    "i = 0\n",
    "for model in models:\n",
    "    for dataset in datasets:\n",
    "        name_dict[i] = dataset+'_'+model\n",
    "        i += 1\n",
    "description.rename(index=name_dict, inplace=True)\n",
    "description"
   ]
  },
  {
   "cell_type": "markdown",
   "metadata": {},
   "source": [
    "# Graphing a task"
   ]
  },
  {
   "cell_type": "markdown",
   "metadata": {},
   "source": [
    "# Analysis of the description\n",
    "\n",
    "This table shows the performance of the bag model on each dataset. Important aspects:\n",
    "- yeast and spec both have the same accuracy within the quantiles, this suggests the model isn't correct. Potentially it only outputs 0 or 1. \n",
    "- The performance is not particularly impressive, maybe tuning the hyper parameters could be useful\n",
    "\n",
    "\n"
   ]
  },
  {
   "cell_type": "code",
   "execution_count": null,
   "metadata": {},
   "outputs": [],
   "source": []
  },
  {
   "cell_type": "code",
   "execution_count": null,
   "metadata": {},
   "outputs": [],
   "source": []
  },
  {
   "cell_type": "code",
   "execution_count": null,
   "metadata": {},
   "outputs": [],
   "source": []
  }
 ],
 "metadata": {
  "kernelspec": {
   "display_name": "Python 3",
   "language": "python",
   "name": "python3"
  },
  "language_info": {
   "codemirror_mode": {
    "name": "ipython",
    "version": 3
   },
   "file_extension": ".py",
   "mimetype": "text/x-python",
   "name": "python",
   "nbconvert_exporter": "python",
   "pygments_lexer": "ipython3",
   "version": "3.9.12"
  }
 },
 "nbformat": 4,
 "nbformat_minor": 4
}
