{
 "cells": [
  {
   "cell_type": "markdown",
   "metadata": {},
   "source": [
    "Dealing with scoring. Will convert to scripts later \n",
    "\n",
    "\n",
    "- must check that size of y and size of scoring file the same\n",
    "- "
   ]
  },
  {
   "cell_type": "code",
   "execution_count": 1,
   "metadata": {},
   "outputs": [],
   "source": [
    "import pandas as pd \n",
    "import numpy as np\n",
    "import os \n",
    "import sys \n",
    "target_job = '4080640'\n",
    "from code.data_processing import get_data\n",
    "_, y = get_data('cleveland')"
   ]
  },
  {
   "cell_type": "markdown",
   "metadata": {},
   "source": [
    "First some kind of measure of how dominant a single classifier is "
   ]
  },
  {
   "cell_type": "markdown",
   "metadata": {},
   "source": [
    "# Functions to deal with dataset"
   ]
  },
  {
   "cell_type": "code",
   "execution_count": 2,
   "metadata": {},
   "outputs": [],
   "source": [
    "# load a single seed of a task with ypred vs observation \n",
    "def load_scoring(fn : str) -> np.array: \n",
    "    assert('.csv' in fn)\n",
    "    x = pd.read_csv(fn).transpose().to_numpy()\n",
    "    assert(len(x.shape) == 2)\n",
    "    return x "
   ]
  },
  {
   "cell_type": "code",
   "execution_count": 3,
   "metadata": {},
   "outputs": [],
   "source": [
    "# load each scoring dataframe for each seed\n",
    "def load_all_scoring(path : str) -> np.array: \n",
    "    return np.array([load_scoring(path+'/'+x) for x in os.listdir(path) if '.csv' in x])"
   ]
  },
  {
   "cell_type": "code",
   "execution_count": 4,
   "metadata": {},
   "outputs": [],
   "source": [
    "# get accuracy of a single member vector on y\n",
    "def acc_member(X : np.array) -> np.array: # gets the same X for each m ember \n",
    "    assert(len(X.shape) == 1)\n",
    "    correct = 0\n",
    "    for i in range(len(X)):\n",
    "        if y[i] == X[i]:\n",
    "            correct += 1\n",
    "    return correct / len(X)"
   ]
  },
  {
   "cell_type": "code",
   "execution_count": 5,
   "metadata": {},
   "outputs": [],
   "source": [
    "# get accuracy of a single seed\n",
    "def acc_seed(X : np.array) -> np.array:\n",
    "    assert(len(X.shape) == 2)\n",
    "    r = np.zeros(X.shape[0])\n",
    "    for i in range(X.shape[0]):\n",
    "        r[i] = acc_member(X[i])\n",
    "    return r"
   ]
  },
  {
   "cell_type": "code",
   "execution_count": 6,
   "metadata": {},
   "outputs": [],
   "source": [
    "# get accuracy over all seeds\n",
    "def acc_task(X : np.array) -> list: # list not dict for now \n",
    "    assert(len(X.shape) == 3)\n",
    "    r = []\n",
    "    for i in range(X.shape[0]):\n",
    "        r.append(acc_seed(X[i]))\n",
    "    return r"
   ]
  },
  {
   "cell_type": "markdown",
   "metadata": {},
   "source": [
    "# Graphing functions "
   ]
  },
  {
   "cell_type": "code",
   "execution_count": null,
   "metadata": {},
   "outputs": [],
   "source": []
  },
  {
   "cell_type": "markdown",
   "metadata": {},
   "source": [
    "# Now loading in "
   ]
  },
  {
   "cell_type": "code",
   "execution_count": 7,
   "metadata": {},
   "outputs": [
    {
     "name": "stdout",
     "output_type": "stream",
     "text": [
      "Shape of all scores in task  = (30, 5, 207), (# seeds, # members in ensemble, # observatins)\n",
      "Shape for each seed = (5,)\n",
      "Shape for acc over seeds = (30, 5)\n"
     ]
    }
   ],
   "source": [
    "scoring_task_1 = load_all_scoring('results_file/4080640/1/scoring/')\n",
    "print(f'Shape of all scores in task  = {scoring_task_1.shape}, (# seeds, # members in ensemble, # observatins)')\n",
    "acc_task_1 = np.array(acc_task(scoring_task_1))\n",
    "print(f'Shape for each seed = {acc_task_1[0].shape}')\n",
    "print(f'Shape for acc over seeds = {acc_task_1.shape}') # might fail on ragged array"
   ]
  },
  {
   "cell_type": "code",
   "execution_count": 8,
   "metadata": {},
   "outputs": [
    {
     "data": {
      "text/plain": [
       "array([[0.53140097, 0.51690821, 0.51690821, 0.52173913, 0.5410628 ],\n",
       "       [0.52173913, 0.50724638, 0.47342995, 0.46859903, 0.47342995],\n",
       "       [0.44927536, 0.49275362, 0.54589372, 0.51207729, 0.50724638],\n",
       "       [0.52173913, 0.56038647, 0.50724638, 0.47342995, 0.46859903],\n",
       "       [0.50241546, 0.51690821, 0.52173913, 0.55555556, 0.46376812],\n",
       "       [0.47342995, 0.50241546, 0.5410628 , 0.50724638, 0.46859903],\n",
       "       [0.5410628 , 0.52173913, 0.53623188, 0.50724638, 0.57487923],\n",
       "       [0.50724638, 0.51690821, 0.4589372 , 0.53140097, 0.50241546],\n",
       "       [0.46376812, 0.46859903, 0.51690821, 0.48309179, 0.48309179],\n",
       "       [0.51690821, 0.49758454, 0.49758454, 0.48309179, 0.48309179],\n",
       "       [0.57004831, 0.50724638, 0.53623188, 0.55555556, 0.57487923],\n",
       "       [0.39613527, 0.45410628, 0.44444444, 0.40096618, 0.45410628],\n",
       "       [0.48792271, 0.47826087, 0.51690821, 0.49758454, 0.44444444],\n",
       "       [0.51207729, 0.50724638, 0.51690821, 0.55555556, 0.55072464],\n",
       "       [0.5410628 , 0.5410628 , 0.51690821, 0.47342995, 0.49758454],\n",
       "       [0.47342995, 0.52173913, 0.48309179, 0.50241546, 0.45410628],\n",
       "       [0.49758454, 0.49758454, 0.51207729, 0.55072464, 0.57004831],\n",
       "       [0.48792271, 0.49758454, 0.49758454, 0.47342995, 0.49758454],\n",
       "       [0.58937198, 0.53140097, 0.57487923, 0.55072464, 0.60869565],\n",
       "       [0.49275362, 0.52657005, 0.51207729, 0.47342995, 0.48792271],\n",
       "       [0.50724638, 0.48309179, 0.49275362, 0.48309179, 0.52657005],\n",
       "       [0.51690821, 0.51207729, 0.53623188, 0.50724638, 0.51690821],\n",
       "       [0.52657005, 0.5410628 , 0.53623188, 0.56521739, 0.56521739],\n",
       "       [0.54589372, 0.52657005, 0.52173913, 0.53623188, 0.51690821],\n",
       "       [0.52173913, 0.53623188, 0.53140097, 0.50241546, 0.49758454],\n",
       "       [0.45410628, 0.43478261, 0.48309179, 0.4589372 , 0.46376812],\n",
       "       [0.46859903, 0.48309179, 0.53140097, 0.52173913, 0.52173913],\n",
       "       [0.49758454, 0.46376812, 0.49758454, 0.49275362, 0.45410628],\n",
       "       [0.53140097, 0.51690821, 0.53140097, 0.4589372 , 0.49275362],\n",
       "       [0.48792271, 0.5410628 , 0.47342995, 0.54589372, 0.57004831]])"
      ]
     },
     "execution_count": 8,
     "metadata": {},
     "output_type": "execute_result"
    }
   ],
   "source": [
    "acc_task_1"
   ]
  },
  {
   "cell_type": "code",
   "execution_count": 9,
   "metadata": {},
   "outputs": [
    {
     "data": {
      "text/html": [
       "<div>\n",
       "<style scoped>\n",
       "    .dataframe tbody tr th:only-of-type {\n",
       "        vertical-align: middle;\n",
       "    }\n",
       "\n",
       "    .dataframe tbody tr th {\n",
       "        vertical-align: top;\n",
       "    }\n",
       "\n",
       "    .dataframe thead th {\n",
       "        text-align: right;\n",
       "    }\n",
       "</style>\n",
       "<table border=\"1\" class=\"dataframe\">\n",
       "  <thead>\n",
       "    <tr style=\"text-align: right;\">\n",
       "      <th></th>\n",
       "      <th>seed</th>\n",
       "      <th>time</th>\n",
       "      <th>full_acc</th>\n",
       "      <th>majority_acc</th>\n",
       "      <th>minority_acc</th>\n",
       "      <th>tn</th>\n",
       "      <th>fp</th>\n",
       "      <th>fn</th>\n",
       "      <th>tp</th>\n",
       "    </tr>\n",
       "  </thead>\n",
       "  <tbody>\n",
       "    <tr>\n",
       "      <th>count</th>\n",
       "      <td>120.000000</td>\n",
       "      <td>1.200000e+02</td>\n",
       "      <td>120.000000</td>\n",
       "      <td>120.000000</td>\n",
       "      <td>120.000000</td>\n",
       "      <td>120.0</td>\n",
       "      <td>120.0</td>\n",
       "      <td>120.0</td>\n",
       "      <td>120.0</td>\n",
       "    </tr>\n",
       "    <tr>\n",
       "      <th>mean</th>\n",
       "      <td>2450.500000</td>\n",
       "      <td>-6.688315e+01</td>\n",
       "      <td>0.813180</td>\n",
       "      <td>0.766717</td>\n",
       "      <td>0.853175</td>\n",
       "      <td>-1.0</td>\n",
       "      <td>-1.0</td>\n",
       "      <td>-1.0</td>\n",
       "      <td>-1.0</td>\n",
       "    </tr>\n",
       "    <tr>\n",
       "      <th>std</th>\n",
       "      <td>1468.902838</td>\n",
       "      <td>6.825197e+01</td>\n",
       "      <td>0.037284</td>\n",
       "      <td>0.076944</td>\n",
       "      <td>0.072927</td>\n",
       "      <td>0.0</td>\n",
       "      <td>0.0</td>\n",
       "      <td>0.0</td>\n",
       "      <td>0.0</td>\n",
       "    </tr>\n",
       "    <tr>\n",
       "      <th>min</th>\n",
       "      <td>0.000000</td>\n",
       "      <td>-1.685905e+02</td>\n",
       "      <td>0.700000</td>\n",
       "      <td>0.547619</td>\n",
       "      <td>0.687500</td>\n",
       "      <td>-1.0</td>\n",
       "      <td>-1.0</td>\n",
       "      <td>-1.0</td>\n",
       "      <td>-1.0</td>\n",
       "    </tr>\n",
       "    <tr>\n",
       "      <th>25%</th>\n",
       "      <td>1183.000000</td>\n",
       "      <td>-1.334640e+02</td>\n",
       "      <td>0.792271</td>\n",
       "      <td>0.734211</td>\n",
       "      <td>0.810268</td>\n",
       "      <td>-1.0</td>\n",
       "      <td>-1.0</td>\n",
       "      <td>-1.0</td>\n",
       "      <td>-1.0</td>\n",
       "    </tr>\n",
       "    <tr>\n",
       "      <th>50%</th>\n",
       "      <td>2450.500000</td>\n",
       "      <td>-5.301293e+01</td>\n",
       "      <td>0.821739</td>\n",
       "      <td>0.773684</td>\n",
       "      <td>0.857143</td>\n",
       "      <td>-1.0</td>\n",
       "      <td>-1.0</td>\n",
       "      <td>-1.0</td>\n",
       "      <td>-1.0</td>\n",
       "    </tr>\n",
       "    <tr>\n",
       "      <th>75%</th>\n",
       "      <td>3718.000000</td>\n",
       "      <td>-1.192093e-06</td>\n",
       "      <td>0.835145</td>\n",
       "      <td>0.813158</td>\n",
       "      <td>0.916667</td>\n",
       "      <td>-1.0</td>\n",
       "      <td>-1.0</td>\n",
       "      <td>-1.0</td>\n",
       "      <td>-1.0</td>\n",
       "    </tr>\n",
       "    <tr>\n",
       "      <th>max</th>\n",
       "      <td>4901.000000</td>\n",
       "      <td>-7.152557e-07</td>\n",
       "      <td>0.888889</td>\n",
       "      <td>0.952381</td>\n",
       "      <td>1.000000</td>\n",
       "      <td>-1.0</td>\n",
       "      <td>-1.0</td>\n",
       "      <td>-1.0</td>\n",
       "      <td>-1.0</td>\n",
       "    </tr>\n",
       "  </tbody>\n",
       "</table>\n",
       "</div>"
      ],
      "text/plain": [
       "              seed          time    full_acc  majority_acc  minority_acc  \\\n",
       "count   120.000000  1.200000e+02  120.000000    120.000000    120.000000   \n",
       "mean   2450.500000 -6.688315e+01    0.813180      0.766717      0.853175   \n",
       "std    1468.902838  6.825197e+01    0.037284      0.076944      0.072927   \n",
       "min       0.000000 -1.685905e+02    0.700000      0.547619      0.687500   \n",
       "25%    1183.000000 -1.334640e+02    0.792271      0.734211      0.810268   \n",
       "50%    2450.500000 -5.301293e+01    0.821739      0.773684      0.857143   \n",
       "75%    3718.000000 -1.192093e-06    0.835145      0.813158      0.916667   \n",
       "max    4901.000000 -7.152557e-07    0.888889      0.952381      1.000000   \n",
       "\n",
       "          tn     fp     fn     tp  \n",
       "count  120.0  120.0  120.0  120.0  \n",
       "mean    -1.0   -1.0   -1.0   -1.0  \n",
       "std      0.0    0.0    0.0    0.0  \n",
       "min     -1.0   -1.0   -1.0   -1.0  \n",
       "25%     -1.0   -1.0   -1.0   -1.0  \n",
       "50%     -1.0   -1.0   -1.0   -1.0  \n",
       "75%     -1.0   -1.0   -1.0   -1.0  \n",
       "max     -1.0   -1.0   -1.0   -1.0  "
      ]
     },
     "execution_count": 9,
     "metadata": {},
     "output_type": "execute_result"
    }
   ],
   "source": [
    "df_ensemble = pd.read_csv('results_file/4080640/1/bagboost_experiment_job_4080640_task_1_cleveland.csv').describe()\n",
    "df_ensemble"
   ]
  },
  {
   "cell_type": "code",
   "execution_count": 10,
   "metadata": {},
   "outputs": [
    {
     "data": {
      "text/plain": [
       "0.813180354267311"
      ]
     },
     "execution_count": 10,
     "metadata": {},
     "output_type": "execute_result"
    }
   ],
   "source": [
    "mean_acc = df_ensemble.loc['mean', 'full_acc']\n",
    "mean_acc"
   ]
  },
  {
   "cell_type": "markdown",
   "metadata": {},
   "source": [
    "# Looking at how much each solution dominates\n",
    "Ideally need to find a measure which doesn't depend on ensemble size... variance?\n",
    "I think mean across seeds, variance accross accuracy of members"
   ]
  },
  {
   "cell_type": "code",
   "execution_count": 212,
   "metadata": {},
   "outputs": [
    {
     "data": {
      "text/plain": [
       "0.00052245482197173"
      ]
     },
     "execution_count": 212,
     "metadata": {},
     "output_type": "execute_result"
    }
   ],
   "source": [
    "mnvr = np.mean(np.var(acc_task_1, axis=1))\n",
    "mnvr"
   ]
  },
  {
   "cell_type": "code",
   "execution_count": 213,
   "metadata": {},
   "outputs": [
    {
     "data": {
      "text/plain": [
       "['/Users/ferguscurrie/Documents/Uni/Research/Implementations',\n",
       " '/usr/local/Cellar/python@3.9/3.9.10/Frameworks/Python.framework/Versions/3.9/lib/python39.zip',\n",
       " '/usr/local/Cellar/python@3.9/3.9.10/Frameworks/Python.framework/Versions/3.9/lib/python3.9',\n",
       " '/usr/local/Cellar/python@3.9/3.9.10/Frameworks/Python.framework/Versions/3.9/lib/python3.9/lib-dynload',\n",
       " '',\n",
       " '/Users/ferguscurrie/Library/Python/3.9/lib/python/site-packages',\n",
       " '/usr/local/lib/python3.9/site-packages',\n",
       " '/usr/local/opt/python-tk@3.9/libexec',\n",
       " '/usr/local/lib/python3.9/site-packages/IPython/extensions',\n",
       " '/Users/ferguscurrie/.ipython']"
      ]
     },
     "execution_count": 213,
     "metadata": {},
     "output_type": "execute_result"
    }
   ],
   "source": [
    "sys.path"
   ]
  },
  {
   "cell_type": "code",
   "execution_count": null,
   "metadata": {},
   "outputs": [],
   "source": []
  }
 ],
 "metadata": {
  "kernelspec": {
   "display_name": "Python 3",
   "language": "python",
   "name": "python3"
  },
  "language_info": {
   "codemirror_mode": {
    "name": "ipython",
    "version": 3
   },
   "file_extension": ".py",
   "mimetype": "text/x-python",
   "name": "python",
   "nbconvert_exporter": "python",
   "pygments_lexer": "ipython3",
   "version": "3.9.10"
  }
 },
 "nbformat": 4,
 "nbformat_minor": 4
}
