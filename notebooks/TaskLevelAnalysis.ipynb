{
 "cells": [
  {
   "cell_type": "code",
   "execution_count": 1,
   "metadata": {},
   "outputs": [
    {
     "name": "stdout",
     "output_type": "stream",
     "text": [
      "['cleveland', 'ionosphere', 'ecoli', 'iris', 'mammo_graphic', 'wisconsin_breast_cancer', 'australia', 'postop', 'yeast', 'spec']\n"
     ]
    }
   ],
   "source": [
    "import sys\n",
    "import os\n",
    "sys.path.insert(0, os.path.abspath('../code'))\n",
    "\n",
    "import pandas as pd \n",
    "import numpy as np\n",
    "import os \n",
    "import sys \n",
    "from code.data_processing import get_all_datasets\n",
    "import matplotlib.pyplot as plt\n",
    "job = 'bagboost'\n",
    "from ResultHandling import ResultHandling\n",
    "print(get_all_datasets())"
   ]
  },
  {
   "cell_type": "markdown",
   "metadata": {},
   "source": [
    "# Script to save all box plots"
   ]
  },
  {
   "cell_type": "code",
   "execution_count": 7,
   "metadata": {},
   "outputs": [],
   "source": [
    "RH = ResultHandling(job, height=10, width = 10, box_label_size=30)\n",
    "\n",
    "if 1:\n",
    "    for ds in get_all_datasets():\n",
    "        # Per model train\n",
    "        plot_labels, plots = [], []\n",
    "        for model_nam in RH.model_names:\n",
    "            plots.append(RH.get_cond_data(mgen=False, train=False, model_name=model_nam, dataset_name='all',col='full_acc'))\n",
    "            plot_labels.append(model_nam)\n",
    "        RH.box_plot(boxes=plots, labels=plot_labels, save=True, draw=False, figname=f'{job}_{ds}_train')\n",
    "\n",
    "        # Per model test\n",
    "        plot_labels, plots = [], []\n",
    "        for model_nam in RH.model_names:\n",
    "            plots.append(RH.get_cond_data(mgen=False, train=True, model_name=model_nam, dataset_name='all',col='full_acc'))\n",
    "            plot_labels.append(model_nam)\n",
    "        RH.box_plot(boxes=plots, labels=plot_labels, save=True, draw=False, figname=f'{job}_{ds}_test')\n",
    "\n"
   ]
  },
  {
   "cell_type": "markdown",
   "metadata": {},
   "source": [
    "# Script for generating table and wilson cox test"
   ]
  },
  {
   "cell_type": "code",
   "execution_count": 3,
   "metadata": {},
   "outputs": [
    {
     "name": "stdout",
     "output_type": "stream",
     "text": [
      "\\begin{tabular}{lrrrr}\n",
      "\\toprule\n",
      "{} &        gp &       bag &      nich &      ccgp \\\\\n",
      "\\midrule\n",
      "cleveland               &  0.805914 &  0.763620 &  0.559498 &       NaN \\\\\n",
      "ionosphere              &  0.864251 &  0.831723 &  0.674718 &  0.887279 \\\\\n",
      "ecoli                   &  0.927619 &  0.815238 &  0.719184 &  0.975102 \\\\\n",
      "iris                    &  0.714752 &  0.633759 &  0.439858 &  0.134326 \\\\\n",
      "mammo\\_graphic           &  0.981905 &  0.920317 &  0.666349 &  0.540317 \\\\\n",
      "wisconsin\\_breast\\_cancer &  0.843775 &  0.806598 &  0.758692 &  0.854504 \\\\\n",
      "australia               &  0.980056 &  0.966388 &  0.814923 &  0.986332 \\\\\n",
      "postop                  &  0.886473 &  0.854451 &  0.721808 &  0.915252 \\\\\n",
      "yeast                   &  0.844809 &  0.766667 &  0.693989 &  0.888525 \\\\\n",
      "spec                    &  0.390784 &  0.316089 &  0.307964 &  0.097110 \\\\\n",
      "\\bottomrule\n",
      "\\end{tabular}\n",
      "\n"
     ]
    },
    {
     "name": "stderr",
     "output_type": "stream",
     "text": [
      "/usr/local/lib/python3.9/site-packages/numpy/core/fromnumeric.py:3372: RuntimeWarning: Mean of empty slice.\n",
      "  return _methods._mean(a, axis=axis, dtype=dtype,\n",
      "/usr/local/lib/python3.9/site-packages/numpy/core/_methods.py:170: RuntimeWarning: invalid value encountered in double_scalars\n",
      "  ret = ret.dtype.type(ret / rcount)\n"
     ]
    }
   ],
   "source": [
    "f = RH.get_model_vs_dataset_dataframe(training=True)\n",
    "print(f.to_latex())"
   ]
  },
  {
   "cell_type": "code",
   "execution_count": 4,
   "metadata": {},
   "outputs": [
    {
     "name": "stdout",
     "output_type": "stream",
     "text": [
      "\\begin{tabular}{lrrrr}\n",
      "\\toprule\n",
      "{} &        gp &       bag &      nich &      ccgp \\\\\n",
      "\\midrule\n",
      "cleveland               &  0.693416 &  0.700823 &  0.544856 &       NaN \\\\\n",
      "ionosphere              &  0.788889 &  0.793333 &  0.674815 &  0.793333 \\\\\n",
      "ecoli                   &  0.862579 &  0.781761 &  0.699686 &  0.879245 \\\\\n",
      "iris                    &  0.692079 &  0.623102 &  0.444884 &  0.146535 \\\\\n",
      "mammo\\_graphic           &  0.950370 &  0.908148 &  0.668148 &  0.537778 \\\\\n",
      "wisconsin\\_breast\\_cancer &  0.821954 &  0.793307 &  0.758635 &  0.826372 \\\\\n",
      "australia               &  0.960976 &  0.956423 &  0.808780 &  0.960163 \\\\\n",
      "postop                  &  0.855072 &  0.852496 &  0.721095 &  0.849114 \\\\\n",
      "yeast                   &  0.654321 &  0.711111 &  0.690123 &  0.607407 \\\\\n",
      "spec                    &  0.377354 &  0.314873 &  0.306502 &  0.096263 \\\\\n",
      "\\bottomrule\n",
      "\\end{tabular}\n",
      "\n"
     ]
    },
    {
     "name": "stderr",
     "output_type": "stream",
     "text": [
      "/usr/local/lib/python3.9/site-packages/numpy/core/fromnumeric.py:3372: RuntimeWarning: Mean of empty slice.\n",
      "  return _methods._mean(a, axis=axis, dtype=dtype,\n",
      "/usr/local/lib/python3.9/site-packages/numpy/core/_methods.py:170: RuntimeWarning: invalid value encountered in double_scalars\n",
      "  ret = ret.dtype.type(ret / rcount)\n"
     ]
    }
   ],
   "source": [
    "f = RH.get_model_vs_dataset_dataframe(training=False)\n",
    "print(f.to_latex())"
   ]
  },
  {
   "cell_type": "code",
   "execution_count": 5,
   "metadata": {},
   "outputs": [
    {
     "name": "stdout",
     "output_type": "stream",
     "text": [
      "['bag', 'gp', RanksumsResult(statistic=-1.8816936353526517, pvalue=0.02993881220405624)]\n",
      "['nich', 'gp', RanksumsResult(statistic=-10.124877693502027, pvalue=2.142570643110666e-24)]\n",
      "['nich', 'bag', RanksumsResult(statistic=-8.86421360964186, pvalue=3.8522959381583813e-19)]\n",
      "['ccgp', 'gp', RanksumsResult(statistic=-4.404199333508128, pvalue=5.308764183674622e-06)]\n",
      "['ccgp', 'bag', RanksumsResult(statistic=-2.8682286339123837, pvalue=0.0020638856278057107)]\n",
      "['ccgp', 'nich', RanksumsResult(statistic=4.115468870811964, pvalue=0.9999806803427228)]\n"
     ]
    }
   ],
   "source": [
    "RH.wilcoxon_test()"
   ]
  },
  {
   "cell_type": "code",
   "execution_count": 6,
   "metadata": {},
   "outputs": [
    {
     "name": "stdout",
     "output_type": "stream",
     "text": [
      "2.0\n",
      "<class 'float'>\n"
     ]
    }
   ],
   "source": [
    "q = np.array([1,2,3])\n",
    "print(np.mean(q))\n",
    "print(type(float(np.mean(q))))"
   ]
  },
  {
   "cell_type": "markdown",
   "metadata": {},
   "source": [
    "# Fast GP"
   ]
  },
  {
   "cell_type": "code",
   "execution_count": null,
   "metadata": {},
   "outputs": [],
   "source": []
  },
  {
   "cell_type": "code",
   "execution_count": null,
   "metadata": {},
   "outputs": [],
   "source": []
  },
  {
   "cell_type": "code",
   "execution_count": null,
   "metadata": {},
   "outputs": [],
   "source": []
  }
 ],
 "metadata": {
  "kernelspec": {
   "display_name": "Python 3",
   "language": "python",
   "name": "python3"
  },
  "language_info": {
   "codemirror_mode": {
    "name": "ipython",
    "version": 3
   },
   "file_extension": ".py",
   "mimetype": "text/x-python",
   "name": "python",
   "nbconvert_exporter": "python",
   "pygments_lexer": "ipython3",
   "version": "3.9.12"
  }
 },
 "nbformat": 4,
 "nbformat_minor": 4
}
