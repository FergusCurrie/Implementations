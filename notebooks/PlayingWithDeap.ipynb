{
 "cells": [
  {
   "cell_type": "code",
   "execution_count": 3,
   "metadata": {},
   "outputs": [
    {
     "name": "stdout",
     "output_type": "stream",
     "text": [
      "12\n"
     ]
    }
   ],
   "source": [
    "import sys\n",
    "import os\n",
    "sys.path.insert(0, os.path.abspath('../code'))\n",
    "print(len(sys.path))\n",
    "#from code.learners.EC.deap_extra import GP_predict, get_pset"
   ]
  },
  {
   "cell_type": "code",
   "execution_count": 2,
   "metadata": {},
   "outputs": [
    {
     "ename": "ModuleNotFoundError",
     "evalue": "No module named 'code.metrics'; 'code' is not a package",
     "output_type": "error",
     "traceback": [
      "\u001b[0;31m---------------------------------------------------------------------------\u001b[0m",
      "\u001b[0;31mModuleNotFoundError\u001b[0m                       Traceback (most recent call last)",
      "\u001b[0;32m<ipython-input-2-9d9966e29cc3>\u001b[0m in \u001b[0;36m<module>\u001b[0;34m\u001b[0m\n\u001b[1;32m      7\u001b[0m \u001b[0;32mimport\u001b[0m \u001b[0moperator\u001b[0m\u001b[0;34m\u001b[0m\u001b[0;34m\u001b[0m\u001b[0m\n\u001b[1;32m      8\u001b[0m \u001b[0;32mimport\u001b[0m \u001b[0mrandom\u001b[0m\u001b[0;34m\u001b[0m\u001b[0;34m\u001b[0m\u001b[0m\n\u001b[0;32m----> 9\u001b[0;31m \u001b[0;32mfrom\u001b[0m \u001b[0mcode\u001b[0m\u001b[0;34m.\u001b[0m\u001b[0mmetrics\u001b[0m\u001b[0;34m.\u001b[0m\u001b[0mclassification_metrics\u001b[0m \u001b[0;32mimport\u001b[0m \u001b[0;34m*\u001b[0m\u001b[0;34m\u001b[0m\u001b[0;34m\u001b[0m\u001b[0m\n\u001b[0m\u001b[1;32m     10\u001b[0m \u001b[0;32mfrom\u001b[0m \u001b[0mcode\u001b[0m\u001b[0;34m.\u001b[0m\u001b[0mlearners\u001b[0m\u001b[0;34m.\u001b[0m\u001b[0mEC\u001b[0m\u001b[0;34m.\u001b[0m\u001b[0mdeap_extra\u001b[0m \u001b[0;32mimport\u001b[0m \u001b[0mGP_predict\u001b[0m\u001b[0;34m,\u001b[0m \u001b[0mget_pset\u001b[0m\u001b[0;34m\u001b[0m\u001b[0;34m\u001b[0m\u001b[0m\n\u001b[1;32m     11\u001b[0m \u001b[0;32mimport\u001b[0m \u001b[0mpandas\u001b[0m \u001b[0;32mas\u001b[0m \u001b[0mpd\u001b[0m\u001b[0;34m\u001b[0m\u001b[0;34m\u001b[0m\u001b[0m\n",
      "\u001b[0;31mModuleNotFoundError\u001b[0m: No module named 'code.metrics'; 'code' is not a package"
     ]
    }
   ],
   "source": [
    "# Code for MOGP \n",
    "\n",
    "from deap import gp\n",
    "from deap import creator, base, tools\n",
    "from deap.algorithms import varAnd\n",
    "import numpy as np\n",
    "import operator\n",
    "import random\n",
    "from code.metrics.classification_metrics import *\n",
    "from code.learners.EC.deap_extra import GP_predict, get_pset\n",
    "import pandas as pd \n",
    "\n",
    "\n",
    "def get_toolbox(pset, t_size, max_depth, X, y):\n",
    "    toolbox = base.Toolbox()\n",
    "    toolbox.register(\"expr\", gp.genHalfAndHalf, pset=pset, min_=1, max_=max_depth)\n",
    "    toolbox.register(\"individual\", tools.initIterate, creator.Individual, toolbox.expr)\n",
    "    toolbox.register(\"population\", tools.initRepeat, list, toolbox.individual)\n",
    "    toolbox.register(\"compile\", gp.compile, pset=pset)\n",
    "    toolbox.register(\"evaluate\", fitness_calculation, toolbox=toolbox, X=X, y=y) # HERE?\n",
    "    toolbox.register(\"select\", tools.selTournament, tournsize=t_size)\n",
    "    toolbox.register(\"mate\", gp.cxOnePoint)\n",
    "    toolbox.register(\"expr_mut\", gp.genHalfAndHalf, min_=0, max_=max_depth)\n",
    "    toolbox.register(\"mutate\", gp.mutUniform, expr=toolbox.expr_mut, pset=pset)\n",
    "    toolbox.decorate(\"mate\", gp.staticLimit(key=operator.attrgetter(\"height\"), max_value=max_depth))\n",
    "    toolbox.decorate(\"mutate\", gp.staticLimit(key=operator.attrgetter(\"height\"), max_value=max_depth))\n",
    "    return toolbox\n",
    "\n",
    "def fitness_calculation(individual, toolbox, X, y, w=0.5):\n",
    "    \"\"\"\n",
    "    Fitness function. Compiles GP then tests\n",
    "    \"\"\"\n",
    "    func = toolbox.compile(expr=individual)\n",
    "    # Calculated the 'ave' function\n",
    "    ypred = GP_predict(func, X, np.unique(y))\n",
    "    x = accuracy(y, ypred) # this is \n",
    "    return x,\n",
    "\n",
    "def gp_member_generation(X,y, params, seed):\n",
    "    random.seed(seed)\n",
    "    # default fitness function\n",
    "    fitness_func = fitness_calculation\n",
    "    # unpack parameters\n",
    "    max_depth = params[\"max_depth\"]\n",
    "    pc = params[\"pc\"]\n",
    "    pm = params[\"pm\"]\n",
    "    ngen = params[\"ngen\"]\n",
    "    p_size = params['p_size']\n",
    "    verbose = params[\"verbose\"]\n",
    "    t_size = params['t_size']\n",
    "\n",
    "    if 'bagging' in params:\n",
    "        fitness_func = params['fitness_function']\n",
    "        curr_ensemble = params['current_ensemble']\n",
    "\n",
    "    # Initalise primitives\n",
    "    \n",
    "    pset = get_pset(num_args=X.shape[1])\n",
    "\n",
    "    # Initialise GP settings\n",
    "    creator.create(\"FitnessMax\", base.Fitness, weights=(1.0,)) # max\n",
    "    creator.create(\"Individual\", gp.PrimitiveTree, fitness=creator.FitnessMax)\n",
    "\n",
    "    # Initalise tool box\n",
    "    toolbox = get_toolbox(pset, t_size, max_depth, X, y)\n",
    "\n",
    "    # Run GP\n",
    "    pop = toolbox.population(n=p_size)\n",
    "    print(type(pop))\n",
    "    print(type(pop[0]))\n",
    "    print(pop[0].fitness)\n",
    "    print(dir(pop[0]))\n",
    "    halloffame = tools.HallOfFame(1)\n",
    "\n",
    "    # Stats\n",
    "    stats_fit = tools.Statistics(lambda ind: ind.fitness.values)\n",
    "    stats_size = tools.Statistics(len)\n",
    "    mstats = tools.MultiStatistics(fitness=stats_fit, size=stats_size)\n",
    "    mstats.register(\"avg\", np.mean)\n",
    "    mstats.register(\"std\", np.std)\n",
    "    mstats.register(\"min\", np.min)\n",
    "    mstats.register(\"max\", np.max)\n",
    "    logbook = tools.Logbook()\n",
    "    logbook.header = ['gen', 'nevals'] + (mstats.fields if mstats else [])\n",
    "\n",
    "    # Evolution process \n",
    "    for gen in range(1, ngen + 1):\n",
    "        \n",
    "        #if verbose:\n",
    "            #print(f'Generation {gen}/{ngen}')\n",
    "        \n",
    "        \n",
    "\n",
    "        # Select the next generation individuals\n",
    "        offspring_a = toolbox.select(pop, len(pop))\n",
    "\n",
    "        # Vary the pool of individuals\n",
    "        offspring_a = varAnd(offspring_a, toolbox, pc, pm)\n",
    "\n",
    "        # Update pop a\n",
    "        invalid_ind = [ind for ind in offspring_a if not ind.fitness.valid]\n",
    "        fitnesses = toolbox.map(toolbox.evaluate, invalid_ind)\n",
    "        for ind, fit in zip(invalid_ind, fitnesses):\n",
    "            ind.fitness.values = fit\n",
    "\n",
    "        # Update the hall of fame with the generated individuals\n",
    "        if halloffame is not None:\n",
    "            halloffame.update(offspring_a)\n",
    "\n",
    "\n",
    "        # Replace the current population by the offspring\n",
    "        pop[:] = offspring_a\n",
    "\n",
    "        # Append the current generation statistics to the logbook\n",
    "        record = mstats.compile(pop) if mstats else {}\n",
    "        logbook.record(gen=gen, nevals=len(invalid_ind), **record)\n",
    "        if verbose:\n",
    "            print(logbook.stream)\n",
    "\n",
    "    df = pd.DataFrame(logbook)\n",
    "    return [toolbox.compile(ind) for ind in pop], df, [str(ind) for ind in pop], pop[0]\n",
    "\n",
    "from code.data_processing import get_data\n",
    "GP_params_1 = {\"p_size\": 1, \"max_depth\": 2, \"pc\": 0.6, \"pm\": 0.4, \"ngen\": 2, \"verbose\": False, \"t_size\": 7}\n",
    "X, y = get_data('cleveland')\n",
    "gpens, df, strs, gptree = gp_member_generation(X, y, GP_params_1, 0)"
   ]
  },
  {
   "cell_type": "code",
   "execution_count": null,
   "metadata": {},
   "outputs": [],
   "source": [
    "gptree"
   ]
  },
  {
   "cell_type": "code",
   "execution_count": null,
   "metadata": {},
   "outputs": [],
   "source": [
    "gptree.__str__()"
   ]
  },
  {
   "cell_type": "code",
   "execution_count": null,
   "metadata": {},
   "outputs": [],
   "source": [
    "type(gptree) # also primative "
   ]
  },
  {
   "cell_type": "code",
   "execution_count": null,
   "metadata": {},
   "outputs": [],
   "source": [
    " gptree.searchSubtree(0) # searched from an index, presumably along "
   ]
  },
  {
   "cell_type": "code",
   "execution_count": null,
   "metadata": {},
   "outputs": [],
   "source": [
    "gptree.root"
   ]
  },
  {
   "cell_type": "code",
   "execution_count": null,
   "metadata": {},
   "outputs": [],
   "source": [
    "gptree.root.arity"
   ]
  },
  {
   "cell_type": "code",
   "execution_count": null,
   "metadata": {},
   "outputs": [],
   "source": [
    "gptree.end"
   ]
  },
  {
   "cell_type": "code",
   "execution_count": null,
   "metadata": {},
   "outputs": [],
   "source": [
    "import copy\n",
    "import math\n",
    "import random\n",
    "import re\n",
    "import sys\n",
    "import warnings\n",
    "\n",
    "from collections import defaultdict, deque\n",
    "from functools import partial, wraps\n",
    "from inspect import isclass\n",
    "from operator import eq, lt\n",
    "\n",
    "def my_if(a, b, c):\n",
    "    if a > 0:\n",
    "        return b\n",
    "    return c\n",
    "\n",
    "def custom_get_pset(num_args):\n",
    "    pset = gp.PrimitiveSet(\"MAIN\", num_args)\n",
    "    pset.addPrimitive(my_if, 3)\n",
    "    for n in range(num_args):\n",
    "        pset.renameArguments(ARG0=f'x{n}')\n",
    "    pset.addTerminal(3)\n",
    "    pset.addTerminal(2)\n",
    "    pset.addTerminal(1)\n",
    "    return pset\n",
    "\n",
    "pset = custom_get_pset(3)\n",
    "\n",
    "def f_generate(pset, min_, max_, type_=None):\n",
    "    if type_ is None:\n",
    "        type_ = pset.ret\n",
    "        \n",
    "    def condition(height, depth):\n",
    "        \"\"\"Expression generation stops when the depth is equal to height\n",
    "        or when it is randomly determined that a node should be a terminal.\n",
    "        \"\"\"\n",
    "        return depth == height or \\\n",
    "               (depth >= min_ and random.random() < pset.terminalRatio)\n",
    "    \n",
    "    expr = []\n",
    "    height = random.randint(min_, max_)\n",
    "    stack = [(0, type_)]\n",
    "    while len(stack) != 0:\n",
    "        depth, type_ = stack.pop()\n",
    "        if condition(height, depth):\n",
    "            try:\n",
    "                term = random.choice(pset.terminals[type_])\n",
    "            except IndexError:\n",
    "                _, _, traceback = sys.exc_info()\n",
    "                raise IndexError(\"The gp.generate function tried to add \" \\\n",
    "                                  \"a terminal of type '%s', but there is \" \\\n",
    "                                  \"none available.\" % (type_,)).with_traceback(traceback)\n",
    "            if isclass(term):\n",
    "                term = term()\n",
    "            expr.append(term)\n",
    "        else:\n",
    "            try:\n",
    "                prim = random.choice(pset.primitives[type_])\n",
    "            except IndexError:\n",
    "                _, _, traceback = sys.exc_info()\n",
    "                raise IndexError(\"The gp.generate function tried to add \" \\\n",
    "                                  \"a primitive of type '%s', but there is \" \\\n",
    "                                  \"none available.\" % (type_,)).with_traceback(traceback)\n",
    "            expr.append(prim)\n",
    "            for arg in reversed(prim.args):\n",
    "                stack.append((depth + 1, arg))\n",
    "    return expr\n",
    "\n",
    "\n",
    "    \n",
    "z = f_generate(pset, 2, 3, None)\n",
    "print(z)\n",
    "for zz in z:\n",
    "    print(zz)"
   ]
  },
  {
   "cell_type": "code",
   "execution_count": null,
   "metadata": {},
   "outputs": [],
   "source": [
    "pset"
   ]
  },
  {
   "cell_type": "code",
   "execution_count": null,
   "metadata": {},
   "outputs": [],
   "source": [
    "gptree.from_string('sub 2 2 ', pset=pset)"
   ]
  },
  {
   "cell_type": "code",
   "execution_count": null,
   "metadata": {},
   "outputs": [],
   "source": [
    "gptree.__class__"
   ]
  },
  {
   "cell_type": "code",
   "execution_count": null,
   "metadata": {},
   "outputs": [],
   "source": [
    "type(gptree)"
   ]
  },
  {
   "cell_type": "code",
   "execution_count": null,
   "metadata": {},
   "outputs": [],
   "source": [
    "gptree.from_string(None, None)"
   ]
  },
  {
   "cell_type": "code",
   "execution_count": null,
   "metadata": {},
   "outputs": [],
   "source": [
    "for x in gptree:\n",
    "    print(x.name)\n",
    "    print(x.arity)\n",
    "    print(x.args)\n",
    "    print(x.ret)\n",
    "    print(x.seq)\n"
   ]
  },
  {
   "cell_type": "code",
   "execution_count": null,
   "metadata": {},
   "outputs": [],
   "source": [
    "for x in gptree:\n",
    "    print(x.format())"
   ]
  },
  {
   "cell_type": "code",
   "execution_count": null,
   "metadata": {},
   "outputs": [],
   "source": [
    "gptree.__str__()"
   ]
  },
  {
   "cell_type": "code",
   "execution_count": null,
   "metadata": {},
   "outputs": [],
   "source": [
    "from collections import deque\n",
    "d= deque()\n",
    "deque.extendleft([1,2,3])"
   ]
  },
  {
   "cell_type": "code",
   "execution_count": null,
   "metadata": {},
   "outputs": [],
   "source": [
    "breakpoint()k"
   ]
  },
  {
   "cell_type": "code",
   "execution_count": null,
   "metadata": {},
   "outputs": [],
   "source": [
    "import pdb"
   ]
  },
  {
   "cell_type": "code",
   "execution_count": null,
   "metadata": {},
   "outputs": [],
   "source": [
    "z = ['|--- feature_9 <= 0.70', '||--- feature_0 <= 58.50', '|||--- feature_10 <= 1.50', '||||--- feature_3 <= 115.00', '|||||--- feature_11 <= 0.50', '||||||--- class: 0.0', '|||||--- feature_11 > 0.50', '||||||--- class: 1.0', '||||--- feature_3 > 115.00', '|||||--- class: 0.0', '|||--- feature_10 > 1.50', '||||--- feature_11 <= 0.50', '|||||--- class: 0.0', '||||--- feature_11 > 0.50', '|||||--- feature_10 <= 2.50', '||||||--- class: 1.0', '|||||--- feature_10 > 2.50', '||||||--- class: 0.0', '||--- feature_0 > 58.50', '|||--- feature_2 <= 1.50', '||||--- class: 1.0', '|||--- feature_2 > 1.50', '||||--- feature_0 <= 65.50', '|||||--- feature_12 <= 6.50', '||||||--- class: 1.0', '|||||--- feature_12 > 6.50', '||||||--- class: 0.0', '||||--- feature_0 > 65.50', '|||||--- class: 0.0', '|--- feature_9 > 0.70', '||--- feature_2 <= 3.50', '|||--- feature_2 <= 1.50', '||||--- feature_10 <= 1.50', '|||||--- class: 0.0', '||||--- feature_10 > 1.50', '|||||--- class: 1.0', '|||--- feature_2 > 1.50', '||||--- feature_0 <= 58.00', '|||||--- class: 0.0', '||||--- feature_0 > 58.00', '|||||--- class: 1.0', '||--- feature_2 > 3.50', '|||--- feature_8 <= 0.50', '||||--- feature_1 <= 0.50', '|||||--- class: 1.0', '||||--- feature_1 > 0.50', '|||||--- feature_7 <= 170.50', '||||||--- class: 1.0', '|||||--- feature_7 > 170.50', '||||||--- class: 0.0', '|||--- feature_8 > 0.50', '||||--- class: 1.0']"
   ]
  },
  {
   "cell_type": "code",
   "execution_count": null,
   "metadata": {},
   "outputs": [],
   "source": [
    "for x in z:\n",
    "    print(x)"
   ]
  },
  {
   "cell_type": "code",
   "execution_count": null,
   "metadata": {},
   "outputs": [],
   "source": []
  }
 ],
 "metadata": {
  "kernelspec": {
   "display_name": "Python 3",
   "language": "python",
   "name": "python3"
  },
  "language_info": {
   "codemirror_mode": {
    "name": "ipython",
    "version": 3
   },
   "file_extension": ".py",
   "mimetype": "text/x-python",
   "name": "python",
   "nbconvert_exporter": "python",
   "pygments_lexer": "ipython3",
   "version": "3.9.12"
  }
 },
 "nbformat": 4,
 "nbformat_minor": 4
}
